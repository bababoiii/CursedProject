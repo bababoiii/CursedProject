{
  "cells": [
    {
      "cell_type": "markdown",
      "metadata": {
        "id": "IRMy67HLJIOw"
      },
      "source": [
        "# Оглавление"
      ]
    },
    {
      "cell_type": "markdown",
      "metadata": {
        "id": "SWgpEB9sJHNy"
      },
      "source": [
        "# Часть 0 : Играем в песочнице"
      ]
    },
    {
      "cell_type": "markdown",
      "metadata": {
        "id": "yZ-AGdy4-KcU"
      },
      "source": [
        "Установим все нужные библиотеки"
      ]
    },
    {
      "cell_type": "code",
      "execution_count": 26,
      "metadata": {
        "id": "WWRCT6Taa7Yi"
      },
      "outputs": [],
      "source": [
        "import pandas as pd\n",
        "import numpy as np\n",
        "import tensorflow as tf\n",
        "import random as rnd\n",
        "import itertools\n",
        "from tensorflow import keras\n",
        "from tensorflow.keras import Model, Input, Sequential, models, layers, optimizers, regularizers, callbacks\n",
        "from tensorflow.keras.callbacks import EarlyStopping\n",
        "from sklearn.model_selection import train_test_split\n",
        "from sklearn.utils.class_weight import compute_class_weight\n",
        "import scipy as scp\n",
        "import matplotlib.pyplot as plt\n",
        "import zipfile\n",
        "import json\n",
        "%matplotlib inline\n",
        "\n",
        "eps = 1e-10"
      ]
    },
    {
      "cell_type": "code",
      "execution_count": 27,
      "metadata": {
        "colab": {
          "base_uri": "https://localhost:8080/"
        },
        "id": "GPQ4EmxslWnS",
        "outputId": "ccfcf1c1-0e29-4b57-8f9e-002f62ea9f8e"
      },
      "outputs": [
        {
          "name": "stdout",
          "output_type": "stream",
          "text": [
            "Mounted at /content/drive\n"
          ]
        }
      ],
      "source": [
        "from google.colab import drive\n",
        "drive.mount('/content/drive', force_remount=True)"
      ]
    },
    {
      "cell_type": "markdown",
      "metadata": {
        "id": "0LQ5p4UlfLhF"
      },
      "source": [
        "Пока мы ещё маленькие и совсем ничего не понимаем в нейросетях. Сделаем простую игру (что-то в духе камень-ножницы-бумага), чтобы проверить, работает ли модель в принципе и научится ей пользоваться для более сложной задачи, которая ждёт нас впереди."
      ]
    },
    {
      "cell_type": "code",
      "execution_count": null,
      "metadata": {
        "id": "HKJclr3D_xd3"
      },
      "outputs": [],
      "source": [
        "def game_1():\n",
        "    ### ЭТАП 1: МОДЕЛЬ ###\n",
        "    model = models.Sequential([\n",
        "        layers.InputLayer(shape=(2,)),  # Вход: 2 героя\n",
        "        layers.Dense(16, activation='relu'),  # Скрытый слой\n",
        "        layers.Dense(1, activation='sigmoid')  # Выход: Победитель (0 или 1)\n",
        "    ])\n",
        "\n",
        "    ### ЭТАП 2: ОБУЧЕНИЕ ###\n",
        "    '''\n",
        "    Генерируем матчи:\n",
        "    a и b - от 1 до 3.\n",
        "    Если они совпадают, то мы их не добавляем (мы пока не рассматриваем ничьи)\n",
        "\n",
        "    '''\n",
        "    X = np.array([\n",
        "        [a, b] for _ in range(1500)\n",
        "        for a, b in [(rnd.randint(1, 3), rnd.randint(1, 3))]\n",
        "        if a != b\n",
        "    ])\n",
        "    Y = np.array([0 if a < b else 1 for a, b in X]) # Номер победившего в паре игрока\n",
        "\n",
        "    model.compile(optimizer='adam', loss='binary_crossentropy', metrics=['accuracy'])\n",
        "    model.fit(X, Y, epochs=50, batch_size=10, verbose=0)\n",
        "\n",
        "    ### ЭТАП 3: ТЕСТИРОВАНИЕ ###\n",
        "\n",
        "    # Теперь создадим тестовые игры, чтобы проверить, что нейросеть обучилась\n",
        "    X_test = np.array([\n",
        "        [a, b] for _ in range(10)\n",
        "        for a, b in [(rnd.randint(1, 3), rnd.randint(1, 3))]\n",
        "        if a != b\n",
        "    ])\n",
        "\n",
        "    Y_test = np.array([0 if a < b else 1 for a, b in X_test]) # Правильные ответы\n",
        "    y_pred = (model.predict(X_test) > 0.5).astype(int)  # Предсказания нашей модели\n",
        "    errors = 0\n",
        "\n",
        "    # Сравниваем\n",
        "    for i in range(len(y_pred)):\n",
        "        p1 = ['A', 'B', 'C'][X_test[i][0] - 1]\n",
        "        p2 = ['A', 'B', 'C'][X_test[i][1] - 1]\n",
        "        if y_pred[i] != Y_test[i]:\n",
        "            print(f\"Ошибка! {i+1}) {p1} против {p2}, победил не {p2 if y_pred[i] else p1}\")\n",
        "            errors += 1\n",
        "        else:\n",
        "            print(f\"{i+1}) {p1} против {p2} => Победитель: {p2 if y_pred[i] else p1}\")\n",
        "    print(\"Процент ошибок:\", round((errors / len(Y_test)) * 100, 2), \"%\")"
      ]
    },
    {
      "cell_type": "code",
      "execution_count": null,
      "metadata": {
        "colab": {
          "base_uri": "https://localhost:8080/"
        },
        "id": "WedWR9aGAlsR",
        "outputId": "9e276925-90a5-4445-9fcb-5fa4481a39ad"
      },
      "outputs": [
        {
          "name": "stdout",
          "output_type": "stream",
          "text": [
            "\u001b[1m1/1\u001b[0m \u001b[32m━━━━━━━━━━━━━━━━━━━━\u001b[0m\u001b[37m\u001b[0m \u001b[1m0s\u001b[0m 83ms/step\n",
            "1) C против A => Победитель: A\n",
            "2) B против C => Победитель: B\n",
            "3) A против B => Победитель: A\n",
            "4) A против C => Победитель: A\n",
            "5) A против B => Победитель: A\n",
            "6) B против A => Победитель: A\n",
            "7) B против C => Победитель: B\n",
            "8) B против C => Победитель: B\n",
            "9) B против C => Победитель: B\n",
            "Процент ошибок: 0.0 %\n"
          ]
        }
      ],
      "source": [
        "game_1()"
      ]
    },
    {
      "cell_type": "markdown",
      "metadata": {
        "id": "J9LcAJSfBVsi"
      },
      "source": [
        "P.s. В дальнейшем мы не будем так подробно расписывать комментарии"
      ]
    },
    {
      "cell_type": "markdown",
      "metadata": {
        "id": "i7v22hosopeu"
      },
      "source": [
        " Всё работает, отлично - модель научилась угадывать победителя. Теперь напишем, чтобы она сама участвовала в игре и выбирала себе героя."
      ]
    },
    {
      "cell_type": "code",
      "execution_count": null,
      "metadata": {
        "id": "kneotJNv2Q51"
      },
      "outputs": [],
      "source": [
        "def game_2():\n",
        "    np.random.seed(42)\n",
        "    tf.random.set_seed(42)\n",
        "\n",
        "    ### ЭТАП 1: МОДЕЛЬ ###\n",
        "    def reward(a, b):\n",
        "        return ([a, b] in [[0, 1], [0, 2], [1, 2]]) # 0 всегда выигрывает\n",
        "\n",
        "    model = keras.Sequential([\n",
        "        keras.layers.Input(shape=(1,)), # Вход : заглушка\n",
        "        keras.layers.Dense(3, activation='softmax')  # Выход: 3 героя, p их выбора\n",
        "    ])\n",
        "    optimizer = keras.optimizers.Adam(learning_rate=0.01)\n",
        "\n",
        "    ### ЭТАП 2: ОБУЧЕНИЕ ###\n",
        "    num_episodes = 300   # Эпохи обучения\n",
        "    games_per_episode = 50    # Матчей за одну эпоху\n",
        "\n",
        "    for episode in range(num_episodes):\n",
        "        with tf.GradientTape() as tape:\n",
        "            # Вероятности для хода\n",
        "            state_input = tf.ones((games_per_episode, 1), dtype=tf.float32)\n",
        "            probs = model(state_input, training=True)\n",
        "            log_probs = tf.math.log(probs + eps)\n",
        "\n",
        "            # Генерируем ходы модели\n",
        "            sampled_actions = tf.random.categorical(log_probs, num_samples=1)\n",
        "            sampled_actions = tf.squeeze(sampled_actions, axis=1)\n",
        "\n",
        "            # Считаем награду\n",
        "            rewards = []\n",
        "            for i in range(games_per_episode):\n",
        "                model_hero = sampled_actions[i].numpy()\n",
        "                possible_opp_moves = [x for x in [0,1,2] if x != model_hero]\n",
        "                opp_hero = np.random.choice(possible_opp_moves)\n",
        "                rewards.append(reward(model_hero, opp_hero))\n",
        "\n",
        "            rewards = tf.constant(rewards, dtype=tf.float32)\n",
        "            chosen_action_log_p = tf.reduce_sum(\n",
        "                tf.one_hot(sampled_actions, depth=3) * log_probs,\n",
        "                axis=1\n",
        "            )\n",
        "            loss = -tf.reduce_mean(rewards * chosen_action_log_p)\n",
        "\n",
        "        # Корректируем модель, обновляем веса\n",
        "        grads = tape.gradient(loss, model.trainable_variables)\n",
        "        optimizer.apply_gradients(zip(grads, model.trainable_variables))\n",
        "\n",
        "        # Выводим статистику\n",
        "        if (episode + 1) % 20 == 0:\n",
        "            mean_reward = tf.reduce_mean(rewards)\n",
        "            print(f\"Episode {episode + 1}/{num_episodes} | Mean reward: {round(mean_reward.numpy(), 2)} | Loss: {round(loss.numpy(), 3)}\")\n",
        "\n",
        "    ### ЭТАП 3: ТЕСТИРОВАНИЕ ###\n",
        "    print('-' * 52 + '\\nТестирование\\n' + '-' * 52)\n",
        "    N_test = 1000\n",
        "    test_input = tf.ones((N_test, 1), dtype=tf.float32)\n",
        "    test_probs = model(test_input, training=False)\n",
        "    test_log_probs = tf.math.log(test_probs + 1e-10)\n",
        "    test_actions = tf.random.categorical(test_log_probs, num_samples=1)\n",
        "    test_actions = tf.squeeze(test_actions, axis=1).numpy()\n",
        "\n",
        "    wins = 0\n",
        "    L = ['A', 'B', 'C']\n",
        "    for i in range(N_test):\n",
        "        model_hero = test_actions[i]\n",
        "        opp_hero = np.random.choice([x for x in [0, 1, 2] if x != model_hero])\n",
        "        if reward(model_hero, opp_hero):\n",
        "            wins += 1\n",
        "            if i % 50 == 0:\n",
        "                print(f\"Модель с героем {L[model_hero]} обыграла героя соперника {L[opp_hero]}\")\n",
        "        else:\n",
        "            if i % 50 == 0:\n",
        "                print(f\"x - Модель с героем {L[model_hero]} проиграла герою соперника {L[opp_hero]}\")\n",
        "\n",
        "    win_percent = 100.0 * wins / N_test\n",
        "    print(f\"\\nРезультат: модель выиграла в {round(win_percent, 2)}% случаев.\")"
      ]
    },
    {
      "cell_type": "code",
      "execution_count": null,
      "metadata": {
        "colab": {
          "base_uri": "https://localhost:8080/"
        },
        "id": "xaBO80XpCVWc",
        "outputId": "5ba4e425-9959-4754-ecff-ff24fabea6e6"
      },
      "outputs": [
        {
          "name": "stdout",
          "output_type": "stream",
          "text": [
            "Episode 20/300 | Mean reward: 0.8199999928474426 | Loss: 0.527999997138977\n",
            "Episode 40/300 | Mean reward: 0.8199999928474426 | Loss: 0.18400000035762787\n",
            "Episode 60/300 | Mean reward: 0.8600000143051147 | Loss: 0.11100000143051147\n",
            "Episode 80/300 | Mean reward: 0.9399999976158142 | Loss: 0.07999999821186066\n",
            "Episode 100/300 | Mean reward: 0.9800000190734863 | Loss: 0.13300000131130219\n",
            "Episode 120/300 | Mean reward: 0.9200000166893005 | Loss: 0.04399999976158142\n",
            "Episode 140/300 | Mean reward: 0.9800000190734863 | Loss: 0.03700000047683716\n",
            "Episode 160/300 | Mean reward: 0.9599999785423279 | Loss: 0.03099999949336052\n",
            "Episode 180/300 | Mean reward: 0.9800000190734863 | Loss: 0.11500000208616257\n",
            "Episode 200/300 | Mean reward: 0.9800000190734863 | Loss: 0.11400000005960464\n",
            "Episode 220/300 | Mean reward: 1.0 | Loss: 0.11400000005960464\n",
            "Episode 240/300 | Mean reward: 1.0 | Loss: 0.017999999225139618\n",
            "Episode 260/300 | Mean reward: 1.0 | Loss: 0.01600000075995922\n",
            "Episode 280/300 | Mean reward: 1.0 | Loss: 0.014000000432133675\n",
            "Episode 300/300 | Mean reward: 1.0 | Loss: 0.013000000268220901\n",
            "----------------------------------------------------\n",
            "Тестирование\n",
            "----------------------------------------------------\n",
            "Модель с героем A обыграла героя соперника C\n",
            "Модель с героем A обыграла героя соперника B\n",
            "Модель с героем A обыграла героя соперника B\n",
            "Модель с героем A обыграла героя соперника C\n",
            "Модель с героем A обыграла героя соперника C\n",
            "Модель с героем A обыграла героя соперника C\n",
            "Модель с героем A обыграла героя соперника C\n",
            "Модель с героем A обыграла героя соперника C\n",
            "x - Модель с героем B проиграла герою соперника A\n",
            "Модель с героем B обыграла героя соперника C\n",
            "Модель с героем A обыграла героя соперника B\n",
            "Модель с героем A обыграла героя соперника B\n",
            "Модель с героем A обыграла героя соперника C\n",
            "Модель с героем A обыграла героя соперника C\n",
            "Модель с героем A обыграла героя соперника C\n",
            "Модель с героем A обыграла героя соперника C\n",
            "Модель с героем A обыграла героя соперника C\n",
            "Модель с героем A обыграла героя соперника C\n",
            "Модель с героем A обыграла героя соперника C\n",
            "Модель с героем A обыграла героя соперника B\n",
            "\n",
            "Результат: модель выиграла в 98.9% случаев.\n"
          ]
        }
      ],
      "source": [
        "game_2()"
      ]
    },
    {
      "cell_type": "markdown",
      "metadata": {
        "id": "kXFFnVSuXpyu"
      },
      "source": [
        "УРААААА ГОООООЛ, он что-то выиграл.\n",
        "Это здорово, что он придумал невероятную тактику всегда выбирать героя А, но что, если правила С будет бить А, а не наоборот. Да и вообще, пора матрицу игр писать, ничью добавить...\n",
        "А ещё устроим дополнительную проверку модели на адекватность - нужно будет выбирать свой ход исходя из хода соперника (\"если у соперника ножницы, то очевидно нужен камень\", и т.д.)\n",
        "\n",
        "p.s. можно заметить, что это уже немного похоже на задачу, которую нам предстоит решить"
      ]
    },
    {
      "cell_type": "markdown",
      "metadata": {
        "id": "o6F-aLIug90N"
      },
      "source": [
        "ОБУЧЕНИЕ"
      ]
    },
    {
      "cell_type": "code",
      "execution_count": null,
      "metadata": {
        "id": "AZ8KS7WyVCQ8"
      },
      "outputs": [],
      "source": [
        "def game_3():\n",
        "    ### ЭТАП 1 : МОДЕЛЬ ###\n",
        "\n",
        "    '''\n",
        "     Матрица выигрышей:\n",
        "    0.5 – ничья, 1 – победа, 0 – поражение\n",
        "    '''\n",
        "    matrix = [[0.5, 1, 0], [0, 0.5, 1], [1, 0, 0.5]]\n",
        "    def reward(a, b):\n",
        "        return matrix[a][b]\n",
        "\n",
        "    model = keras.Sequential([\n",
        "        keras.layers.Input(shape=(1,)), # Вход : 1 герой соперника\n",
        "        keras.layers.Embedding(input_dim=3, output_dim=4),\n",
        "        keras.layers.Flatten(),\n",
        "        keras.layers.Dense(3, activation='softmax')  # Выход: 3 героя, p их выбора\n",
        "    ])\n",
        "    optimizer = keras.optimizers.Adam(learning_rate=0.01)\n",
        "\n",
        "    ### ЭТАП 2 : ОБУЧЕНИЕ ###\n",
        "    num_episodes = 300   # Эпохи обучения\n",
        "    games_per_episode = 50    # Матчей за одну эпоху\n",
        "\n",
        "    for episode in range(num_episodes):\n",
        "        with tf.GradientTape() as tape:\n",
        "            # Ходы соперника\n",
        "            opp_hero = np.random.randint(0, 3, size=games_per_episode)\n",
        "\n",
        "            # Ходы модели\n",
        "            state_input = tf.constant(opp_hero, dtype=tf.float32)\n",
        "            state_input = tf.reshape(state_input, (games_per_episode, 1))\n",
        "            probs = model(state_input, training=True)\n",
        "            log_probs = tf.math.log(probs + eps)\n",
        "            sampled_actions = tf.random.categorical(log_probs, num_samples=1)\n",
        "            sampled_actions = tf.squeeze(sampled_actions, axis=1)\n",
        "\n",
        "            # Награда\n",
        "            rewards = []\n",
        "            for i in range(games_per_episode):\n",
        "                model_hero = sampled_actions[i].numpy()\n",
        "                rewards.append(reward(model_hero, opp_hero[i]))\n",
        "\n",
        "            rewards = tf.constant(rewards, dtype=tf.float32)\n",
        "            chosen_action_log_p = tf.reduce_sum(\n",
        "                tf.one_hot(sampled_actions, depth=3) * log_probs,\n",
        "                axis=1\n",
        "            )\n",
        "            loss = -tf.reduce_mean(rewards * chosen_action_log_p)\n",
        "\n",
        "        # Корректировка\n",
        "        grads = tape.gradient(loss, model.trainable_variables)\n",
        "        optimizer.apply_gradients(zip(grads, model.trainable_variables))\n",
        "\n",
        "        # Статистика\n",
        "        if (episode + 1) % 20 == 0:\n",
        "            mean_reward = tf.reduce_mean(rewards)\n",
        "            print(f\"Episode {episode+1}/{num_episodes} | Mean reward: {round(mean_reward.numpy(), 2)} | Loss: {round(loss.numpy(), 3)}\")\n",
        "\n",
        "    ### ЭТАП 3 : ТЕСТИРОВАНИЕ ###\n",
        "    print('-' * 52 + '\\nТестирование\\n' + '-' * 52)\n",
        "    N_test = 1000\n",
        "    opp_hero_test = np.random.randint(0, 3, size=N_test)\n",
        "    test_input = tf.constant(opp_hero_test, dtype=tf.float32)\n",
        "    test_input = tf.reshape(test_input, (N_test, 1))\n",
        "\n",
        "    test_probs = model(test_input, training=False)\n",
        "    test_log_probs = tf.math.log(test_probs + eps)\n",
        "    test_actions = tf.random.categorical(test_log_probs, num_samples=1)\n",
        "    test_actions = tf.squeeze(test_actions, axis=1).numpy()\n",
        "\n",
        "    wins = 0\n",
        "    L = ['A', 'B', 'C']\n",
        "    for i in range(N_test):\n",
        "        model_hero = test_actions[i]\n",
        "        opp_hero = opp_hero_test[i]\n",
        "        r = reward(model_hero, opp_hero)\n",
        "        wins += r\n",
        "        if i % 50 == 0 or r < 1:\n",
        "            if r == 1.0:\n",
        "                print(f\"Модель с героем {L[model_hero]} обыграла героя соперника {L[opp_hero]}\")\n",
        "            elif r:\n",
        "                print(f\"Модель с героем {L[model_hero]} сыграла вничью с героем соперника {L[opp_hero]}\")\n",
        "            else:\n",
        "                print(f\"Ошибка! Модель с героем {L[model_hero]} проиграла герою соперника {L[opp_hero]}\")\n",
        "\n",
        "    win_percent = 100.0 * wins / N_test\n",
        "    print(f\"\\nИтоговая проверка: модель выиграла в {round(win_percent, 2)}% матчей.\")"
      ]
    },
    {
      "cell_type": "code",
      "execution_count": null,
      "metadata": {
        "colab": {
          "base_uri": "https://localhost:8080/"
        },
        "id": "IwPiV7TjZ_B4",
        "outputId": "8f7a2763-3d5b-45fd-c79e-92763595cb01"
      },
      "outputs": [
        {
          "name": "stdout",
          "output_type": "stream",
          "text": [
            "Episode 20/300 | Mean reward: 0.5299999713897705 | Loss: 0.421999990940094\n",
            "Episode 40/300 | Mean reward: 0.8399999737739563 | Loss: 0.33000001311302185\n",
            "Episode 60/300 | Mean reward: 0.9100000262260437 | Loss: 0.13899999856948853\n",
            "Episode 80/300 | Mean reward: 1.0 | Loss: 0.019999999552965164\n",
            "Episode 100/300 | Mean reward: 0.9800000190734863 | Loss: 0.009999999776482582\n",
            "Episode 120/300 | Mean reward: 0.9900000095367432 | Loss: 0.0560000017285347\n",
            "Episode 140/300 | Mean reward: 1.0 | Loss: 0.004999999888241291\n",
            "Episode 160/300 | Mean reward: 1.0 | Loss: 0.004000000189989805\n",
            "Episode 180/300 | Mean reward: 1.0 | Loss: 0.003000000026077032\n",
            "Episode 200/300 | Mean reward: 1.0 | Loss: 0.0020000000949949026\n",
            "Episode 220/300 | Mean reward: 1.0 | Loss: 0.0020000000949949026\n",
            "Episode 240/300 | Mean reward: 1.0 | Loss: 0.0010000000474974513\n",
            "Episode 260/300 | Mean reward: 1.0 | Loss: 0.0010000000474974513\n",
            "Episode 280/300 | Mean reward: 1.0 | Loss: 0.0010000000474974513\n",
            "Episode 300/300 | Mean reward: 1.0 | Loss: 0.0010000000474974513\n",
            "----------------------------------------------------\n",
            "Тестирование\n",
            "----------------------------------------------------\n",
            "Модель с героем A обыграла героя соперника B\n",
            "Модель с героем C обыграла героя соперника A\n",
            "Модель с героем A обыграла героя соперника B\n",
            "Модель с героем A обыграла героя соперника B\n",
            "Модель с героем B обыграла героя соперника C\n",
            "Модель с героем A обыграла героя соперника B\n",
            "Модель с героем C обыграла героя соперника A\n",
            "Модель с героем C обыграла героя соперника A\n",
            "Модель с героем A обыграла героя соперника B\n",
            "Модель с героем A обыграла героя соперника B\n",
            "Модель с героем B обыграла героя соперника C\n",
            "Модель с героем A обыграла героя соперника B\n",
            "Модель с героем A обыграла героя соперника B\n",
            "Модель с героем C обыграла героя соперника A\n",
            "Ошибка! Модель с героем B проиграла герою соперника A\n",
            "Модель с героем A обыграла героя соперника B\n",
            "Модель с героем B обыграла героя соперника C\n",
            "Модель с героем B обыграла героя соперника C\n",
            "Модель с героем C обыграла героя соперника A\n",
            "Модель с героем A обыграла героя соперника B\n",
            "Модель с героем B обыграла героя соперника C\n",
            "\n",
            "Итоговая проверка: модель выиграла в 99.9% матчей.\n"
          ]
        }
      ],
      "source": [
        "game_3()"
      ]
    },
    {
      "cell_type": "markdown",
      "metadata": {
        "id": "MO7LPKoNnLPM"
      },
      "source": [
        "Потрясающе, какие мы молодцы.\n",
        "Теперь представим, что героев у нас не 3, а там, 200. А ещё мы живём в реальном мире, где и везде и повсюду вероятности, так, что есть шанс у героя в неравной схватке с другим изредка выйти победителем.\n",
        "\n",
        "Все эти вероятности мы учтём в нашей матрице, а после этого проверим нашу модель на работоспособность в самых что ни на есть боевых условиях"
      ]
    },
    {
      "cell_type": "code",
      "execution_count": 38,
      "metadata": {
        "id": "DQrf9dq4e3HD"
      },
      "outputs": [],
      "source": [
        "def game_4(matrix, hero_number=200):\n",
        "    ### ЭТАП 1 : МОДЕЛЬ ###\n",
        "    def reward(a, b):\n",
        "        return 1 if rnd.random() < matrix[a][b] else 0\n",
        "\n",
        "    model = keras.Sequential([\n",
        "        keras.layers.Input(shape=(1,)), # Вход : 1 герой соперника\n",
        "        keras.layers.Embedding(input_dim=hero_number, output_dim=hero_number+1),\n",
        "        keras.layers.Flatten(),\n",
        "        keras.layers.Dense(hero_number, activation='softmax')\n",
        "    ])\n",
        "    optimizer = keras.optimizers.Adam(learning_rate=0.01)\n",
        "\n",
        "    ### ЭТАП 2 : ОБУЧЕНИЕ ###\n",
        "    num_episodes = 300   # Эпохи обучения\n",
        "    games_per_episode = 50    # Матчей за одну эпоху\n",
        "\n",
        "    for episode in range(num_episodes):\n",
        "        with tf.GradientTape() as tape:\n",
        "            # Ходы соперника\n",
        "            opp_hero = np.random.randint(0, hero_number, size=games_per_episode)\n",
        "\n",
        "            # Ходы модели\n",
        "            state_input = tf.constant(opp_hero, dtype=tf.float32)\n",
        "            state_input = tf.reshape(state_input, (games_per_episode, 1))\n",
        "            probs = model(state_input, training=True)\n",
        "            log_probs = tf.math.log(probs + eps)\n",
        "            sampled_actions = tf.random.categorical(log_probs, num_samples=1)\n",
        "            sampled_actions = tf.squeeze(sampled_actions, axis=1)\n",
        "\n",
        "            # Награда\n",
        "            rewards = []\n",
        "            for i in range(games_per_episode):\n",
        "                model_hero = sampled_actions[i].numpy()\n",
        "                rewards.append(reward(model_hero, opp_hero[i]))\n",
        "\n",
        "            rewards = tf.constant(rewards, dtype=tf.float32)\n",
        "            chosen_action_log_p = tf.reduce_sum(\n",
        "                tf.one_hot(sampled_actions, depth=hero_number) * log_probs,\n",
        "                axis=1\n",
        "            )\n",
        "            loss = -tf.reduce_mean(rewards * chosen_action_log_p)\n",
        "\n",
        "        # Корректировка\n",
        "        grads = tape.gradient(loss, model.trainable_variables)\n",
        "        optimizer.apply_gradients(zip(grads, model.trainable_variables))\n",
        "\n",
        "        # Статистика\n",
        "        if (episode + 1) % 20 == 0:\n",
        "            mean_reward = tf.reduce_mean(rewards)\n",
        "            print(f\"Episode {episode+1}/{num_episodes} | Mean reward: {round(mean_reward.numpy(), 2)} | Loss: {round(loss.numpy(), 3)}\")\n",
        "\n",
        "    ### ЭТАП 3 : ТЕСТИРОВАНИЕ ###\n",
        "    print('-' * 52 + '\\nТестирование\\n' + '-' * 52)\n",
        "    N_test = 1000\n",
        "    print(hero_number)\n",
        "    opp_hero_test = np.random.randint(0, hero_number, size=N_test)\n",
        "    test_input = tf.constant(opp_hero_test, dtype=tf.float32)\n",
        "    test_input = tf.reshape(test_input, (N_test, 1))\n",
        "\n",
        "    test_probs = model(test_input, training=False)\n",
        "    test_log_probs = tf.math.log(test_probs + eps)\n",
        "    test_actions = tf.random.categorical(test_log_probs, num_samples=1)\n",
        "    test_actions = tf.squeeze(test_actions, axis=1).numpy()\n",
        "\n",
        "    wins = 0\n",
        "    L = [chr(i + 100) for i in range(hero_number)]\n",
        "    for i in range(N_test):\n",
        "        model_hero = test_actions[i]\n",
        "        opp_hero = opp_hero_test[i]\n",
        "        r = reward(model_hero, opp_hero)\n",
        "        wins += r\n",
        "        if i % 50 == 0:\n",
        "            if r:\n",
        "                print(f\"Модель с героем {L[model_hero]} обыграла героя соперника {L[opp_hero]}\")\n",
        "            else:\n",
        "                print(f\"Ошибка! Модель с героем {L[model_hero]} проиграла герою соперника {L[opp_hero]}\")\n",
        "\n",
        "    win_percent = 100.0 * wins / N_test\n",
        "    print(f\"\\nИтоговая проверка: модель выиграла в {round(win_percent, 2)}% матчей.\")"
      ]
    },
    {
      "cell_type": "code",
      "execution_count": 39,
      "metadata": {
        "colab": {
          "base_uri": "https://localhost:8080/"
        },
        "id": "_4RE92Ule-RK",
        "outputId": "3eabfea2-2507-4c9f-e0cb-6abc86343470"
      },
      "outputs": [
        {
          "name": "stdout",
          "output_type": "stream",
          "text": [
            "Episode 20/300 | Mean reward: 0.3799999952316284 | Loss: 2.0199999809265137\n",
            "Episode 40/300 | Mean reward: 0.4399999976158142 | Loss: 2.319000005722046\n",
            "Episode 60/300 | Mean reward: 0.5199999809265137 | Loss: 2.7149999141693115\n",
            "Episode 80/300 | Mean reward: 0.5600000023841858 | Loss: 2.9030001163482666\n",
            "Episode 100/300 | Mean reward: 0.5 | Loss: 2.5420000553131104\n",
            "Episode 120/300 | Mean reward: 0.47999998927116394 | Loss: 2.2809998989105225\n",
            "Episode 140/300 | Mean reward: 0.6399999856948853 | Loss: 2.677000045776367\n",
            "Episode 160/300 | Mean reward: 0.6399999856948853 | Loss: 2.3459999561309814\n",
            "Episode 180/300 | Mean reward: 0.6800000071525574 | Loss: 1.906000018119812\n",
            "Episode 200/300 | Mean reward: 0.5799999833106995 | Loss: 1.2170000076293945\n",
            "Episode 220/300 | Mean reward: 0.699999988079071 | Loss: 1.2130000591278076\n",
            "Episode 240/300 | Mean reward: 0.5799999833106995 | Loss: 0.949999988079071\n",
            "Episode 260/300 | Mean reward: 0.7200000286102295 | Loss: 0.7379999756813049\n",
            "Episode 280/300 | Mean reward: 0.7599999904632568 | Loss: 0.2809999883174896\n",
            "Episode 300/300 | Mean reward: 0.7400000095367432 | Loss: 0.07199999690055847\n",
            "----------------------------------------------------\n",
            "Тестирование\n",
            "----------------------------------------------------\n",
            "200\n",
            "Модель с героем q обыграла героя соперника ª\n",
            "Модель с героем ½ обыграла героя соперника ®\n",
            "Модель с героем ¥ обыграла героя соперника û\n",
            "Ошибка! Модель с героем ² проиграла герою соперника \n",
            "Ошибка! Модель с героем  проиграла герою соперника \n",
            "Модель с героем i обыграла героя соперника Ë\n",
            "Модель с героем ² обыграла героя соперника ü\n",
            "Модель с героем î обыграла героя соперника ą\n",
            "Ошибка! Модель с героем Ø проиграла герою соперника Ò\n",
            "Модель с героем À обыграла героя соперника z\n",
            "Модель с героем  обыграла героя соперника »\n",
            "Модель с героем  обыграла героя соперника ħ\n",
            "Ошибка! Модель с героем  проиграла герою соперника ċ\n",
            "Модель с героем í обыграла героя соперника Ă\n",
            "Модель с героем ¢ обыграла героя соперника Ð\n",
            "Ошибка! Модель с героем © проиграла герою соперника ø\n",
            "Модель с героем É обыграла героя соперника n\n",
            "Модель с героем z обыграла героя соперника \n",
            "Модель с героем ¸ обыграла героя соперника º\n",
            "Модель с героем  обыграла героя соперника \n",
            "\n",
            "Итоговая проверка: модель выиграла в 75.9% матчей.\n"
          ]
        }
      ],
      "source": [
        "hero_number = 200\n",
        "matrix = [[rnd.random() * 0.8 for _ in range(hero_number)] for __ in range(hero_number)]\n",
        "for i in range(hero_number):\n",
        "    matrix[i][i] = 0.5\n",
        "    for j in range(i+1, hero_number):\n",
        "        matrix[i][j] = 1 - matrix[j][i]\n",
        "\n",
        "game_4(matrix, hero_number)"
      ]
    },
    {
      "cell_type": "markdown",
      "metadata": {
        "id": "Da9xhk9SfJ7s"
      },
      "source": [
        "Промежуточные итоги : умеем угадывать исход матчей и выбирать оптимального героя под выбор соперника.\n",
        "\n",
        "Дальше - больше!"
      ]
    },
    {
      "cell_type": "markdown",
      "metadata": {
        "id": "Dm1cF6UNJPzr"
      },
      "source": [
        "# Часть 1 : Парсим датасет"
      ]
    },
    {
      "cell_type": "code",
      "execution_count": 28,
      "metadata": {
        "colab": {
          "base_uri": "https://localhost:8080/"
        },
        "id": "ZbwSafEOtEM7",
        "outputId": "29557bbf-1400-490a-b9c0-ace9e6ac501b"
      },
      "outputs": [
        {
          "name": "stdout",
          "output_type": "stream",
          "text": [
            "Heroes: [None, 'anti-mage', 'axe', 'bane', 'bloodseeker', 'crystal-maiden', 'drow-ranger', 'earthshaker', 'juggernaut', 'mirana', 'morphling', 'shadow-fiend', 'phantom-lancer', 'puck', 'pudge', 'razor', 'sand-king', 'storm-spirit', 'sven', 'tiny', 'vengeful-spirit', 'windranger', 'zeus', 'kunkka', None, 'lina', 'lion', 'shadow-shaman', 'slardar', 'tidehunter', 'witch-doctor', 'lich', 'riki', 'enigma', 'tinker', 'sniper', 'necrophos', 'warlock', 'beastmaster', 'queen-of-pain', 'venomancer', 'faceless-void', 'wraith-king', 'death-prophet', 'phantom-assassin', 'pugna', 'templar-assassin', 'viper', 'luna', 'dragon-knight', 'dazzle', 'clockwerk', 'leshrac', \"nature's-prophet\", 'lifestealer', 'dark-seer', 'clinkz', 'omniknight', 'enchantress', 'huskar', 'night-stalker', 'broodmother', 'bounty-hunter', 'weaver', 'jakiro', 'batrider', 'chen', 'spectre', 'ancient-apparition', 'doom', 'ursa', 'spirit-breaker', 'gyrocopter', 'alchemist', 'invoker', 'silencer', 'outworld-destroyer', 'lycan', 'brewmaster', 'shadow-demon', 'lone-druid', 'chaos-knight', 'meepo', 'treant-protector', 'ogre-magi', 'undying', 'rubick', 'disruptor', 'nyx-assassin', 'naga-siren', 'keeper-of-the-light', 'io', 'visage', 'slark', 'medusa', 'troll-warlord', 'centaur-warrunner', 'magnus', 'timbersaw', 'bristleback', 'tusk', 'skywrath-mage', 'abaddon', 'elder-titan', 'legion-commander', 'techies', 'ember-spirit', 'earth-spirit', 'underlord', 'terrorblade', 'phoenix', 'oracle', 'winter-wyvern', 'arc-warden', 'monkey-king', None, None, None, None, 'dark-willow', 'pangolier', 'grimstroke', None, 'hoodwink', None, None, 'void-spirit', None, 'snapfire', 'mars', None, 'ringmaster', None, None, None, 'dawnbreaker', 'marci', 'primal-beast', 'muerta', None, None, None, None, None, None, 'kez']\n",
            "Heroes_id: {'anti-mage': 1, 'axe': 2, 'bane': 3, 'bloodseeker': 4, 'crystal-maiden': 5, 'drow-ranger': 6, 'earthshaker': 7, 'juggernaut': 8, 'mirana': 9, 'morphling': 10, 'shadow-fiend': 11, 'phantom-lancer': 12, 'puck': 13, 'pudge': 14, 'razor': 15, 'sand-king': 16, 'storm-spirit': 17, 'sven': 18, 'tiny': 19, 'vengeful-spirit': 20, 'windranger': 21, 'zeus': 22, 'kunkka': 23, 'lina': 25, 'lion': 26, 'shadow-shaman': 27, 'slardar': 28, 'tidehunter': 29, 'witch-doctor': 30, 'lich': 31, 'riki': 32, 'enigma': 33, 'tinker': 34, 'sniper': 35, 'necrophos': 36, 'warlock': 37, 'beastmaster': 38, 'queen-of-pain': 39, 'venomancer': 40, 'faceless-void': 41, 'wraith-king': 42, 'death-prophet': 43, 'phantom-assassin': 44, 'pugna': 45, 'templar-assassin': 46, 'viper': 47, 'luna': 48, 'dragon-knight': 49, 'dazzle': 50, 'clockwerk': 51, 'leshrac': 52, \"nature's-prophet\": 53, 'lifestealer': 54, 'dark-seer': 55, 'clinkz': 56, 'omniknight': 57, 'enchantress': 58, 'huskar': 59, 'night-stalker': 60, 'broodmother': 61, 'bounty-hunter': 62, 'weaver': 63, 'jakiro': 64, 'batrider': 65, 'chen': 66, 'spectre': 67, 'ancient-apparition': 68, 'doom': 69, 'ursa': 70, 'spirit-breaker': 71, 'gyrocopter': 72, 'alchemist': 73, 'invoker': 74, 'silencer': 75, 'outworld-destroyer': 76, 'lycan': 77, 'brewmaster': 78, 'shadow-demon': 79, 'lone-druid': 80, 'chaos-knight': 81, 'meepo': 82, 'treant-protector': 83, 'ogre-magi': 84, 'undying': 85, 'rubick': 86, 'disruptor': 87, 'nyx-assassin': 88, 'naga-siren': 89, 'keeper-of-the-light': 90, 'io': 91, 'visage': 92, 'slark': 93, 'medusa': 94, 'troll-warlord': 95, 'centaur-warrunner': 96, 'magnus': 97, 'timbersaw': 98, 'bristleback': 99, 'tusk': 100, 'skywrath-mage': 101, 'abaddon': 102, 'elder-titan': 103, 'legion-commander': 104, 'techies': 105, 'ember-spirit': 106, 'earth-spirit': 107, 'underlord': 108, 'terrorblade': 109, 'phoenix': 110, 'oracle': 111, 'winter-wyvern': 112, 'arc-warden': 113, 'monkey-king': 114, 'dark-willow': 119, 'pangolier': 120, 'grimstroke': 121, 'hoodwink': 123, 'void-spirit': 126, 'snapfire': 128, 'mars': 129, 'ringmaster': 131, 'dawnbreaker': 135, 'marci': 136, 'primal-beast': 137, 'muerta': 138, 'kez': 145}\n"
          ]
        }
      ],
      "source": [
        "Heroes = []\n",
        "Heroes_id = {}\n",
        "\n",
        "with zipfile.ZipFile('/content/drive/MyDrive/data/heroes.zip', 'r') as archive:\n",
        "    with archive.open('heroes.json') as f:\n",
        "        heroes_data = json.load(f)\n",
        "hero_num = 146\n",
        "Heroes = [None] * hero_num\n",
        "\n",
        "for hero in heroes_data:\n",
        "    hero_id = hero['hero_id']\n",
        "    name = hero['name']\n",
        "    Heroes[hero_id] = name\n",
        "    Heroes_id[name] = hero_id\n",
        "\n",
        "\n",
        "print(\"Heroes:\", Heroes)\n",
        "print(\"Heroes_id:\", Heroes_id)"
      ]
    },
    {
      "cell_type": "markdown",
      "metadata": {
        "id": "IjjoQJQsIUXR"
      },
      "source": [
        "В качестве примера вывели список героев и их id"
      ]
    },
    {
      "cell_type": "code",
      "execution_count": null,
      "metadata": {
        "colab": {
          "base_uri": "https://localhost:8080/"
        },
        "id": "hqx2WjKzt27W",
        "outputId": "50108255-3ea2-49ce-fe9a-bb42201d51a1"
      },
      "outputs": [
        {
          "name": "stdout",
          "output_type": "stream",
          "text": [
            "9731 10\n",
            "{'match_id': '8229805524', 'radiant_team_name': 'Силы Света', 'dire_team_name': 'Силы Тьмы', 'radiant_heroes': ['32', '7', '100', '9', '27'], 'dire_heroes': ['2', '93', '37', '95', '14'], 'radiant_players_info': [{'hero_id': 32, 'kills': 8, 'deaths': 3, 'assists': 6, 'gold_per_min': 1094, 'xp_per_min': 1516, 'last_hits': 74, 'hero_damage': 15718, 'tower_damage': 0, 'kda': ''}, {'hero_id': 7, 'kills': 1, 'deaths': 2, 'assists': 8, 'gold_per_min': 775, 'xp_per_min': 1170, 'last_hits': 78, 'hero_damage': 11488, 'tower_damage': 54, 'kda': ''}, {'hero_id': 100, 'kills': 4, 'deaths': 8, 'assists': 8, 'gold_per_min': 828, 'xp_per_min': 1323, 'last_hits': 57, 'hero_damage': 13989, 'tower_damage': 0, 'kda': ''}, {'hero_id': 9, 'kills': 2, 'deaths': 1, 'assists': 10, 'gold_per_min': 879, 'xp_per_min': 1156, 'last_hits': 92, 'hero_damage': 5310, 'tower_damage': 0, 'kda': ''}, {'hero_id': 27, 'kills': 5, 'deaths': 5, 'assists': 3, 'gold_per_min': 978, 'xp_per_min': 1152, 'last_hits': 112, 'hero_damage': 9736, 'tower_damage': 2422, 'kda': ''}], 'dire_players_info': [{'hero_id': 2, 'kills': 3, 'deaths': 4, 'assists': 6, 'gold_per_min': 1008, 'xp_per_min': 1387, 'last_hits': 79, 'hero_damage': 9434, 'tower_damage': 431, 'kda': ''}, {'hero_id': 93, 'kills': 3, 'deaths': 3, 'assists': 8, 'gold_per_min': 1074, 'xp_per_min': 1429, 'last_hits': 97, 'hero_damage': 12273, 'tower_damage': 2853, 'kda': ''}, {'hero_id': 37, 'kills': 3, 'deaths': 4, 'assists': 9, 'gold_per_min': 999, 'xp_per_min': 1056, 'last_hits': 67, 'hero_damage': 8859, 'tower_damage': 5301, 'kda': ''}, {'hero_id': 95, 'kills': 5, 'deaths': 5, 'assists': 8, 'gold_per_min': 1311, 'xp_per_min': 1521, 'last_hits': 115, 'hero_damage': 10096, 'tower_damage': 13242, 'kda': ''}, {'hero_id': 14, 'kills': 5, 'deaths': 5, 'assists': 6, 'gold_per_min': 901, 'xp_per_min': 1219, 'last_hits': 45, 'hero_damage': 7397, 'tower_damage': 717, 'kda': ''}], 'winner': True, 'radiant_score': 21, 'dire_score': 19}\n"
          ]
        }
      ],
      "source": [
        "with zipfile.ZipFile('/content/drive/MyDrive/data/parsed_matches_new.zip', 'r') as archive:\n",
        "    with archive.open('parsed_matches.json') as f:\n",
        "        matches_data = json.load(f)\n",
        "print(len(matches_data), len(matches_data[0]))\n",
        "print(matches_data[0])\n",
        "#print(json.dumps(matches_data[0], indent=2, ensure_ascii=False))"
      ]
    },
    {
      "cell_type": "markdown",
      "metadata": {
        "id": "0nmzQE1YIXnA"
      },
      "source": [
        "В качестве примера вывели первый матч датасета, размер матча, размер датасета"
      ]
    },
    {
      "cell_type": "code",
      "execution_count": null,
      "metadata": {
        "id": "eNFrxSrhxDKo"
      },
      "outputs": [],
      "source": [
        "valid_counter = 0\n",
        "def validation_check():\n",
        "    global valid_counter, matches_data\n",
        "    valid_matches = []\n",
        "    for match in matches_data:\n",
        "        try:\n",
        "            radiant = [int(x) for x in match['radiant_heroes']]\n",
        "            dire = [int(x) for x in match['dire_heroes']]\n",
        "        except ValueError:\n",
        "            continue\n",
        "        if min(radiant + dire) == 0:\n",
        "            continue\n",
        "        if len(match['radiant_heroes']) != 5 or len(match['dire_heroes']) != 5:\n",
        "            continue\n",
        "        valid_counter += 1\n",
        "        valid_matches.append(match)\n",
        "    matches_data = valid_matches\n",
        "\n",
        "\n",
        "def build_matrix(data):\n",
        "    for match in data:\n",
        "        try:\n",
        "            radiant = [int(x) for x in match['radiant_heroes']]\n",
        "            dire = [int(x) for x in match['dire_heroes']]\n",
        "        except Exception:\n",
        "            print(f'Exception in build matrix = {Exception}')\n",
        "            continue\n",
        "        for w in radiant:\n",
        "            for l in dire:\n",
        "                matrix[w][l] += 1\n",
        "\n",
        "\n",
        "def normalize_matrix():\n",
        "    n = len(matrix)\n",
        "    for i in range(n):\n",
        "        if matrix[i][i]:\n",
        "            print(\"КАК?\", i, matrix[i][i])\n",
        "        for j in range(i + 1, n):\n",
        "            total = matrix[i][j] + matrix[j][i]\n",
        "            if total:\n",
        "                matrix[i][j] = matrix[i][j] / total\n",
        "                matrix[j][i] = matrix[j][i] / total\n",
        "\n",
        "\n",
        "def matrix_printer(n):\n",
        "    header = \" \" * 17\n",
        "    for j in range(1, n + 1):\n",
        "        header += f\"Hero {j:<5}\"\n",
        "    print(header)\n",
        "    for i in range(1, n + 1):\n",
        "        row = f\"Hero {i:<8}\"\n",
        "        for j in range(1, n + 1):\n",
        "            row += f\"{matrix[i][j]:10.4f}\"\n",
        "        print(row)"
      ]
    },
    {
      "cell_type": "code",
      "execution_count": null,
      "metadata": {
        "colab": {
          "base_uri": "https://localhost:8080/"
        },
        "id": "Xf4B-I-2xuBk",
        "outputId": "672d12b1-7141-4f3e-ab2f-cb18837a8fa2"
      },
      "outputs": [
        {
          "name": "stdout",
          "output_type": "stream",
          "text": [
            "\n",
            "Количество валидных результатов = 9657\n"
          ]
        }
      ],
      "source": [
        "validation_check()\n",
        "print(f\"\\nКоличество валидных результатов = {valid_counter}\")"
      ]
    },
    {
      "cell_type": "markdown",
      "metadata": {
        "id": "BKjBtnlCJUyI"
      },
      "source": [
        "# Часть 2 : Обучаем модель"
      ]
    },
    {
      "cell_type": "markdown",
      "metadata": {
        "id": "YtKXw4TfnKwS"
      },
      "source": [
        "НАШИ ЦЕЛИ:\n",
        "УГАДАТЬ ИСХОД\n",
        "1. матрица (наработка)"
      ]
    },
    {
      "cell_type": "markdown",
      "metadata": {
        "id": "gjMWaIinoiHK"
      },
      "source": [
        "Чем мы будем здесь заниматься?\n",
        "\n",
        "Ну, для начала, мы хотим, чтобы модель правильно угадывала исход матчей, основываясь на персонажах в пике."
      ]
    },
    {
      "cell_type": "code",
      "execution_count": null,
      "metadata": {
        "colab": {
          "base_uri": "https://localhost:8080/"
        },
        "id": "z68qyQunqRW8",
        "outputId": "d5fa92ea-602a-4501-fe32-a1e43d2e6254"
      },
      "outputs": [
        {
          "name": "stdout",
          "output_type": "stream",
          "text": [
            "7725 тренировочных и 1932 тестовых матчей\n"
          ]
        }
      ],
      "source": [
        "rnd.seed(42)\n",
        "rnd.shuffle(matches_data)\n",
        "split_idx = int(0.8 * len(matches_data))\n",
        "match_train = matches_data[:split_idx]\n",
        "match_test = matches_data[split_idx:]\n",
        "print(f'{len(match_train)} тренировочных и {len(match_test)} тестовых матчей')"
      ]
    },
    {
      "cell_type": "markdown",
      "metadata": {
        "id": "6j_XzP_D1AJ2"
      },
      "source": [
        "## Попытка номер 1"
      ]
    },
    {
      "cell_type": "markdown",
      "metadata": {
        "id": "IDe9ZPKP1CFb"
      },
      "source": [
        "Постараемся воспользоваться нашими предыдущими наработками. Напишем матрицу \"матчапов\" героев, и постараемся обучить на ней модель."
      ]
    },
    {
      "cell_type": "code",
      "execution_count": null,
      "metadata": {
        "colab": {
          "base_uri": "https://localhost:8080/"
        },
        "id": "LnwbF21r1JrT",
        "outputId": "2b6aa61e-9a7b-4931-b871-abb22bd991bc"
      },
      "outputs": [
        {
          "name": "stdout",
          "output_type": "stream",
          "text": [
            "                 Hero 1    Hero 2    Hero 3    Hero 4    Hero 5    Hero 6    Hero 7    \n",
            "Hero 1           0.0000    0.4857    0.0833    0.5000    0.4839    0.3750    0.5263\n",
            "Hero 2           0.5143    0.0000    0.4667    0.4706    0.4833    0.4950    0.4810\n",
            "Hero 3           0.9167    0.5333    0.0000    0.7500    0.7000    0.3333    0.3846\n",
            "Hero 4           0.5000    0.5294    0.2500    0.0000    0.3750    0.5789    0.4483\n",
            "Hero 5           0.5161    0.5167    0.3000    0.6250    0.0000    0.4730    0.5323\n",
            "Hero 6           0.6250    0.5050    0.6667    0.4211    0.5270    0.0000    0.5125\n",
            "Hero 7           0.4737    0.5190    0.6154    0.5517    0.4677    0.4875    0.0000\n"
          ]
        }
      ],
      "source": [
        "matrix = [[0 for _ in range(hero_num)] for _ in range(hero_num)]\n",
        "\n",
        "build_matrix(matches_data[:split_idx])\n",
        "normalize_matrix()\n",
        "matrix_printer(7)"
      ]
    },
    {
      "cell_type": "markdown",
      "metadata": {
        "id": "arE8L8fwdNSv"
      },
      "source": [
        "P.S. Напишем ещё общую функцию, которая будет получать на вход героев и возвращать вектор из 0, 1 и -1 в зависимости от команды"
      ]
    },
    {
      "cell_type": "code",
      "execution_count": null,
      "metadata": {
        "id": "mPndHhGUdNoB"
      },
      "outputs": [],
      "source": [
        "def vectorize_team(radiant_heroes, dire_heroes, hero_number=200):\n",
        "    vector = np.zeros(hero_number)\n",
        "    for hero in radiant_heroes:\n",
        "        vector[int(hero) - 1] = 1\n",
        "    for hero in dire_heroes:\n",
        "        vector[int(hero) - 1] = -1\n",
        "    return vector"
      ]
    },
    {
      "cell_type": "markdown",
      "metadata": {
        "id": "8zl3YwAkdM8P"
      },
      "source": [
        "Теперь к коду"
      ]
    },
    {
      "cell_type": "code",
      "execution_count": null,
      "metadata": {
        "id": "lzXEntH25szN"
      },
      "outputs": [],
      "source": [
        "def predict_game_1(matrix, hero_number=200):\n",
        "    '''\n",
        "    Здесь мы пытаемся воспользоваться идеей из прошлой игры:\n",
        "    Обучить не на самих матчах, а на \"матрице матчапов\"\n",
        "    '''\n",
        "    ### ПОДГОТОВКА ВХОДНЫХ ДАННЫХ ###\n",
        "    local_hero_ids = [i for i in range(len(matrix)) if any(matrix[i])]\n",
        "    X, Y = [], []\n",
        "    num_samples = 2000\n",
        "\n",
        "    for _ in range(num_samples):\n",
        "        team1 = rnd.sample(local_hero_ids, 5)\n",
        "        team2 = rnd.sample([h for h in local_hero_ids if h not in team1], 5)\n",
        "        radiant_ids = [h + 1 for h in team1]\n",
        "        dire_ids = [h + 1 for h in team2]\n",
        "        vec = vectorize_team(radiant_ids, dire_ids, hero_number)\n",
        "        X.append(vec)\n",
        "        total = sum(matrix[a][b] - matrix[b][a] for a in team1 for b in team2)\n",
        "        Y.append(0 if total > 0 else 1)\n",
        "\n",
        "    X = np.array(X)\n",
        "    Y = np.array(Y)\n",
        "\n",
        "    X_train, X_val, Y_train, Y_val = train_test_split(X, Y, test_size=0.2, random_state=42)\n",
        "\n",
        "    ### МОДЕЛЬ И ОБУЧЕНИЕ ###\n",
        "    model = keras.Sequential([\n",
        "        layers.Input(shape=(hero_number,)),\n",
        "        layers.Dense(64, activation='relu'),\n",
        "        layers.Dense(32, activation='relu'),\n",
        "        layers.Dense(1, activation='sigmoid')\n",
        "    ])\n",
        "\n",
        "    model.compile(optimizer='adam', loss='binary_crossentropy', metrics=['accuracy'])\n",
        "    early_stop = EarlyStopping(monitor='val_loss', patience=3, restore_best_weights=True)\n",
        "\n",
        "    model.fit(\n",
        "        X_train, Y_train,\n",
        "        validation_data=(X_val, Y_val),\n",
        "        epochs=50,\n",
        "        batch_size=32,\n",
        "        callbacks=[early_stop]\n",
        "    )\n",
        "    return model\n",
        "\n",
        "\n",
        "def predict_test_1(model, match_test, hero_number=200):\n",
        "    print('-' * 52 + '\\nТестирование\\n' + '-' * 52)\n",
        "    correct, total = 0, 0\n",
        "    for match in match_test:\n",
        "        radiant = list(map(int, match['radiant_heroes']))\n",
        "        dire = list(map(int, match['dire_heroes']))\n",
        "        winner = 1 if match['winner'] else 0\n",
        "        vector = vectorize_team(radiant, dire, hero_number)\n",
        "        prediction = model.predict(vector.reshape(1, -1), verbose=0)[0][0]\n",
        "        prediction = int(prediction >= 0.5)\n",
        "        if prediction == winner:\n",
        "            correct += 1\n",
        "        total += 1\n",
        "    print(f\"Точность: {round((correct / total) * 100, 2)}%\")"
      ]
    },
    {
      "cell_type": "code",
      "execution_count": null,
      "metadata": {
        "colab": {
          "base_uri": "https://localhost:8080/"
        },
        "id": "nQq8Rqhrnie3",
        "outputId": "435f7360-7e5b-496a-e6d9-a88a30411614"
      },
      "outputs": [
        {
          "name": "stdout",
          "output_type": "stream",
          "text": [
            "Epoch 1/50\n",
            "\u001b[1m50/50\u001b[0m \u001b[32m━━━━━━━━━━━━━━━━━━━━\u001b[0m\u001b[37m\u001b[0m \u001b[1m2s\u001b[0m 8ms/step - accuracy: 0.5333 - loss: 0.6923 - val_accuracy: 0.5700 - val_loss: 0.6780\n",
            "Epoch 2/50\n",
            "\u001b[1m50/50\u001b[0m \u001b[32m━━━━━━━━━━━━━━━━━━━━\u001b[0m\u001b[37m\u001b[0m \u001b[1m0s\u001b[0m 4ms/step - accuracy: 0.6763 - loss: 0.6529 - val_accuracy: 0.6150 - val_loss: 0.6587\n",
            "Epoch 3/50\n",
            "\u001b[1m50/50\u001b[0m \u001b[32m━━━━━━━━━━━━━━━━━━━━\u001b[0m\u001b[37m\u001b[0m \u001b[1m0s\u001b[0m 4ms/step - accuracy: 0.7450 - loss: 0.6152 - val_accuracy: 0.6350 - val_loss: 0.6322\n",
            "Epoch 4/50\n",
            "\u001b[1m50/50\u001b[0m \u001b[32m━━━━━━━━━━━━━━━━━━━━\u001b[0m\u001b[37m\u001b[0m \u001b[1m0s\u001b[0m 4ms/step - accuracy: 0.7521 - loss: 0.5618 - val_accuracy: 0.6500 - val_loss: 0.6155\n",
            "Epoch 5/50\n",
            "\u001b[1m50/50\u001b[0m \u001b[32m━━━━━━━━━━━━━━━━━━━━\u001b[0m\u001b[37m\u001b[0m \u001b[1m0s\u001b[0m 4ms/step - accuracy: 0.7664 - loss: 0.5086 - val_accuracy: 0.6525 - val_loss: 0.6170\n",
            "Epoch 6/50\n",
            "\u001b[1m50/50\u001b[0m \u001b[32m━━━━━━━━━━━━━━━━━━━━\u001b[0m\u001b[37m\u001b[0m \u001b[1m0s\u001b[0m 4ms/step - accuracy: 0.7836 - loss: 0.4654 - val_accuracy: 0.6625 - val_loss: 0.6266\n",
            "Epoch 7/50\n",
            "\u001b[1m50/50\u001b[0m \u001b[32m━━━━━━━━━━━━━━━━━━━━\u001b[0m\u001b[37m\u001b[0m \u001b[1m0s\u001b[0m 4ms/step - accuracy: 0.8175 - loss: 0.4250 - val_accuracy: 0.6525 - val_loss: 0.6402\n",
            "----------------------------------------------------\n",
            "Тестирование\n",
            "----------------------------------------------------\n",
            "Точность: 51.71%\n"
          ]
        }
      ],
      "source": [
        "model_pr_g1 = predict_game_1(matrix, hero_num)\n",
        "predict_test_1(model_pr_g1, match_test, hero_num)"
      ]
    },
    {
      "cell_type": "markdown",
      "metadata": {
        "id": "3Qv7ouo0lBrM"
      },
      "source": [
        "52% - слабо, мы хотим постараться сделать лучше"
      ]
    },
    {
      "cell_type": "markdown",
      "metadata": {
        "id": "biM-w5uEgILd"
      },
      "source": [
        "## Попытка номер 2"
      ]
    },
    {
      "cell_type": "markdown",
      "metadata": {
        "id": "wc-vn1CDgOkZ"
      },
      "source": [
        "Лучше будем обучать программу на тестах, а нейронные сети уже сами разберутся, как выбор героев влияет на исход матча."
      ]
    },
    {
      "cell_type": "code",
      "execution_count": null,
      "metadata": {
        "id": "MacprrU9gLtN"
      },
      "outputs": [],
      "source": [
        "def predict_game_2(match_train):\n",
        "    '''\n",
        "    Здесь мы обучаем непосредственно на матчах и их исходах\n",
        "    '''\n",
        "    ### ПОДГОТОВКА ВХОДНЫХ ДАННЫХ ###\n",
        "    hero_set = set()\n",
        "    for match in match_train:\n",
        "        hero_set.update(match['radiant_heroes'])\n",
        "        hero_set.update(match['dire_heroes'])\n",
        "    hero_list = sorted(hero_set, key=int)\n",
        "    hero_to_index = {hero: idx for idx, hero in enumerate(hero_list)}\n",
        "    num_heroes = len(hero_list)\n",
        "\n",
        "    def prepare_data(matches):\n",
        "        X, Y = [], []\n",
        "        for match in matches:\n",
        "            vec = np.zeros(num_heroes)\n",
        "            # Radiant +1, Dire -1\n",
        "            for hero in match['radiant_heroes']:\n",
        "                if hero in hero_to_index:\n",
        "                    vec[hero_to_index[hero]] = 1\n",
        "            for hero in match['dire_heroes']:\n",
        "                if hero in hero_to_index:\n",
        "                    vec[hero_to_index[hero]] = -1\n",
        "            X.append(vec)\n",
        "            Y.append(1 if match['winner'] else 0)\n",
        "        return np.array(X), np.array(Y)\n",
        "    X_train, Y_train = prepare_data(match_train)\n",
        "\n",
        "    ### МОДЕЛЬ ###\n",
        "    model = keras.Sequential([\n",
        "        layers.Input(shape=(num_heroes,)),\n",
        "        layers.Dense(64, activation='relu'),\n",
        "        layers.Dense(32, activation='relu'),\n",
        "        layers.Dense(1, activation='sigmoid')\n",
        "    ])\n",
        "    model.compile(optimizer='adam',\n",
        "                loss='binary_crossentropy',\n",
        "                metrics=['accuracy'])\n",
        "\n",
        "    ### ОБУЧЕНИЕ ###\n",
        "    model.fit(X_train, Y_train, epochs=50, batch_size=32, verbose=1)\n",
        "    return model, hero_to_index, num_heroes\n",
        "\n",
        "def predict_test_2(model, match_test, hero_to_index, num_heroes):\n",
        "    print('-'*52 + '\\nТестирование\\n' + '-'*52)\n",
        "    correct, total = 0, 0\n",
        "    for match in match_test:\n",
        "        vec = np.zeros(num_heroes)\n",
        "        for hero in match['radiant_heroes']:\n",
        "            if hero in hero_to_index:\n",
        "                vec[hero_to_index[hero]] = 1\n",
        "        for hero in match['dire_heroes']:\n",
        "            if hero in hero_to_index:\n",
        "                vec[hero_to_index[hero]] = -1\n",
        "\n",
        "        true_label = 1 if match['winner'] else 0\n",
        "        pred = model.predict(vec.reshape(1, -1), verbose=0)[0][0]\n",
        "        if round(pred) == true_label:\n",
        "            correct += 1\n",
        "        total += 1\n",
        "    print(f\"Точность: {round((correct / total) * 100, 2)}%\")"
      ]
    },
    {
      "cell_type": "code",
      "execution_count": null,
      "metadata": {
        "colab": {
          "base_uri": "https://localhost:8080/"
        },
        "id": "M0MHgf1ggyl0",
        "outputId": "4702a278-bfcd-41bb-ad9b-06bbecf6a917"
      },
      "outputs": [
        {
          "name": "stdout",
          "output_type": "stream",
          "text": [
            "Epoch 1/50\n",
            "\u001b[1m242/242\u001b[0m \u001b[32m━━━━━━━━━━━━━━━━━━━━\u001b[0m\u001b[37m\u001b[0m \u001b[1m2s\u001b[0m 2ms/step - accuracy: 0.5403 - loss: 0.6878\n",
            "Epoch 2/50\n",
            "\u001b[1m242/242\u001b[0m \u001b[32m━━━━━━━━━━━━━━━━━━━━\u001b[0m\u001b[37m\u001b[0m \u001b[1m1s\u001b[0m 2ms/step - accuracy: 0.5917 - loss: 0.6678\n",
            "Epoch 3/50\n",
            "\u001b[1m242/242\u001b[0m \u001b[32m━━━━━━━━━━━━━━━━━━━━\u001b[0m\u001b[37m\u001b[0m \u001b[1m1s\u001b[0m 2ms/step - accuracy: 0.6220 - loss: 0.6529\n",
            "Epoch 4/50\n",
            "\u001b[1m242/242\u001b[0m \u001b[32m━━━━━━━━━━━━━━━━━━━━\u001b[0m\u001b[37m\u001b[0m \u001b[1m1s\u001b[0m 2ms/step - accuracy: 0.6421 - loss: 0.6378\n",
            "Epoch 5/50\n",
            "\u001b[1m242/242\u001b[0m \u001b[32m━━━━━━━━━━━━━━━━━━━━\u001b[0m\u001b[37m\u001b[0m \u001b[1m1s\u001b[0m 2ms/step - accuracy: 0.6668 - loss: 0.6189\n",
            "Epoch 6/50\n",
            "\u001b[1m242/242\u001b[0m \u001b[32m━━━━━━━━━━━━━━━━━━━━\u001b[0m\u001b[37m\u001b[0m \u001b[1m1s\u001b[0m 2ms/step - accuracy: 0.6836 - loss: 0.5961\n",
            "Epoch 7/50\n",
            "\u001b[1m242/242\u001b[0m \u001b[32m━━━━━━━━━━━━━━━━━━━━\u001b[0m\u001b[37m\u001b[0m \u001b[1m1s\u001b[0m 2ms/step - accuracy: 0.7131 - loss: 0.5692\n",
            "Epoch 8/50\n",
            "\u001b[1m242/242\u001b[0m \u001b[32m━━━━━━━━━━━━━━━━━━━━\u001b[0m\u001b[37m\u001b[0m \u001b[1m1s\u001b[0m 2ms/step - accuracy: 0.7309 - loss: 0.5402\n",
            "Epoch 9/50\n",
            "\u001b[1m242/242\u001b[0m \u001b[32m━━━━━━━━━━━━━━━━━━━━\u001b[0m\u001b[37m\u001b[0m \u001b[1m1s\u001b[0m 2ms/step - accuracy: 0.7517 - loss: 0.5098\n",
            "Epoch 10/50\n",
            "\u001b[1m242/242\u001b[0m \u001b[32m━━━━━━━━━━━━━━━━━━━━\u001b[0m\u001b[37m\u001b[0m \u001b[1m1s\u001b[0m 2ms/step - accuracy: 0.7701 - loss: 0.4805\n",
            "Epoch 11/50\n",
            "\u001b[1m242/242\u001b[0m \u001b[32m━━━━━━━━━━━━━━━━━━━━\u001b[0m\u001b[37m\u001b[0m \u001b[1m1s\u001b[0m 2ms/step - accuracy: 0.7891 - loss: 0.4513\n",
            "Epoch 12/50\n",
            "\u001b[1m242/242\u001b[0m \u001b[32m━━━━━━━━━━━━━━━━━━━━\u001b[0m\u001b[37m\u001b[0m \u001b[1m1s\u001b[0m 2ms/step - accuracy: 0.8083 - loss: 0.4225\n",
            "Epoch 13/50\n",
            "\u001b[1m242/242\u001b[0m \u001b[32m━━━━━━━━━━━━━━━━━━━━\u001b[0m\u001b[37m\u001b[0m \u001b[1m1s\u001b[0m 2ms/step - accuracy: 0.8246 - loss: 0.3946\n",
            "Epoch 14/50\n",
            "\u001b[1m242/242\u001b[0m \u001b[32m━━━━━━━━━━━━━━━━━━━━\u001b[0m\u001b[37m\u001b[0m \u001b[1m1s\u001b[0m 3ms/step - accuracy: 0.8393 - loss: 0.3682\n",
            "Epoch 15/50\n",
            "\u001b[1m242/242\u001b[0m \u001b[32m━━━━━━━━━━━━━━━━━━━━\u001b[0m\u001b[37m\u001b[0m \u001b[1m2s\u001b[0m 4ms/step - accuracy: 0.8565 - loss: 0.3421\n",
            "Epoch 16/50\n",
            "\u001b[1m242/242\u001b[0m \u001b[32m━━━━━━━━━━━━━━━━━━━━\u001b[0m\u001b[37m\u001b[0m \u001b[1m1s\u001b[0m 4ms/step - accuracy: 0.8701 - loss: 0.3179\n",
            "Epoch 17/50\n",
            "\u001b[1m242/242\u001b[0m \u001b[32m━━━━━━━━━━━━━━━━━━━━\u001b[0m\u001b[37m\u001b[0m \u001b[1m1s\u001b[0m 4ms/step - accuracy: 0.8834 - loss: 0.2950\n",
            "Epoch 18/50\n",
            "\u001b[1m242/242\u001b[0m \u001b[32m━━━━━━━━━━━━━━━━━━━━\u001b[0m\u001b[37m\u001b[0m \u001b[1m1s\u001b[0m 4ms/step - accuracy: 0.8981 - loss: 0.2724\n",
            "Epoch 19/50\n",
            "\u001b[1m242/242\u001b[0m \u001b[32m━━━━━━━━━━━━━━━━━━━━\u001b[0m\u001b[37m\u001b[0m \u001b[1m1s\u001b[0m 2ms/step - accuracy: 0.9109 - loss: 0.2505\n",
            "Epoch 20/50\n",
            "\u001b[1m242/242\u001b[0m \u001b[32m━━━━━━━━━━━━━━━━━━━━\u001b[0m\u001b[37m\u001b[0m \u001b[1m1s\u001b[0m 2ms/step - accuracy: 0.9227 - loss: 0.2298\n",
            "Epoch 21/50\n",
            "\u001b[1m242/242\u001b[0m \u001b[32m━━━━━━━━━━━━━━━━━━━━\u001b[0m\u001b[37m\u001b[0m \u001b[1m1s\u001b[0m 2ms/step - accuracy: 0.9344 - loss: 0.2106\n",
            "Epoch 22/50\n",
            "\u001b[1m242/242\u001b[0m \u001b[32m━━━━━━━━━━━━━━━━━━━━\u001b[0m\u001b[37m\u001b[0m \u001b[1m1s\u001b[0m 2ms/step - accuracy: 0.9433 - loss: 0.1918\n",
            "Epoch 23/50\n",
            "\u001b[1m242/242\u001b[0m \u001b[32m━━━━━━━━━━━━━━━━━━━━\u001b[0m\u001b[37m\u001b[0m \u001b[1m1s\u001b[0m 2ms/step - accuracy: 0.9527 - loss: 0.1741\n",
            "Epoch 24/50\n",
            "\u001b[1m242/242\u001b[0m \u001b[32m━━━━━━━━━━━━━━━━━━━━\u001b[0m\u001b[37m\u001b[0m \u001b[1m1s\u001b[0m 2ms/step - accuracy: 0.9621 - loss: 0.1574\n",
            "Epoch 25/50\n",
            "\u001b[1m242/242\u001b[0m \u001b[32m━━━━━━━━━━━━━━━━━━━━\u001b[0m\u001b[37m\u001b[0m \u001b[1m1s\u001b[0m 2ms/step - accuracy: 0.9694 - loss: 0.1420\n",
            "Epoch 26/50\n",
            "\u001b[1m242/242\u001b[0m \u001b[32m━━━━━━━━━━━━━━━━━━━━\u001b[0m\u001b[37m\u001b[0m \u001b[1m1s\u001b[0m 2ms/step - accuracy: 0.9760 - loss: 0.1276\n",
            "Epoch 27/50\n",
            "\u001b[1m242/242\u001b[0m \u001b[32m━━━━━━━━━━━━━━━━━━━━\u001b[0m\u001b[37m\u001b[0m \u001b[1m1s\u001b[0m 2ms/step - accuracy: 0.9811 - loss: 0.1136\n",
            "Epoch 28/50\n",
            "\u001b[1m242/242\u001b[0m \u001b[32m━━━━━━━━━━━━━━━━━━━━\u001b[0m\u001b[37m\u001b[0m \u001b[1m1s\u001b[0m 2ms/step - accuracy: 0.9833 - loss: 0.1007\n",
            "Epoch 29/50\n",
            "\u001b[1m242/242\u001b[0m \u001b[32m━━━━━━━━━━━━━━━━━━━━\u001b[0m\u001b[37m\u001b[0m \u001b[1m1s\u001b[0m 2ms/step - accuracy: 0.9878 - loss: 0.0894\n",
            "Epoch 30/50\n",
            "\u001b[1m242/242\u001b[0m \u001b[32m━━━━━━━━━━━━━━━━━━━━\u001b[0m\u001b[37m\u001b[0m \u001b[1m1s\u001b[0m 2ms/step - accuracy: 0.9911 - loss: 0.0790\n",
            "Epoch 31/50\n",
            "\u001b[1m242/242\u001b[0m \u001b[32m━━━━━━━━━━━━━━━━━━━━\u001b[0m\u001b[37m\u001b[0m \u001b[1m1s\u001b[0m 2ms/step - accuracy: 0.9942 - loss: 0.0687\n",
            "Epoch 32/50\n",
            "\u001b[1m242/242\u001b[0m \u001b[32m━━━━━━━━━━━━━━━━━━━━\u001b[0m\u001b[37m\u001b[0m \u001b[1m1s\u001b[0m 2ms/step - accuracy: 0.9958 - loss: 0.0604\n",
            "Epoch 33/50\n",
            "\u001b[1m242/242\u001b[0m \u001b[32m━━━━━━━━━━━━━━━━━━━━\u001b[0m\u001b[37m\u001b[0m \u001b[1m1s\u001b[0m 2ms/step - accuracy: 0.9976 - loss: 0.0522\n",
            "Epoch 34/50\n",
            "\u001b[1m242/242\u001b[0m \u001b[32m━━━━━━━━━━━━━━━━━━━━\u001b[0m\u001b[37m\u001b[0m \u001b[1m1s\u001b[0m 2ms/step - accuracy: 0.9987 - loss: 0.0449\n",
            "Epoch 35/50\n",
            "\u001b[1m242/242\u001b[0m \u001b[32m━━━━━━━━━━━━━━━━━━━━\u001b[0m\u001b[37m\u001b[0m \u001b[1m1s\u001b[0m 2ms/step - accuracy: 0.9992 - loss: 0.0387\n",
            "Epoch 36/50\n",
            "\u001b[1m242/242\u001b[0m \u001b[32m━━━━━━━━━━━━━━━━━━━━\u001b[0m\u001b[37m\u001b[0m \u001b[1m1s\u001b[0m 3ms/step - accuracy: 0.9992 - loss: 0.0331\n",
            "Epoch 37/50\n",
            "\u001b[1m242/242\u001b[0m \u001b[32m━━━━━━━━━━━━━━━━━━━━\u001b[0m\u001b[37m\u001b[0m \u001b[1m1s\u001b[0m 3ms/step - accuracy: 0.9999 - loss: 0.0286\n",
            "Epoch 38/50\n",
            "\u001b[1m242/242\u001b[0m \u001b[32m━━━━━━━━━━━━━━━━━━━━\u001b[0m\u001b[37m\u001b[0m \u001b[1m1s\u001b[0m 3ms/step - accuracy: 0.9999 - loss: 0.0248\n",
            "Epoch 39/50\n",
            "\u001b[1m242/242\u001b[0m \u001b[32m━━━━━━━━━━━━━━━━━━━━\u001b[0m\u001b[37m\u001b[0m \u001b[1m1s\u001b[0m 3ms/step - accuracy: 1.0000 - loss: 0.0212\n",
            "Epoch 40/50\n",
            "\u001b[1m242/242\u001b[0m \u001b[32m━━━━━━━━━━━━━━━━━━━━\u001b[0m\u001b[37m\u001b[0m \u001b[1m1s\u001b[0m 4ms/step - accuracy: 1.0000 - loss: 0.0186\n",
            "Epoch 41/50\n",
            "\u001b[1m242/242\u001b[0m \u001b[32m━━━━━━━━━━━━━━━━━━━━\u001b[0m\u001b[37m\u001b[0m \u001b[1m1s\u001b[0m 4ms/step - accuracy: 1.0000 - loss: 0.0161\n",
            "Epoch 42/50\n",
            "\u001b[1m242/242\u001b[0m \u001b[32m━━━━━━━━━━━━━━━━━━━━\u001b[0m\u001b[37m\u001b[0m \u001b[1m1s\u001b[0m 2ms/step - accuracy: 1.0000 - loss: 0.0143\n",
            "Epoch 43/50\n",
            "\u001b[1m242/242\u001b[0m \u001b[32m━━━━━━━━━━━━━━━━━━━━\u001b[0m\u001b[37m\u001b[0m \u001b[1m1s\u001b[0m 2ms/step - accuracy: 1.0000 - loss: 0.0131\n",
            "Epoch 44/50\n",
            "\u001b[1m242/242\u001b[0m \u001b[32m━━━━━━━━━━━━━━━━━━━━\u001b[0m\u001b[37m\u001b[0m \u001b[1m1s\u001b[0m 2ms/step - accuracy: 0.9980 - loss: 0.0164\n",
            "Epoch 45/50\n",
            "\u001b[1m242/242\u001b[0m \u001b[32m━━━━━━━━━━━━━━━━━━━━\u001b[0m\u001b[37m\u001b[0m \u001b[1m1s\u001b[0m 2ms/step - accuracy: 0.9387 - loss: 0.1518\n",
            "Epoch 46/50\n",
            "\u001b[1m242/242\u001b[0m \u001b[32m━━━━━━━━━━━━━━━━━━━━\u001b[0m\u001b[37m\u001b[0m \u001b[1m1s\u001b[0m 2ms/step - accuracy: 0.9838 - loss: 0.0562\n",
            "Epoch 47/50\n",
            "\u001b[1m242/242\u001b[0m \u001b[32m━━━━━━━━━━━━━━━━━━━━\u001b[0m\u001b[37m\u001b[0m \u001b[1m1s\u001b[0m 2ms/step - accuracy: 0.9952 - loss: 0.0277\n",
            "Epoch 48/50\n",
            "\u001b[1m242/242\u001b[0m \u001b[32m━━━━━━━━━━━━━━━━━━━━\u001b[0m\u001b[37m\u001b[0m \u001b[1m1s\u001b[0m 2ms/step - accuracy: 0.9998 - loss: 0.0174\n",
            "Epoch 49/50\n",
            "\u001b[1m242/242\u001b[0m \u001b[32m━━━━━━━━━━━━━━━━━━━━\u001b[0m\u001b[37m\u001b[0m \u001b[1m1s\u001b[0m 2ms/step - accuracy: 1.0000 - loss: 0.0123\n",
            "Epoch 50/50\n",
            "\u001b[1m242/242\u001b[0m \u001b[32m━━━━━━━━━━━━━━━━━━━━\u001b[0m\u001b[37m\u001b[0m \u001b[1m1s\u001b[0m 2ms/step - accuracy: 1.0000 - loss: 0.0094\n",
            "----------------------------------------------------\n",
            "Тестирование\n",
            "----------------------------------------------------\n",
            "Точность: 52.43%\n"
          ]
        }
      ],
      "source": [
        "model, hero_to_index, num_heroes = predict_game_2(match_train)\n",
        "predict_test_2(model, match_test, hero_to_index, num_heroes)"
      ]
    },
    {
      "cell_type": "markdown",
      "metadata": {
        "id": "hQE8yyX9kiud"
      },
      "source": [
        "Уже есть прогресс, но нужно лучше"
      ]
    },
    {
      "cell_type": "markdown",
      "metadata": {
        "id": "BPdLCtFUP6Lo"
      },
      "source": [
        "## Попытка номер 3"
      ]
    },
    {
      "cell_type": "markdown",
      "metadata": {
        "id": "R_4Nj-rvIsfZ"
      },
      "source": [
        "Из нововведений отметим дебаг, который позволит нам посмотреть процесс обучения на графике.\n",
        "А ещё мы сделали несколько улучшений кода и посмотрим, улучшится ли результат."
      ]
    },
    {
      "cell_type": "code",
      "execution_count": null,
      "metadata": {
        "id": "q74GQ6zhP77t"
      },
      "outputs": [],
      "source": [
        "def predict_game_3(match_train, hero_number=200, debug=True):\n",
        "    '''\n",
        "    1. Усложнили модель\n",
        "    2. Добавили дополнительную статистику - как успешно проявил себя герой в матче\n",
        "    3. Также теперь учитываем синергию между героями\n",
        "    '''\n",
        "    ### ПОДГОТОВКА ВХОДНЫХ ДАННЫХ ###\n",
        "    radiant_ids, dire_ids, y_train, radiant_stats, dire_stats = [], [], [], [], []\n",
        "    for match in match_train:\n",
        "        radiant_ids.append(list(map(int, match['radiant_heroes'])))\n",
        "        dire_ids.append(list(map(int, match['dire_heroes'])))\n",
        "        y_train.append(int(match['winner']))\n",
        "        # Используем допстатистику\n",
        "        def extract_team_stats(team_info):\n",
        "            return np.mean([[p['kills'], p['assists'], p['gold_per_min'], p['xp_per_min'],\n",
        "                             p['hero_damage'], p['tower_damage']] for p in team_info], axis=0)\n",
        "        radiant_stats.append(extract_team_stats(match['radiant_players_info']))\n",
        "        dire_stats.append(extract_team_stats(match['dire_players_info']))\n",
        "    radiant_ids = np.array(radiant_ids)\n",
        "    dire_ids = np.array(dire_ids)\n",
        "    y_train = np.array(y_train)\n",
        "    radiant_stats = np.array(radiant_stats)\n",
        "    dire_stats = np.array(dire_stats)\n",
        "\n",
        "    ### МОДЕЛЬ ###\n",
        "    # Вход : id героев двух команда\n",
        "    radiant_input = layers.Input(shape=(5,), name=\"radiant_input\")\n",
        "    dire_input = layers.Input(shape=(5,), name=\"dire_input\")\n",
        "\n",
        "    # Эмбеддинги\n",
        "    embed_dim = 32\n",
        "    embedding = layers.Embedding(input_dim=hero_number+1, output_dim=embed_dim, name=\"hero_embedding\")\n",
        "    radiant_emb = embedding(radiant_input)\n",
        "    dire_emb = embedding(dire_input)\n",
        "    radiant_team = layers.GlobalAveragePooling1D()(radiant_emb)\n",
        "    dire_team = layers.GlobalAveragePooling1D()(dire_emb)\n",
        "    diff = layers.Subtract()([radiant_team, dire_team])\n",
        "    combined = layers.Concatenate()([radiant_team, dire_team, diff])\n",
        "    # Основная часть\n",
        "    x = layers.Dense(128, activation='relu')(combined)\n",
        "    x = layers.BatchNormalization()(x)\n",
        "    x = layers.Dropout(0.3)(x)\n",
        "    x = layers.Dense(64, activation='relu')(x)\n",
        "    x = layers.BatchNormalization()(x)\n",
        "    x = layers.Dropout(0.3)(x)\n",
        "    # Главный выход: предсказание победы\n",
        "    win_output = layers.Dense(1, activation='sigmoid', name=\"win_output\")(x)\n",
        "    # Дополнительный выход: предсказание общей эффективности команд\n",
        "    radiant_eff_output = layers.Dense(6, name=\"radiant_eff\")(radiant_team)\n",
        "    dire_eff_output = layers.Dense(6, name=\"dire_eff\")(dire_team)\n",
        "    model = models.Model(inputs=[radiant_input, dire_input],\n",
        "                         outputs=[win_output, radiant_eff_output, dire_eff_output])\n",
        "    model.compile(optimizer=optimizers.Adam(learning_rate=0.001),\n",
        "                  loss={\"win_output\": \"binary_crossentropy\",\n",
        "                        \"radiant_eff\": \"mse\",\n",
        "                        \"dire_eff\": \"mse\"},\n",
        "                  loss_weights={\"win_output\": 1.0, \"radiant_eff\": 0.2, \"dire_eff\": 0.2},\n",
        "                  metrics={\"win_output\": \"accuracy\"})\n",
        "    # Остановки\n",
        "    early_stopping = callbacks.EarlyStopping(monitor='val_loss', patience=10, restore_best_weights=True)\n",
        "    model_checkpoint = callbacks.ModelCheckpoint('best_model_v4.keras', monitor='val_loss', save_best_only=True)\n",
        "    lr_scheduler = callbacks.ReduceLROnPlateau(monitor='val_loss', factor=0.5, patience=5)\n",
        "\n",
        "\n",
        "    ### ОБУЧЕНИЕ ###\n",
        "    history = model.fit(\n",
        "        [radiant_ids, dire_ids],\n",
        "        {\"win_output\": y_train, \"radiant_eff\": radiant_stats, \"dire_eff\": dire_stats},\n",
        "        epochs=100,\n",
        "        batch_size=32,\n",
        "        validation_split=0.2,\n",
        "        callbacks=[early_stopping, model_checkpoint, lr_scheduler],\n",
        "        verbose=1 if debug else 0\n",
        "    )\n",
        "\n",
        "    if debug:\n",
        "        plt.figure(figsize=(12, 4))\n",
        "        plt.subplot(1, 2, 1)\n",
        "        plt.plot(history.history['win_output_accuracy'], label='Точность (обучение)')\n",
        "        plt.plot(history.history['val_win_output_accuracy'], label='Точность (валидация)')\n",
        "        plt.xlabel(\"Эпоха\")\n",
        "        plt.ylabel(\"Точность\")\n",
        "        plt.legend()\n",
        "\n",
        "        plt.subplot(1, 2, 2)\n",
        "        plt.plot(history.history['win_output_loss'], label='Loss (обучение)')\n",
        "        plt.plot(history.history['val_win_output_loss'], label='Loss (валидация)')\n",
        "        plt.xlabel(\"Эпоха\")\n",
        "        plt.ylabel(\"Loss\")\n",
        "        plt.legend()\n",
        "        plt.show()\n",
        "\n",
        "    return model\n",
        "\n",
        "def predict_test_3(model, match_test, hero_number=200):\n",
        "    print('-'*52 + '\\nТестирование\\n' + '-'*52)\n",
        "    radiant_ids, dire_ids, true_labels = [], [], []\n",
        "    correct, total = 0, 0\n",
        "    for match in match_test:\n",
        "        radiant = list(map(int, match['radiant_heroes']))\n",
        "        dire = list(map(int, match['dire_heroes']))\n",
        "        radiant_ids.append(radiant)\n",
        "        dire_ids.append(dire)\n",
        "        true_labels.append(int(match['winner']))\n",
        "        total += 1\n",
        "\n",
        "    radiant_ids = np.array(radiant_ids)\n",
        "    dire_ids = np.array(dire_ids)\n",
        "    true_labels = np.array(true_labels)\n",
        "\n",
        "    predictions = model.predict([radiant_ids, dire_ids], verbose=0)[0]\n",
        "    predicted_labels = (predictions.flatten() >= 0.5).astype(int)\n",
        "    correct = (predicted_labels == true_labels).sum()\n",
        "    print(f\"Точность: {round((correct / total) * 100, 2)}%\")\n"
      ]
    },
    {
      "cell_type": "code",
      "execution_count": null,
      "metadata": {
        "colab": {
          "base_uri": "https://localhost:8080/",
          "height": 1000
        },
        "id": "A9G_1tYWP_km",
        "outputId": "e72556a1-92cc-4d8c-d68b-93c3a3d4474b"
      },
      "outputs": [
        {
          "name": "stdout",
          "output_type": "stream",
          "text": [
            "Epoch 1/100\n",
            "\u001b[1m194/194\u001b[0m \u001b[32m━━━━━━━━━━━━━━━━━━━━\u001b[0m\u001b[37m\u001b[0m \u001b[1m5s\u001b[0m 9ms/step - dire_eff_loss: 130298024.0000 - loss: 52870792.0000 - radiant_eff_loss: 134051736.0000 - win_output_accuracy: 0.5001 - win_output_loss: 0.8945 - val_dire_eff_loss: 134511008.0000 - val_loss: 53895752.0000 - val_radiant_eff_loss: 135653968.0000 - val_win_output_accuracy: 0.5424 - val_win_output_loss: 0.6896 - learning_rate: 0.0010\n",
            "Epoch 2/100\n",
            "\u001b[1m194/194\u001b[0m \u001b[32m━━━━━━━━━━━━━━━━━━━━\u001b[0m\u001b[37m\u001b[0m \u001b[1m2s\u001b[0m 8ms/step - dire_eff_loss: 130231272.0000 - loss: 52844084.0000 - radiant_eff_loss: 133985016.0000 - win_output_accuracy: 0.5198 - win_output_loss: 0.7621 - val_dire_eff_loss: 134364864.0000 - val_loss: 53836972.0000 - val_radiant_eff_loss: 135505808.0000 - val_win_output_accuracy: 0.4945 - val_win_output_loss: 0.6973 - learning_rate: 0.0010\n",
            "Epoch 3/100\n",
            "\u001b[1m194/194\u001b[0m \u001b[32m━━━━━━━━━━━━━━━━━━━━\u001b[0m\u001b[37m\u001b[0m \u001b[1m2s\u001b[0m 5ms/step - dire_eff_loss: 130061248.0000 - loss: 52774992.0000 - radiant_eff_loss: 133809560.0000 - win_output_accuracy: 0.5063 - win_output_loss: 0.7376 - val_dire_eff_loss: 134112504.0000 - val_loss: 53735248.0000 - val_radiant_eff_loss: 135248656.0000 - val_win_output_accuracy: 0.4822 - val_win_output_loss: 0.6952 - learning_rate: 0.0010\n",
            "Epoch 4/100\n",
            "\u001b[1m194/194\u001b[0m \u001b[32m━━━━━━━━━━━━━━━━━━━━\u001b[0m\u001b[37m\u001b[0m \u001b[1m1s\u001b[0m 5ms/step - dire_eff_loss: 129789304.0000 - loss: 52664264.0000 - radiant_eff_loss: 133527800.0000 - win_output_accuracy: 0.5221 - win_output_loss: 0.7198 - val_dire_eff_loss: 133763424.0000 - val_loss: 53594464.0000 - val_radiant_eff_loss: 134892672.0000 - val_win_output_accuracy: 0.4615 - val_win_output_loss: 0.7467 - learning_rate: 0.0010\n",
            "Epoch 5/100\n",
            "\u001b[1m194/194\u001b[0m \u001b[32m━━━━━━━━━━━━━━━━━━━━\u001b[0m\u001b[37m\u001b[0m \u001b[1m1s\u001b[0m 5ms/step - dire_eff_loss: 129424856.0000 - loss: 52515788.0000 - radiant_eff_loss: 133150016.0000 - win_output_accuracy: 0.5297 - win_output_loss: 0.7113 - val_dire_eff_loss: 133327088.0000 - val_loss: 53418512.0000 - val_radiant_eff_loss: 134447712.0000 - val_win_output_accuracy: 0.5230 - val_win_output_loss: 0.6950 - learning_rate: 0.0010\n",
            "Epoch 6/100\n",
            "\u001b[1m194/194\u001b[0m \u001b[32m━━━━━━━━━━━━━━━━━━━━\u001b[0m\u001b[37m\u001b[0m \u001b[1m1s\u001b[0m 5ms/step - dire_eff_loss: 128976936.0000 - loss: 52333376.0000 - radiant_eff_loss: 132685728.0000 - win_output_accuracy: 0.5384 - win_output_loss: 0.6994 - val_dire_eff_loss: 132812040.0000 - val_loss: 53210820.0000 - val_radiant_eff_loss: 133922608.0000 - val_win_output_accuracy: 0.5417 - val_win_output_loss: 0.6901 - learning_rate: 0.0010\n",
            "Epoch 7/100\n",
            "\u001b[1m194/194\u001b[0m \u001b[32m━━━━━━━━━━━━━━━━━━━━\u001b[0m\u001b[37m\u001b[0m \u001b[1m1s\u001b[0m 5ms/step - dire_eff_loss: 128453880.0000 - loss: 52120308.0000 - radiant_eff_loss: 132143536.0000 - win_output_accuracy: 0.5395 - win_output_loss: 0.6948 - val_dire_eff_loss: 132226024.0000 - val_loss: 52974548.0000 - val_radiant_eff_loss: 133325200.0000 - val_win_output_accuracy: 0.5508 - val_win_output_loss: 0.6892 - learning_rate: 0.0010\n",
            "Epoch 8/100\n",
            "\u001b[1m194/194\u001b[0m \u001b[32m━━━━━━━━━━━━━━━━━━━━\u001b[0m\u001b[37m\u001b[0m \u001b[1m1s\u001b[0m 5ms/step - dire_eff_loss: 127863000.0000 - loss: 51879628.0000 - radiant_eff_loss: 131531032.0000 - win_output_accuracy: 0.5501 - win_output_loss: 0.6887 - val_dire_eff_loss: 131576008.0000 - val_loss: 52712460.0000 - val_radiant_eff_loss: 132662568.0000 - val_win_output_accuracy: 0.5437 - val_win_output_loss: 0.6904 - learning_rate: 0.0010\n",
            "Epoch 9/100\n",
            "\u001b[1m194/194\u001b[0m \u001b[32m━━━━━━━━━━━━━━━━━━━━\u001b[0m\u001b[37m\u001b[0m \u001b[1m1s\u001b[0m 5ms/step - dire_eff_loss: 127210968.0000 - loss: 51614044.0000 - radiant_eff_loss: 130855088.0000 - win_output_accuracy: 0.5395 - win_output_loss: 0.6934 - val_dire_eff_loss: 130868232.0000 - val_loss: 52427096.0000 - val_radiant_eff_loss: 131941096.0000 - val_win_output_accuracy: 0.5417 - val_win_output_loss: 0.6891 - learning_rate: 0.0010\n",
            "Epoch 10/100\n",
            "\u001b[1m194/194\u001b[0m \u001b[32m━━━━━━━━━━━━━━━━━━━━\u001b[0m\u001b[37m\u001b[0m \u001b[1m1s\u001b[0m 5ms/step - dire_eff_loss: 126503824.0000 - loss: 51325980.0000 - radiant_eff_loss: 130121952.0000 - win_output_accuracy: 0.5471 - win_output_loss: 0.6916 - val_dire_eff_loss: 130108360.0000 - val_loss: 52120728.0000 - val_radiant_eff_loss: 131166472.0000 - val_win_output_accuracy: 0.5417 - val_win_output_loss: 0.6896 - learning_rate: 0.0010\n",
            "Epoch 11/100\n",
            "\u001b[1m194/194\u001b[0m \u001b[32m━━━━━━━━━━━━━━━━━━━━\u001b[0m\u001b[37m\u001b[0m \u001b[1m1s\u001b[0m 6ms/step - dire_eff_loss: 125746848.0000 - loss: 51017600.0000 - radiant_eff_loss: 129337064.0000 - win_output_accuracy: 0.5484 - win_output_loss: 0.6875 - val_dire_eff_loss: 129301232.0000 - val_loss: 51795324.0000 - val_radiant_eff_loss: 130343696.0000 - val_win_output_accuracy: 0.5443 - val_win_output_loss: 0.6892 - learning_rate: 0.0010\n",
            "Epoch 12/100\n",
            "\u001b[1m194/194\u001b[0m \u001b[32m━━━━━━━━━━━━━━━━━━━━\u001b[0m\u001b[37m\u001b[0m \u001b[1m2s\u001b[0m 9ms/step - dire_eff_loss: 124944744.0000 - loss: 50690820.0000 - radiant_eff_loss: 128505296.0000 - win_output_accuracy: 0.5557 - win_output_loss: 0.6862 - val_dire_eff_loss: 128451208.0000 - val_loss: 51452612.0000 - val_radiant_eff_loss: 129477160.0000 - val_win_output_accuracy: 0.5417 - val_win_output_loss: 0.6893 - learning_rate: 0.0010\n",
            "Epoch 13/100\n",
            "\u001b[1m194/194\u001b[0m \u001b[32m━━━━━━━━━━━━━━━━━━━━\u001b[0m\u001b[37m\u001b[0m \u001b[1m2s\u001b[0m 6ms/step - dire_eff_loss: 124101536.0000 - loss: 50347284.0000 - radiant_eff_loss: 127630808.0000 - win_output_accuracy: 0.5579 - win_output_loss: 0.6864 - val_dire_eff_loss: 127561856.0000 - val_loss: 51094052.0000 - val_radiant_eff_loss: 128570512.0000 - val_win_output_accuracy: 0.5417 - val_win_output_loss: 0.6891 - learning_rate: 0.0010\n",
            "Epoch 14/100\n",
            "\u001b[1m194/194\u001b[0m \u001b[32m━━━━━━━━━━━━━━━━━━━━\u001b[0m\u001b[37m\u001b[0m \u001b[1m1s\u001b[0m 5ms/step - dire_eff_loss: 123220624.0000 - loss: 49988352.0000 - radiant_eff_loss: 126717096.0000 - win_output_accuracy: 0.5442 - win_output_loss: 0.6883 - val_dire_eff_loss: 126636040.0000 - val_loss: 50720820.0000 - val_radiant_eff_loss: 127626760.0000 - val_win_output_accuracy: 0.5392 - val_win_output_loss: 0.6885 - learning_rate: 0.0010\n",
            "Epoch 15/100\n",
            "\u001b[1m194/194\u001b[0m \u001b[32m━━━━━━━━━━━━━━━━━━━━\u001b[0m\u001b[37m\u001b[0m \u001b[1m2s\u001b[0m 8ms/step - dire_eff_loss: 122304632.0000 - loss: 49615132.0000 - radiant_eff_loss: 125767024.0000 - win_output_accuracy: 0.5537 - win_output_loss: 0.6875 - val_dire_eff_loss: 125676200.0000 - val_loss: 50333844.0000 - val_radiant_eff_loss: 126648240.0000 - val_win_output_accuracy: 0.5424 - val_win_output_loss: 0.6886 - learning_rate: 0.0010\n",
            "Epoch 16/100\n",
            "\u001b[1m194/194\u001b[0m \u001b[32m━━━━━━━━━━━━━━━━━━━━\u001b[0m\u001b[37m\u001b[0m \u001b[1m3s\u001b[0m 8ms/step - dire_eff_loss: 121355752.0000 - loss: 49228500.0000 - radiant_eff_loss: 124782744.0000 - win_output_accuracy: 0.5517 - win_output_loss: 0.6877 - val_dire_eff_loss: 124684144.0000 - val_loss: 49933920.0000 - val_radiant_eff_loss: 125636952.0000 - val_win_output_accuracy: 0.5424 - val_win_output_loss: 0.6884 - learning_rate: 0.0010\n",
            "Epoch 17/100\n",
            "\u001b[1m194/194\u001b[0m \u001b[32m━━━━━━━━━━━━━━━━━━━━\u001b[0m\u001b[37m\u001b[0m \u001b[1m1s\u001b[0m 5ms/step - dire_eff_loss: 120375744.0000 - loss: 48829196.0000 - radiant_eff_loss: 123766208.0000 - win_output_accuracy: 0.5524 - win_output_loss: 0.6870 - val_dire_eff_loss: 123661592.0000 - val_loss: 49521712.0000 - val_radiant_eff_loss: 124594552.0000 - val_win_output_accuracy: 0.5424 - val_win_output_loss: 0.6885 - learning_rate: 0.0010\n",
            "Epoch 18/100\n",
            "\u001b[1m194/194\u001b[0m \u001b[32m━━━━━━━━━━━━━━━━━━━━\u001b[0m\u001b[37m\u001b[0m \u001b[1m1s\u001b[0m 5ms/step - dire_eff_loss: 119366248.0000 - loss: 48417880.0000 - radiant_eff_loss: 122719144.0000 - win_output_accuracy: 0.5555 - win_output_loss: 0.6871 - val_dire_eff_loss: 122610120.0000 - val_loss: 49097860.0000 - val_radiant_eff_loss: 123522752.0000 - val_win_output_accuracy: 0.5417 - val_win_output_loss: 0.6887 - learning_rate: 0.0010\n",
            "Epoch 19/100\n",
            "\u001b[1m194/194\u001b[0m \u001b[32m━━━━━━━━━━━━━━━━━━━━\u001b[0m\u001b[37m\u001b[0m \u001b[1m1s\u001b[0m 5ms/step - dire_eff_loss: 118328768.0000 - loss: 47995180.0000 - radiant_eff_loss: 121643144.0000 - win_output_accuracy: 0.5565 - win_output_loss: 0.6879 - val_dire_eff_loss: 121531176.0000 - val_loss: 48662972.0000 - val_radiant_eff_loss: 122423056.0000 - val_win_output_accuracy: 0.5417 - val_win_output_loss: 0.6887 - learning_rate: 0.0010\n",
            "Epoch 20/100\n",
            "\u001b[1m194/194\u001b[0m \u001b[32m━━━━━━━━━━━━━━━━━━━━\u001b[0m\u001b[37m\u001b[0m \u001b[1m1s\u001b[0m 7ms/step - dire_eff_loss: 117264688.0000 - loss: 47561656.0000 - radiant_eff_loss: 120539624.0000 - win_output_accuracy: 0.5586 - win_output_loss: 0.6865 - val_dire_eff_loss: 120426056.0000 - val_loss: 48217576.0000 - val_radiant_eff_loss: 121296824.0000 - val_win_output_accuracy: 0.5417 - val_win_output_loss: 0.6890 - learning_rate: 0.0010\n",
            "Epoch 21/100\n",
            "\u001b[1m194/194\u001b[0m \u001b[32m━━━━━━━━━━━━━━━━━━━━\u001b[0m\u001b[37m\u001b[0m \u001b[1m2s\u001b[0m 9ms/step - dire_eff_loss: 116175320.0000 - loss: 47117864.0000 - radiant_eff_loss: 119410072.0000 - win_output_accuracy: 0.5560 - win_output_loss: 0.6855 - val_dire_eff_loss: 119296232.0000 - val_loss: 47762232.0000 - val_radiant_eff_loss: 120145512.0000 - val_win_output_accuracy: 0.5417 - val_win_output_loss: 0.6891 - learning_rate: 0.0010\n",
            "Epoch 22/100\n",
            "\u001b[1m194/194\u001b[0m \u001b[32m━━━━━━━━━━━━━━━━━━━━\u001b[0m\u001b[37m\u001b[0m \u001b[1m2s\u001b[0m 5ms/step - dire_eff_loss: 115062096.0000 - loss: 46664380.0000 - radiant_eff_loss: 118255848.0000 - win_output_accuracy: 0.5538 - win_output_loss: 0.6866 - val_dire_eff_loss: 118143184.0000 - val_loss: 47297580.0000 - val_radiant_eff_loss: 118970616.0000 - val_win_output_accuracy: 0.5411 - val_win_output_loss: 0.6886 - learning_rate: 0.0010\n",
            "Epoch 23/100\n",
            "\u001b[1m194/194\u001b[0m \u001b[32m━━━━━━━━━━━━━━━━━━━━\u001b[0m\u001b[37m\u001b[0m \u001b[1m1s\u001b[0m 5ms/step - dire_eff_loss: 113926536.0000 - loss: 46201800.0000 - radiant_eff_loss: 117078576.0000 - win_output_accuracy: 0.5534 - win_output_loss: 0.6864 - val_dire_eff_loss: 116968528.0000 - val_loss: 46824236.0000 - val_radiant_eff_loss: 117773856.0000 - val_win_output_accuracy: 0.5417 - val_win_output_loss: 0.6889 - learning_rate: 0.0010\n",
            "Epoch 24/100\n",
            "\u001b[1m194/194\u001b[0m \u001b[32m━━━━━━━━━━━━━━━━━━━━\u001b[0m\u001b[37m\u001b[0m \u001b[1m2s\u001b[0m 7ms/step - dire_eff_loss: 112770160.0000 - loss: 45730784.0000 - radiant_eff_loss: 115879936.0000 - win_output_accuracy: 0.5539 - win_output_loss: 0.6864 - val_dire_eff_loss: 115773752.0000 - val_loss: 46342864.0000 - val_radiant_eff_loss: 116556856.0000 - val_win_output_accuracy: 0.5417 - val_win_output_loss: 0.6892 - learning_rate: 0.0010\n",
            "Epoch 25/100\n",
            "\u001b[1m194/194\u001b[0m \u001b[32m━━━━━━━━━━━━━━━━━━━━\u001b[0m\u001b[37m\u001b[0m \u001b[1m2s\u001b[0m 6ms/step - dire_eff_loss: 111594496.0000 - loss: 45251964.0000 - radiant_eff_loss: 114661496.0000 - win_output_accuracy: 0.5585 - win_output_loss: 0.6860 - val_dire_eff_loss: 114560368.0000 - val_loss: 45854060.0000 - val_radiant_eff_loss: 115321264.0000 - val_win_output_accuracy: 0.5417 - val_win_output_loss: 0.6892 - learning_rate: 0.0010\n",
            "Epoch 26/100\n",
            "\u001b[1m194/194\u001b[0m \u001b[32m━━━━━━━━━━━━━━━━━━━━\u001b[0m\u001b[37m\u001b[0m \u001b[1m1s\u001b[0m 5ms/step - dire_eff_loss: 110400936.0000 - loss: 44765936.0000 - radiant_eff_loss: 113424880.0000 - win_output_accuracy: 0.5566 - win_output_loss: 0.6877 - val_dire_eff_loss: 113329688.0000 - val_loss: 45358372.0000 - val_radiant_eff_loss: 114068504.0000 - val_win_output_accuracy: 0.5417 - val_win_output_loss: 0.6887 - learning_rate: 0.0010\n",
            "Epoch 27/100\n",
            "\u001b[1m194/194\u001b[0m \u001b[32m━━━━━━━━━━━━━━━━━━━━\u001b[0m\u001b[37m\u001b[0m \u001b[1m1s\u001b[0m 5ms/step - dire_eff_loss: 109190752.0000 - loss: 44273216.0000 - radiant_eff_loss: 112171528.0000 - win_output_accuracy: 0.5576 - win_output_loss: 0.6861 - val_dire_eff_loss: 112082864.0000 - val_loss: 44856312.0000 - val_radiant_eff_loss: 112799856.0000 - val_win_output_accuracy: 0.5417 - val_win_output_loss: 0.6888 - learning_rate: 0.0010\n",
            "Epoch 28/100\n",
            "\u001b[1m194/194\u001b[0m \u001b[32m━━━━━━━━━━━━━━━━━━━━\u001b[0m\u001b[37m\u001b[0m \u001b[1m1s\u001b[0m 5ms/step - dire_eff_loss: 107964944.0000 - loss: 43774288.0000 - radiant_eff_loss: 110902728.0000 - win_output_accuracy: 0.5535 - win_output_loss: 0.6874 - val_dire_eff_loss: 110820856.0000 - val_loss: 44348312.0000 - val_radiant_eff_loss: 111516560.0000 - val_win_output_accuracy: 0.5417 - val_win_output_loss: 0.6892 - learning_rate: 0.0010\n",
            "Epoch 29/100\n",
            "\u001b[1m194/194\u001b[0m \u001b[32m━━━━━━━━━━━━━━━━━━━━\u001b[0m\u001b[37m\u001b[0m \u001b[1m1s\u001b[0m 6ms/step - dire_eff_loss: 106724448.0000 - loss: 43269552.0000 - radiant_eff_loss: 109619536.0000 - win_output_accuracy: 0.5593 - win_output_loss: 0.6863 - val_dire_eff_loss: 109544424.0000 - val_loss: 43834688.0000 - val_radiant_eff_loss: 110219584.0000 - val_win_output_accuracy: 0.5417 - val_win_output_loss: 0.6887 - learning_rate: 0.0010\n",
            "Epoch 30/100\n",
            "\u001b[1m194/194\u001b[0m \u001b[32m━━━━━━━━━━━━━━━━━━━━\u001b[0m\u001b[37m\u001b[0m \u001b[1m2s\u001b[0m 9ms/step - dire_eff_loss: 105469920.0000 - loss: 42759340.0000 - radiant_eff_loss: 108323008.0000 - win_output_accuracy: 0.5558 - win_output_loss: 0.6864 - val_dire_eff_loss: 108254200.0000 - val_loss: 43315752.0000 - val_radiant_eff_loss: 108909696.0000 - val_win_output_accuracy: 0.5417 - val_win_output_loss: 0.6892 - learning_rate: 0.0010\n",
            "Epoch 31/100\n",
            "\u001b[1m194/194\u001b[0m \u001b[32m━━━━━━━━━━━━━━━━━━━━\u001b[0m\u001b[37m\u001b[0m \u001b[1m2s\u001b[0m 6ms/step - dire_eff_loss: 104201840.0000 - loss: 42243872.0000 - radiant_eff_loss: 107013808.0000 - win_output_accuracy: 0.5586 - win_output_loss: 0.6858 - val_dire_eff_loss: 106950544.0000 - val_loss: 42791656.0000 - val_radiant_eff_loss: 107587480.0000 - val_win_output_accuracy: 0.5417 - val_win_output_loss: 0.6889 - learning_rate: 0.0010\n",
            "Epoch 32/100\n",
            "\u001b[1m194/194\u001b[0m \u001b[32m━━━━━━━━━━━━━━━━━━━━\u001b[0m\u001b[37m\u001b[0m \u001b[1m1s\u001b[0m 5ms/step - dire_eff_loss: 102920496.0000 - loss: 41723352.0000 - radiant_eff_loss: 105692568.0000 - win_output_accuracy: 0.5553 - win_output_loss: 0.6860 - val_dire_eff_loss: 105633648.0000 - val_loss: 42262576.0000 - val_radiant_eff_loss: 106253384.0000 - val_win_output_accuracy: 0.5411 - val_win_output_loss: 0.6889 - learning_rate: 0.0010\n",
            "Epoch 33/100\n",
            "\u001b[1m194/194\u001b[0m \u001b[32m━━━━━━━━━━━━━━━━━━━━\u001b[0m\u001b[37m\u001b[0m \u001b[1m1s\u001b[0m 5ms/step - dire_eff_loss: 101626088.0000 - loss: 41197860.0000 - radiant_eff_loss: 104359576.0000 - win_output_accuracy: 0.5586 - win_output_loss: 0.6862 - val_dire_eff_loss: 104303712.0000 - val_loss: 41728544.0000 - val_radiant_eff_loss: 104907576.0000 - val_win_output_accuracy: 0.5417 - val_win_output_loss: 0.6885 - learning_rate: 0.0010\n",
            "Epoch 34/100\n",
            "\u001b[1m194/194\u001b[0m \u001b[32m━━━━━━━━━━━━━━━━━━━━\u001b[0m\u001b[37m\u001b[0m \u001b[1m1s\u001b[0m 5ms/step - dire_eff_loss: 100318664.0000 - loss: 40667468.0000 - radiant_eff_loss: 103015064.0000 - win_output_accuracy: 0.5590 - win_output_loss: 0.6859 - val_dire_eff_loss: 102960840.0000 - val_loss: 41189600.0000 - val_radiant_eff_loss: 103550056.0000 - val_win_output_accuracy: 0.5411 - val_win_output_loss: 0.6883 - learning_rate: 0.0010\n",
            "Epoch 35/100\n",
            "\u001b[1m194/194\u001b[0m \u001b[32m━━━━━━━━━━━━━━━━━━━━\u001b[0m\u001b[37m\u001b[0m \u001b[1m1s\u001b[0m 5ms/step - dire_eff_loss: 98998384.0000 - loss: 40132216.0000 - radiant_eff_loss: 101659072.0000 - win_output_accuracy: 0.5537 - win_output_loss: 0.6878 - val_dire_eff_loss: 101605240.0000 - val_loss: 40645792.0000 - val_radiant_eff_loss: 102180928.0000 - val_win_output_accuracy: 0.5417 - val_win_output_loss: 0.6893 - learning_rate: 0.0010\n",
            "Epoch 36/100\n",
            "\u001b[1m194/194\u001b[0m \u001b[32m━━━━━━━━━━━━━━━━━━━━\u001b[0m\u001b[37m\u001b[0m \u001b[1m1s\u001b[0m 5ms/step - dire_eff_loss: 97665504.0000 - loss: 39592136.0000 - radiant_eff_loss: 100291608.0000 - win_output_accuracy: 0.5578 - win_output_loss: 0.6857 - val_dire_eff_loss: 100237256.0000 - val_loss: 40097192.0000 - val_radiant_eff_loss: 100800096.0000 - val_win_output_accuracy: 0.5417 - val_win_output_loss: 0.6886 - learning_rate: 0.0010\n",
            "Epoch 37/100\n",
            "\u001b[1m194/194\u001b[0m \u001b[32m━━━━━━━━━━━━━━━━━━━━\u001b[0m\u001b[37m\u001b[0m \u001b[1m1s\u001b[0m 5ms/step - dire_eff_loss: 96320416.0000 - loss: 39047340.0000 - radiant_eff_loss: 98912752.0000 - win_output_accuracy: 0.5539 - win_output_loss: 0.6858 - val_dire_eff_loss: 98857432.0000 - val_loss: 39543952.0000 - val_radiant_eff_loss: 99407872.0000 - val_win_output_accuracy: 0.5417 - val_win_output_loss: 0.6889 - learning_rate: 0.0010\n",
            "Epoch 38/100\n",
            "\u001b[1m194/194\u001b[0m \u001b[32m━━━━━━━━━━━━━━━━━━━━\u001b[0m\u001b[37m\u001b[0m \u001b[1m1s\u001b[0m 5ms/step - dire_eff_loss: 94963672.0000 - loss: 38497984.0000 - radiant_eff_loss: 97522688.0000 - win_output_accuracy: 0.5573 - win_output_loss: 0.6864 - val_dire_eff_loss: 97466440.0000 - val_loss: 38986252.0000 - val_radiant_eff_loss: 98004456.0000 - val_win_output_accuracy: 0.5417 - val_win_output_loss: 0.6892 - learning_rate: 0.0010\n",
            "Epoch 39/100\n",
            "\u001b[1m194/194\u001b[0m \u001b[32m━━━━━━━━━━━━━━━━━━━━\u001b[0m\u001b[37m\u001b[0m \u001b[1m1s\u001b[0m 5ms/step - dire_eff_loss: 93596112.0000 - loss: 37944296.0000 - radiant_eff_loss: 96121840.0000 - win_output_accuracy: 0.5581 - win_output_loss: 0.6863 - val_dire_eff_loss: 96065184.0000 - val_loss: 38424416.0000 - val_radiant_eff_loss: 96590616.0000 - val_win_output_accuracy: 0.5463 - val_win_output_loss: 0.6886 - learning_rate: 0.0010\n",
            "Epoch 40/100\n",
            "\u001b[1m194/194\u001b[0m \u001b[32m━━━━━━━━━━━━━━━━━━━━\u001b[0m\u001b[37m\u001b[0m \u001b[1m1s\u001b[0m 7ms/step - dire_eff_loss: 92218648.0000 - loss: 37386592.0000 - radiant_eff_loss: 94710864.0000 - win_output_accuracy: 0.5575 - win_output_loss: 0.6863 - val_dire_eff_loss: 94654528.0000 - val_loss: 37858780.0000 - val_radiant_eff_loss: 95167080.0000 - val_win_output_accuracy: 0.5417 - val_win_output_loss: 0.6889 - learning_rate: 0.0010\n",
            "Epoch 41/100\n",
            "\u001b[1m194/194\u001b[0m \u001b[32m━━━━━━━━━━━━━━━━━━━━\u001b[0m\u001b[37m\u001b[0m \u001b[1m3s\u001b[0m 8ms/step - dire_eff_loss: 90832176.0000 - loss: 36825240.0000 - radiant_eff_loss: 93290584.0000 - win_output_accuracy: 0.5602 - win_output_loss: 0.6864 - val_dire_eff_loss: 93235536.0000 - val_loss: 37289756.0000 - val_radiant_eff_loss: 93734848.0000 - val_win_output_accuracy: 0.5463 - val_win_output_loss: 0.6894 - learning_rate: 0.0010\n",
            "Epoch 42/100\n",
            "\u001b[1m194/194\u001b[0m \u001b[32m━━━━━━━━━━━━━━━━━━━━\u001b[0m\u001b[37m\u001b[0m \u001b[1m1s\u001b[0m 5ms/step - dire_eff_loss: 89437840.0000 - loss: 36260648.0000 - radiant_eff_loss: 91861976.0000 - win_output_accuracy: 0.5620 - win_output_loss: 0.6858 - val_dire_eff_loss: 91809320.0000 - val_loss: 36717760.0000 - val_radiant_eff_loss: 92294936.0000 - val_win_output_accuracy: 0.5417 - val_win_output_loss: 0.6891 - learning_rate: 0.0010\n",
            "Epoch 43/100\n",
            "\u001b[1m194/194\u001b[0m \u001b[32m━━━━━━━━━━━━━━━━━━━━\u001b[0m\u001b[37m\u001b[0m \u001b[1m1s\u001b[0m 5ms/step - dire_eff_loss: 88036744.0000 - loss: 35693232.0000 - radiant_eff_loss: 90426088.0000 - win_output_accuracy: 0.5555 - win_output_loss: 0.6852 - val_dire_eff_loss: 90376952.0000 - val_loss: 36143240.0000 - val_radiant_eff_loss: 90848504.0000 - val_win_output_accuracy: 0.5417 - val_win_output_loss: 0.6896 - learning_rate: 0.0010\n",
            "Epoch 44/100\n",
            "\u001b[1m194/194\u001b[0m \u001b[32m━━━━━━━━━━━━━━━━━━━━\u001b[0m\u001b[37m\u001b[0m \u001b[1m1s\u001b[0m 5ms/step - dire_eff_loss: 86629960.0000 - loss: 35123460.0000 - radiant_eff_loss: 88984024.0000 - win_output_accuracy: 0.5558 - win_output_loss: 0.6855 - val_dire_eff_loss: 88939600.0000 - val_loss: 35566660.0000 - val_radiant_eff_loss: 89396704.0000 - val_win_output_accuracy: 0.5417 - val_win_output_loss: 0.6889 - learning_rate: 0.0010\n",
            "Epoch 45/100\n",
            "\u001b[1m194/194\u001b[0m \u001b[32m━━━━━━━━━━━━━━━━━━━━\u001b[0m\u001b[37m\u001b[0m \u001b[1m1s\u001b[0m 5ms/step - dire_eff_loss: 85218664.0000 - loss: 34551780.0000 - radiant_eff_loss: 87536928.0000 - win_output_accuracy: 0.5621 - win_output_loss: 0.6854 - val_dire_eff_loss: 87498376.0000 - val_loss: 34988488.0000 - val_radiant_eff_loss: 87940712.0000 - val_win_output_accuracy: 0.5424 - val_win_output_loss: 0.6887 - learning_rate: 0.0010\n",
            "Epoch 46/100\n",
            "\u001b[1m194/194\u001b[0m \u001b[32m━━━━━━━━━━━━━━━━━━━━\u001b[0m\u001b[37m\u001b[0m \u001b[1m1s\u001b[0m 5ms/step - dire_eff_loss: 83803984.0000 - loss: 33978648.0000 - radiant_eff_loss: 86085984.0000 - win_output_accuracy: 0.5560 - win_output_loss: 0.6861 - val_dire_eff_loss: 86054416.0000 - val_loss: 34409164.0000 - val_radiant_eff_loss: 86481672.0000 - val_win_output_accuracy: 0.5398 - val_win_output_loss: 0.6888 - learning_rate: 0.0010\n",
            "Epoch 47/100\n",
            "\u001b[1m194/194\u001b[0m \u001b[32m━━━━━━━━━━━━━━━━━━━━\u001b[0m\u001b[37m\u001b[0m \u001b[1m1s\u001b[0m 5ms/step - dire_eff_loss: 82387072.0000 - loss: 33404534.0000 - radiant_eff_loss: 84632336.0000 - win_output_accuracy: 0.5599 - win_output_loss: 0.6851 - val_dire_eff_loss: 84608872.0000 - val_loss: 33829156.0000 - val_radiant_eff_loss: 85020784.0000 - val_win_output_accuracy: 0.5417 - val_win_output_loss: 0.6888 - learning_rate: 0.0010\n",
            "Epoch 48/100\n",
            "\u001b[1m194/194\u001b[0m \u001b[32m━━━━━━━━━━━━━━━━━━━━\u001b[0m\u001b[37m\u001b[0m \u001b[1m1s\u001b[0m 5ms/step - dire_eff_loss: 80969056.0000 - loss: 32829878.0000 - radiant_eff_loss: 83177088.0000 - win_output_accuracy: 0.5578 - win_output_loss: 0.6869 - val_dire_eff_loss: 83162888.0000 - val_loss: 33248940.0000 - val_radiant_eff_loss: 83559168.0000 - val_win_output_accuracy: 0.5417 - val_win_output_loss: 0.6884 - learning_rate: 0.0010\n",
            "Epoch 49/100\n",
            "\u001b[1m194/194\u001b[0m \u001b[32m━━━━━━━━━━━━━━━━━━━━\u001b[0m\u001b[37m\u001b[0m \u001b[1m2s\u001b[0m 7ms/step - dire_eff_loss: 79551064.0000 - loss: 32255154.0000 - radiant_eff_loss: 81721472.0000 - win_output_accuracy: 0.5557 - win_output_loss: 0.6858 - val_dire_eff_loss: 81717600.0000 - val_loss: 32668958.0000 - val_radiant_eff_loss: 82098016.0000 - val_win_output_accuracy: 0.5417 - val_win_output_loss: 0.6889 - learning_rate: 0.0010\n",
            "Epoch 50/100\n",
            "\u001b[1m194/194\u001b[0m \u001b[32m━━━━━━━━━━━━━━━━━━━━\u001b[0m\u001b[37m\u001b[0m \u001b[1m3s\u001b[0m 12ms/step - dire_eff_loss: 78134216.0000 - loss: 31680800.0000 - radiant_eff_loss: 80266584.0000 - win_output_accuracy: 0.5630 - win_output_loss: 0.6858 - val_dire_eff_loss: 80274128.0000 - val_loss: 32089674.0000 - val_radiant_eff_loss: 80638456.0000 - val_win_output_accuracy: 0.5417 - val_win_output_loss: 0.6896 - learning_rate: 0.0010\n",
            "Epoch 51/100\n",
            "\u001b[1m194/194\u001b[0m \u001b[32m━━━━━━━━━━━━━━━━━━━━\u001b[0m\u001b[37m\u001b[0m \u001b[1m2s\u001b[0m 8ms/step - dire_eff_loss: 76719664.0000 - loss: 31107272.0000 - radiant_eff_loss: 78813576.0000 - win_output_accuracy: 0.5578 - win_output_loss: 0.6868 - val_dire_eff_loss: 78833568.0000 - val_loss: 31511516.0000 - val_radiant_eff_loss: 79181648.0000 - val_win_output_accuracy: 0.5411 - val_win_output_loss: 0.6887 - learning_rate: 0.0010\n",
            "Epoch 52/100\n",
            "\u001b[1m194/194\u001b[0m \u001b[32m━━━━━━━━━━━━━━━━━━━━\u001b[0m\u001b[37m\u001b[0m \u001b[1m2s\u001b[0m 5ms/step - dire_eff_loss: 75308456.0000 - loss: 30535020.0000 - radiant_eff_loss: 77363536.0000 - win_output_accuracy: 0.5597 - win_output_loss: 0.6857 - val_dire_eff_loss: 77397072.0000 - val_loss: 30934968.0000 - val_radiant_eff_loss: 77728696.0000 - val_win_output_accuracy: 0.5417 - val_win_output_loss: 0.6891 - learning_rate: 0.0010\n",
            "Epoch 53/100\n",
            "\u001b[1m194/194\u001b[0m \u001b[32m━━━━━━━━━━━━━━━━━━━━\u001b[0m\u001b[37m\u001b[0m \u001b[1m1s\u001b[0m 5ms/step - dire_eff_loss: 73901776.0000 - loss: 29964502.0000 - radiant_eff_loss: 75917648.0000 - win_output_accuracy: 0.5601 - win_output_loss: 0.6850 - val_dire_eff_loss: 75965728.0000 - val_loss: 30360440.0000 - val_radiant_eff_loss: 76280704.0000 - val_win_output_accuracy: 0.5534 - val_win_output_loss: 0.6884 - learning_rate: 0.0010\n",
            "Epoch 54/100\n",
            "\u001b[1m194/194\u001b[0m \u001b[32m━━━━━━━━━━━━━━━━━━━━\u001b[0m\u001b[37m\u001b[0m \u001b[1m1s\u001b[0m 5ms/step - dire_eff_loss: 72500624.0000 - loss: 29396130.0000 - radiant_eff_loss: 74476984.0000 - win_output_accuracy: 0.5614 - win_output_loss: 0.6853 - val_dire_eff_loss: 74540616.0000 - val_loss: 29788394.0000 - val_radiant_eff_loss: 74838824.0000 - val_win_output_accuracy: 0.5528 - val_win_output_loss: 0.6878 - learning_rate: 0.0010\n",
            "Epoch 55/100\n",
            "\u001b[1m194/194\u001b[0m \u001b[32m━━━━━━━━━━━━━━━━━━━━\u001b[0m\u001b[37m\u001b[0m \u001b[1m1s\u001b[0m 5ms/step - dire_eff_loss: 71106176.0000 - loss: 28830366.0000 - radiant_eff_loss: 73042640.0000 - win_output_accuracy: 0.5557 - win_output_loss: 0.6864 - val_dire_eff_loss: 73122840.0000 - val_loss: 29219254.0000 - val_radiant_eff_loss: 73404128.0000 - val_win_output_accuracy: 0.5417 - val_win_output_loss: 0.6892 - learning_rate: 0.0010\n",
            "Epoch 56/100\n",
            "\u001b[1m194/194\u001b[0m \u001b[32m━━━━━━━━━━━━━━━━━━━━\u001b[0m\u001b[37m\u001b[0m \u001b[1m1s\u001b[0m 5ms/step - dire_eff_loss: 69719400.0000 - loss: 28267616.0000 - radiant_eff_loss: 71615696.0000 - win_output_accuracy: 0.5610 - win_output_loss: 0.6859 - val_dire_eff_loss: 71713488.0000 - val_loss: 28653458.0000 - val_radiant_eff_loss: 71977704.0000 - val_win_output_accuracy: 0.5417 - val_win_output_loss: 0.6888 - learning_rate: 0.0010\n",
            "Epoch 57/100\n",
            "\u001b[1m194/194\u001b[0m \u001b[32m━━━━━━━━━━━━━━━━━━━━\u001b[0m\u001b[37m\u001b[0m \u001b[1m1s\u001b[0m 5ms/step - dire_eff_loss: 68341464.0000 - loss: 27708326.0000 - radiant_eff_loss: 70197264.0000 - win_output_accuracy: 0.5551 - win_output_loss: 0.6857 - val_dire_eff_loss: 70313584.0000 - val_loss: 28091434.0000 - val_radiant_eff_loss: 70560624.0000 - val_win_output_accuracy: 0.5417 - val_win_output_loss: 0.6886 - learning_rate: 0.0010\n",
            "Epoch 58/100\n",
            "\u001b[1m194/194\u001b[0m \u001b[32m━━━━━━━━━━━━━━━━━━━━\u001b[0m\u001b[37m\u001b[0m \u001b[1m1s\u001b[0m 5ms/step - dire_eff_loss: 66973312.0000 - loss: 27152926.0000 - radiant_eff_loss: 68788392.0000 - win_output_accuracy: 0.5584 - win_output_loss: 0.6863 - val_dire_eff_loss: 68924184.0000 - val_loss: 27533590.0000 - val_radiant_eff_loss: 69153960.0000 - val_win_output_accuracy: 0.5417 - val_win_output_loss: 0.6889 - learning_rate: 0.0010\n",
            "Epoch 59/100\n",
            "\u001b[1m194/194\u001b[0m \u001b[32m━━━━━━━━━━━━━━━━━━━━\u001b[0m\u001b[37m\u001b[0m \u001b[1m2s\u001b[0m 7ms/step - dire_eff_loss: 65616060.0000 - loss: 26601810.0000 - radiant_eff_loss: 67390128.0000 - win_output_accuracy: 0.5590 - win_output_loss: 0.6857 - val_dire_eff_loss: 67546368.0000 - val_loss: 26980362.0000 - val_radiant_eff_loss: 67758736.0000 - val_win_output_accuracy: 0.5417 - val_win_output_loss: 0.6892 - learning_rate: 0.0010\n",
            "Epoch 60/100\n",
            "\u001b[1m194/194\u001b[0m \u001b[32m━━━━━━━━━━━━━━━━━━━━\u001b[0m\u001b[37m\u001b[0m \u001b[1m2s\u001b[0m 8ms/step - dire_eff_loss: 64270708.0000 - loss: 26055408.0000 - radiant_eff_loss: 66003524.0000 - win_output_accuracy: 0.5592 - win_output_loss: 0.6865 - val_dire_eff_loss: 66181124.0000 - val_loss: 26432150.0000 - val_radiant_eff_loss: 66376040.0000 - val_win_output_accuracy: 0.5417 - val_win_output_loss: 0.6891 - learning_rate: 0.0010\n",
            "Epoch 61/100\n",
            "\u001b[1m194/194\u001b[0m \u001b[32m━━━━━━━━━━━━━━━━━━━━\u001b[0m\u001b[37m\u001b[0m \u001b[1m2s\u001b[0m 8ms/step - dire_eff_loss: 62938268.0000 - loss: 25514128.0000 - radiant_eff_loss: 64629592.0000 - win_output_accuracy: 0.5588 - win_output_loss: 0.6856 - val_dire_eff_loss: 64829492.0000 - val_loss: 25889366.0000 - val_radiant_eff_loss: 65006832.0000 - val_win_output_accuracy: 0.5417 - val_win_output_loss: 0.6889 - learning_rate: 0.0010\n",
            "Epoch 62/100\n",
            "\u001b[1m194/194\u001b[0m \u001b[32m━━━━━━━━━━━━━━━━━━━━\u001b[0m\u001b[37m\u001b[0m \u001b[1m1s\u001b[0m 5ms/step - dire_eff_loss: 61619704.0000 - loss: 24978368.0000 - radiant_eff_loss: 63269384.0000 - win_output_accuracy: 0.5589 - win_output_loss: 0.6850 - val_dire_eff_loss: 63492436.0000 - val_loss: 25352414.0000 - val_radiant_eff_loss: 63652180.0000 - val_win_output_accuracy: 0.5417 - val_win_output_loss: 0.6889 - learning_rate: 0.0010\n",
            "Epoch 63/100\n",
            "\u001b[1m194/194\u001b[0m \u001b[32m━━━━━━━━━━━━━━━━━━━━\u001b[0m\u001b[37m\u001b[0m \u001b[1m1s\u001b[0m 5ms/step - dire_eff_loss: 60316036.0000 - loss: 24448522.0000 - radiant_eff_loss: 61923856.0000 - win_output_accuracy: 0.5571 - win_output_loss: 0.6864 - val_dire_eff_loss: 62170948.0000 - val_loss: 24821676.0000 - val_radiant_eff_loss: 62313016.0000 - val_win_output_accuracy: 0.5417 - val_win_output_loss: 0.6884 - learning_rate: 0.0010\n",
            "Epoch 64/100\n",
            "\u001b[1m194/194\u001b[0m \u001b[32m━━━━━━━━━━━━━━━━━━━━\u001b[0m\u001b[37m\u001b[0m \u001b[1m1s\u001b[0m 5ms/step - dire_eff_loss: 59028208.0000 - loss: 23924986.0000 - radiant_eff_loss: 60594008.0000 - win_output_accuracy: 0.5604 - win_output_loss: 0.6855 - val_dire_eff_loss: 60866008.0000 - val_loss: 24297538.0000 - val_radiant_eff_loss: 60990348.0000 - val_win_output_accuracy: 0.5417 - val_win_output_loss: 0.6887 - learning_rate: 0.0010\n",
            "Epoch 65/100\n",
            "\u001b[1m194/194\u001b[0m \u001b[32m━━━━━━━━━━━━━━━━━━━━\u001b[0m\u001b[37m\u001b[0m \u001b[1m1s\u001b[0m 5ms/step - dire_eff_loss: 57757172.0000 - loss: 23408130.0000 - radiant_eff_loss: 59280812.0000 - win_output_accuracy: 0.5572 - win_output_loss: 0.6855 - val_dire_eff_loss: 59578540.0000 - val_loss: 23780382.0000 - val_radiant_eff_loss: 59685116.0000 - val_win_output_accuracy: 0.5417 - val_win_output_loss: 0.6888 - learning_rate: 0.0010\n",
            "Epoch 66/100\n",
            "\u001b[1m194/194\u001b[0m \u001b[32m━━━━━━━━━━━━━━━━━━━━\u001b[0m\u001b[37m\u001b[0m \u001b[1m1s\u001b[0m 5ms/step - dire_eff_loss: 56503856.0000 - loss: 22898336.0000 - radiant_eff_loss: 57985192.0000 - win_output_accuracy: 0.5603 - win_output_loss: 0.6849 - val_dire_eff_loss: 58309484.0000 - val_loss: 23270582.0000 - val_radiant_eff_loss: 58398244.0000 - val_win_output_accuracy: 0.5417 - val_win_output_loss: 0.6885 - learning_rate: 0.0010\n",
            "Epoch 67/100\n",
            "\u001b[1m194/194\u001b[0m \u001b[32m━━━━━━━━━━━━━━━━━━━━\u001b[0m\u001b[37m\u001b[0m \u001b[1m1s\u001b[0m 5ms/step - dire_eff_loss: 55269152.0000 - loss: 22395958.0000 - radiant_eff_loss: 56708080.0000 - win_output_accuracy: 0.5580 - win_output_loss: 0.6852 - val_dire_eff_loss: 57059704.0000 - val_loss: 22768490.0000 - val_radiant_eff_loss: 57130616.0000 - val_win_output_accuracy: 0.5417 - val_win_output_loss: 0.6889 - learning_rate: 0.0010\n",
            "Epoch 68/100\n",
            "\u001b[1m194/194\u001b[0m \u001b[32m━━━━━━━━━━━━━━━━━━━━\u001b[0m\u001b[37m\u001b[0m \u001b[1m1s\u001b[0m 5ms/step - dire_eff_loss: 54053924.0000 - loss: 21901372.0000 - radiant_eff_loss: 55450376.0000 - win_output_accuracy: 0.5588 - win_output_loss: 0.6864 - val_dire_eff_loss: 55830120.0000 - val_loss: 22274464.0000 - val_radiant_eff_loss: 55883168.0000 - val_win_output_accuracy: 0.5437 - val_win_output_loss: 0.6885 - learning_rate: 0.0010\n",
            "Epoch 69/100\n",
            "\u001b[1m194/194\u001b[0m \u001b[32m━━━━━━━━━━━━━━━━━━━━\u001b[0m\u001b[37m\u001b[0m \u001b[1m1s\u001b[0m 5ms/step - dire_eff_loss: 52859044.0000 - loss: 21414904.0000 - radiant_eff_loss: 54212976.0000 - win_output_accuracy: 0.5628 - win_output_loss: 0.6849 - val_dire_eff_loss: 54621544.0000 - val_loss: 21788838.0000 - val_radiant_eff_loss: 54656720.0000 - val_win_output_accuracy: 0.5417 - val_win_output_loss: 0.6890 - learning_rate: 0.0010\n",
            "Epoch 70/100\n",
            "\u001b[1m194/194\u001b[0m \u001b[32m━━━━━━━━━━━━━━━━━━━━\u001b[0m\u001b[37m\u001b[0m \u001b[1m1s\u001b[0m 5ms/step - dire_eff_loss: 51685356.0000 - loss: 20936900.0000 - radiant_eff_loss: 52996680.0000 - win_output_accuracy: 0.5551 - win_output_loss: 0.6852 - val_dire_eff_loss: 53434816.0000 - val_loss: 21311948.0000 - val_radiant_eff_loss: 53452116.0000 - val_win_output_accuracy: 0.5437 - val_win_output_loss: 0.6893 - learning_rate: 0.0010\n",
            "Epoch 71/100\n",
            "\u001b[1m194/194\u001b[0m \u001b[32m━━━━━━━━━━━━━━━━━━━━\u001b[0m\u001b[37m\u001b[0m \u001b[1m2s\u001b[0m 9ms/step - dire_eff_loss: 50533640.0000 - loss: 20467684.0000 - radiant_eff_loss: 51802324.0000 - win_output_accuracy: 0.5603 - win_output_loss: 0.6862 - val_dire_eff_loss: 52270716.0000 - val_loss: 20844114.0000 - val_radiant_eff_loss: 52270152.0000 - val_win_output_accuracy: 0.5430 - val_win_output_loss: 0.6890 - learning_rate: 0.0010\n",
            "Epoch 72/100\n",
            "\u001b[1m194/194\u001b[0m \u001b[32m━━━━━━━━━━━━━━━━━━━━\u001b[0m\u001b[37m\u001b[0m \u001b[1m3s\u001b[0m 11ms/step - dire_eff_loss: 49404656.0000 - loss: 20007562.0000 - radiant_eff_loss: 50630740.0000 - win_output_accuracy: 0.5598 - win_output_loss: 0.6865 - val_dire_eff_loss: 51130012.0000 - val_loss: 20385624.0000 - val_radiant_eff_loss: 51111600.0000 - val_win_output_accuracy: 0.5424 - val_win_output_loss: 0.6885 - learning_rate: 0.0010\n",
            "Epoch 73/100\n",
            "\u001b[1m194/194\u001b[0m \u001b[32m━━━━━━━━━━━━━━━━━━━━\u001b[0m\u001b[37m\u001b[0m \u001b[1m2s\u001b[0m 6ms/step - dire_eff_loss: 48299176.0000 - loss: 19556840.0000 - radiant_eff_loss: 49482648.0000 - win_output_accuracy: 0.5585 - win_output_loss: 0.6854 - val_dire_eff_loss: 50013436.0000 - val_loss: 19936790.0000 - val_radiant_eff_loss: 49977188.0000 - val_win_output_accuracy: 0.5417 - val_win_output_loss: 0.6888 - learning_rate: 0.0010\n",
            "Epoch 74/100\n",
            "\u001b[1m194/194\u001b[0m \u001b[32m━━━━━━━━━━━━━━━━━━━━\u001b[0m\u001b[37m\u001b[0m \u001b[1m1s\u001b[0m 5ms/step - dire_eff_loss: 47217868.0000 - loss: 19115796.0000 - radiant_eff_loss: 48358784.0000 - win_output_accuracy: 0.5559 - win_output_loss: 0.6858 - val_dire_eff_loss: 48921652.0000 - val_loss: 19497864.0000 - val_radiant_eff_loss: 48867588.0000 - val_win_output_accuracy: 0.5417 - val_win_output_loss: 0.6893 - learning_rate: 0.0010\n",
            "Epoch 75/100\n",
            "\u001b[1m194/194\u001b[0m \u001b[32m━━━━━━━━━━━━━━━━━━━━\u001b[0m\u001b[37m\u001b[0m \u001b[1m1s\u001b[0m 6ms/step - dire_eff_loss: 46161412.0000 - loss: 18684706.0000 - radiant_eff_loss: 47259820.0000 - win_output_accuracy: 0.5587 - win_output_loss: 0.6852 - val_dire_eff_loss: 47855320.0000 - val_loss: 19069130.0000 - val_radiant_eff_loss: 47783504.0000 - val_win_output_accuracy: 0.5417 - val_win_output_loss: 0.6888 - learning_rate: 0.0010\n",
            "Epoch 76/100\n",
            "\u001b[1m194/194\u001b[0m \u001b[32m━━━━━━━━━━━━━━━━━━━━\u001b[0m\u001b[37m\u001b[0m \u001b[1m1s\u001b[0m 5ms/step - dire_eff_loss: 45130424.0000 - loss: 18263820.0000 - radiant_eff_loss: 46186432.0000 - win_output_accuracy: 0.5590 - win_output_loss: 0.6849 - val_dire_eff_loss: 46815044.0000 - val_loss: 18650818.0000 - val_radiant_eff_loss: 46725536.0000 - val_win_output_accuracy: 0.5443 - val_win_output_loss: 0.6889 - learning_rate: 0.0010\n",
            "Epoch 77/100\n",
            "\u001b[1m194/194\u001b[0m \u001b[32m━━━━━━━━━━━━━━━━━━━━\u001b[0m\u001b[37m\u001b[0m \u001b[1m1s\u001b[0m 5ms/step - dire_eff_loss: 44125492.0000 - loss: 17853382.0000 - radiant_eff_loss: 45139208.0000 - win_output_accuracy: 0.5597 - win_output_loss: 0.6845 - val_dire_eff_loss: 45801404.0000 - val_loss: 18243166.0000 - val_radiant_eff_loss: 45694244.0000 - val_win_output_accuracy: 0.5437 - val_win_output_loss: 0.6888 - learning_rate: 0.0010\n",
            "Epoch 78/100\n",
            "\u001b[1m194/194\u001b[0m \u001b[32m━━━━━━━━━━━━━━━━━━━━\u001b[0m\u001b[37m\u001b[0m \u001b[1m1s\u001b[0m 5ms/step - dire_eff_loss: 43147172.0000 - loss: 17453616.0000 - radiant_eff_loss: 44118712.0000 - win_output_accuracy: 0.5558 - win_output_loss: 0.6862 - val_dire_eff_loss: 44814912.0000 - val_loss: 17846370.0000 - val_radiant_eff_loss: 44690188.0000 - val_win_output_accuracy: 0.5417 - val_win_output_loss: 0.6889 - learning_rate: 0.0010\n",
            "Epoch 79/100\n",
            "\u001b[1m194/194\u001b[0m \u001b[32m━━━━━━━━━━━━━━━━━━━━\u001b[0m\u001b[37m\u001b[0m \u001b[1m1s\u001b[0m 5ms/step - dire_eff_loss: 42195952.0000 - loss: 17064722.0000 - radiant_eff_loss: 43125500.0000 - win_output_accuracy: 0.5595 - win_output_loss: 0.6855 - val_dire_eff_loss: 43856056.0000 - val_loss: 17460644.0000 - val_radiant_eff_loss: 43713872.0000 - val_win_output_accuracy: 0.5456 - val_win_output_loss: 0.6886 - learning_rate: 0.0010\n",
            "Epoch 80/100\n",
            "\u001b[1m194/194\u001b[0m \u001b[32m━━━━━━━━━━━━━━━━━━━━\u001b[0m\u001b[37m\u001b[0m \u001b[1m1s\u001b[0m 7ms/step - dire_eff_loss: 41272276.0000 - loss: 16686884.0000 - radiant_eff_loss: 42160012.0000 - win_output_accuracy: 0.5619 - win_output_loss: 0.6856 - val_dire_eff_loss: 42925216.0000 - val_loss: 17086128.0000 - val_radiant_eff_loss: 42765664.0000 - val_win_output_accuracy: 0.5417 - val_win_output_loss: 0.6888 - learning_rate: 0.0010\n",
            "Epoch 81/100\n",
            "\u001b[1m194/194\u001b[0m \u001b[32m━━━━━━━━━━━━━━━━━━━━\u001b[0m\u001b[37m\u001b[0m \u001b[1m3s\u001b[0m 9ms/step - dire_eff_loss: 40376540.0000 - loss: 16320265.0000 - radiant_eff_loss: 41222684.0000 - win_output_accuracy: 0.5577 - win_output_loss: 0.6858 - val_dire_eff_loss: 42022792.0000 - val_loss: 16722996.0000 - val_radiant_eff_loss: 41845996.0000 - val_win_output_accuracy: 0.5417 - val_win_output_loss: 0.6889 - learning_rate: 0.0010\n",
            "Epoch 82/100\n",
            "\u001b[1m194/194\u001b[0m \u001b[32m━━━━━━━━━━━━━━━━━━━━\u001b[0m\u001b[37m\u001b[0m \u001b[1m1s\u001b[0m 6ms/step - dire_eff_loss: 39509112.0000 - loss: 15965008.0000 - radiant_eff_loss: 40313876.0000 - win_output_accuracy: 0.5622 - win_output_loss: 0.6852 - val_dire_eff_loss: 41149112.0000 - val_loss: 16371359.0000 - val_radiant_eff_loss: 40955164.0000 - val_win_output_accuracy: 0.5424 - val_win_output_loss: 0.6890 - learning_rate: 0.0010\n",
            "Epoch 83/100\n",
            "\u001b[1m194/194\u001b[0m \u001b[32m━━━━━━━━━━━━━━━━━━━━\u001b[0m\u001b[37m\u001b[0m \u001b[1m1s\u001b[0m 5ms/step - dire_eff_loss: 38670260.0000 - loss: 15621239.0000 - radiant_eff_loss: 39433916.0000 - win_output_accuracy: 0.5572 - win_output_loss: 0.6859 - val_dire_eff_loss: 40304436.0000 - val_loss: 16031341.0000 - val_radiant_eff_loss: 40093480.0000 - val_win_output_accuracy: 0.5417 - val_win_output_loss: 0.6890 - learning_rate: 0.0010\n",
            "Epoch 84/100\n",
            "\u001b[1m194/194\u001b[0m \u001b[32m━━━━━━━━━━━━━━━━━━━━\u001b[0m\u001b[37m\u001b[0m \u001b[1m1s\u001b[0m 6ms/step - dire_eff_loss: 37860236.0000 - loss: 15289059.0000 - radiant_eff_loss: 38583064.0000 - win_output_accuracy: 0.5599 - win_output_loss: 0.6860 - val_dire_eff_loss: 39488952.0000 - val_loss: 15703023.0000 - val_radiant_eff_loss: 39261156.0000 - val_win_output_accuracy: 0.5417 - val_win_output_loss: 0.6889 - learning_rate: 0.0010\n",
            "Epoch 85/100\n",
            "\u001b[1m194/194\u001b[0m \u001b[32m━━━━━━━━━━━━━━━━━━━━\u001b[0m\u001b[37m\u001b[0m \u001b[1m1s\u001b[0m 5ms/step - dire_eff_loss: 37079220.0000 - loss: 14968544.0000 - radiant_eff_loss: 37761548.0000 - win_output_accuracy: 0.5583 - win_output_loss: 0.6857 - val_dire_eff_loss: 38702832.0000 - val_loss: 15386464.0000 - val_radiant_eff_loss: 38458352.0000 - val_win_output_accuracy: 0.5417 - val_win_output_loss: 0.6889 - learning_rate: 0.0010\n",
            "Epoch 86/100\n",
            "\u001b[1m194/194\u001b[0m \u001b[32m━━━━━━━━━━━━━━━━━━━━\u001b[0m\u001b[37m\u001b[0m \u001b[1m1s\u001b[0m 5ms/step - dire_eff_loss: 36327324.0000 - loss: 14659752.0000 - radiant_eff_loss: 36969500.0000 - win_output_accuracy: 0.5581 - win_output_loss: 0.6856 - val_dire_eff_loss: 37946128.0000 - val_loss: 15081693.0000 - val_radiant_eff_loss: 37685160.0000 - val_win_output_accuracy: 0.5417 - val_win_output_loss: 0.6887 - learning_rate: 0.0010\n",
            "Epoch 87/100\n",
            "\u001b[1m194/194\u001b[0m \u001b[32m━━━━━━━━━━━━━━━━━━━━\u001b[0m\u001b[37m\u001b[0m \u001b[1m1s\u001b[0m 5ms/step - dire_eff_loss: 35604604.0000 - loss: 14362698.0000 - radiant_eff_loss: 36206992.0000 - win_output_accuracy: 0.5599 - win_output_loss: 0.6861 - val_dire_eff_loss: 37218904.0000 - val_loss: 14788727.0000 - val_radiant_eff_loss: 36941596.0000 - val_win_output_accuracy: 0.5450 - val_win_output_loss: 0.6886 - learning_rate: 0.0010\n",
            "Epoch 88/100\n",
            "\u001b[1m194/194\u001b[0m \u001b[32m━━━━━━━━━━━━━━━━━━━━\u001b[0m\u001b[37m\u001b[0m \u001b[1m1s\u001b[0m 5ms/step - dire_eff_loss: 34911104.0000 - loss: 14077408.0000 - radiant_eff_loss: 35474080.0000 - win_output_accuracy: 0.5617 - win_output_loss: 0.6854 - val_dire_eff_loss: 36521112.0000 - val_loss: 14507564.0000 - val_radiant_eff_loss: 36227692.0000 - val_win_output_accuracy: 0.5417 - val_win_output_loss: 0.6886 - learning_rate: 0.0010\n",
            "Epoch 89/100\n",
            "\u001b[1m194/194\u001b[0m \u001b[32m━━━━━━━━━━━━━━━━━━━━\u001b[0m\u001b[37m\u001b[0m \u001b[1m1s\u001b[0m 5ms/step - dire_eff_loss: 34246728.0000 - loss: 13803852.0000 - radiant_eff_loss: 34770700.0000 - win_output_accuracy: 0.5604 - win_output_loss: 0.6852 - val_dire_eff_loss: 35852668.0000 - val_loss: 14238155.0000 - val_radiant_eff_loss: 35543324.0000 - val_win_output_accuracy: 0.5417 - val_win_output_loss: 0.6887 - learning_rate: 0.0010\n",
            "Epoch 90/100\n",
            "\u001b[1m194/194\u001b[0m \u001b[32m━━━━━━━━━━━━━━━━━━━━\u001b[0m\u001b[37m\u001b[0m \u001b[1m1s\u001b[0m 7ms/step - dire_eff_loss: 33611348.0000 - loss: 13541988.0000 - radiant_eff_loss: 34096788.0000 - win_output_accuracy: 0.5568 - win_output_loss: 0.6861 - val_dire_eff_loss: 35213412.0000 - val_loss: 13980443.0000 - val_radiant_eff_loss: 34888360.0000 - val_win_output_accuracy: 0.5417 - val_win_output_loss: 0.6891 - learning_rate: 0.0010\n",
            "Epoch 91/100\n",
            "\u001b[1m194/194\u001b[0m \u001b[32m━━━━━━━━━━━━━━━━━━━━\u001b[0m\u001b[37m\u001b[0m \u001b[1m3s\u001b[0m 9ms/step - dire_eff_loss: 33004816.0000 - loss: 13291750.0000 - radiant_eff_loss: 33452178.0000 - win_output_accuracy: 0.5577 - win_output_loss: 0.6853 - val_dire_eff_loss: 34603108.0000 - val_loss: 13734348.0000 - val_radiant_eff_loss: 34262600.0000 - val_win_output_accuracy: 0.5417 - val_win_output_loss: 0.6892 - learning_rate: 0.0010\n",
            "Epoch 92/100\n",
            "\u001b[1m194/194\u001b[0m \u001b[32m━━━━━━━━━━━━━━━━━━━━\u001b[0m\u001b[37m\u001b[0m \u001b[1m2s\u001b[0m 5ms/step - dire_eff_loss: 32426848.0000 - loss: 13053042.0000 - radiant_eff_loss: 32836630.0000 - win_output_accuracy: 0.5607 - win_output_loss: 0.6857 - val_dire_eff_loss: 34021492.0000 - val_loss: 13499748.0000 - val_radiant_eff_loss: 33665768.0000 - val_win_output_accuracy: 0.5443 - val_win_output_loss: 0.6887 - learning_rate: 0.0010\n",
            "Epoch 93/100\n",
            "\u001b[1m194/194\u001b[0m \u001b[32m━━━━━━━━━━━━━━━━━━━━\u001b[0m\u001b[37m\u001b[0m \u001b[1m1s\u001b[0m 5ms/step - dire_eff_loss: 31877160.0000 - loss: 12825750.0000 - radiant_eff_loss: 32249878.0000 - win_output_accuracy: 0.5593 - win_output_loss: 0.6852 - val_dire_eff_loss: 33468192.0000 - val_loss: 13276515.0000 - val_radiant_eff_loss: 33097514.0000 - val_win_output_accuracy: 0.5463 - val_win_output_loss: 0.6884 - learning_rate: 0.0010\n",
            "Epoch 94/100\n",
            "\u001b[1m194/194\u001b[0m \u001b[32m━━━━━━━━━━━━━━━━━━━━\u001b[0m\u001b[37m\u001b[0m \u001b[1m1s\u001b[0m 5ms/step - dire_eff_loss: 31355360.0000 - loss: 12609723.0000 - radiant_eff_loss: 31691592.0000 - win_output_accuracy: 0.5583 - win_output_loss: 0.6857 - val_dire_eff_loss: 32942824.0000 - val_loss: 13064485.0000 - val_radiant_eff_loss: 32557490.0000 - val_win_output_accuracy: 0.5430 - val_win_output_loss: 0.6885 - learning_rate: 0.0010\n",
            "Epoch 95/100\n",
            "\u001b[1m194/194\u001b[0m \u001b[32m━━━━━━━━━━━━━━━━━━━━\u001b[0m\u001b[37m\u001b[0m \u001b[1m1s\u001b[0m 5ms/step - dire_eff_loss: 30861038.0000 - loss: 12404804.0000 - radiant_eff_loss: 31161350.0000 - win_output_accuracy: 0.5588 - win_output_loss: 0.6859 - val_dire_eff_loss: 32444910.0000 - val_loss: 12863479.0000 - val_radiant_eff_loss: 32045238.0000 - val_win_output_accuracy: 0.5417 - val_win_output_loss: 0.6887 - learning_rate: 0.0010\n",
            "Epoch 96/100\n",
            "\u001b[1m194/194\u001b[0m \u001b[32m━━━━━━━━━━━━━━━━━━━━\u001b[0m\u001b[37m\u001b[0m \u001b[1m2s\u001b[0m 10ms/step - dire_eff_loss: 30393694.0000 - loss: 12210805.0000 - radiant_eff_loss: 30658726.0000 - win_output_accuracy: 0.5580 - win_output_loss: 0.6852 - val_dire_eff_loss: 31973964.0000 - val_loss: 12673290.0000 - val_radiant_eff_loss: 31560220.0000 - val_win_output_accuracy: 0.5417 - val_win_output_loss: 0.6887 - learning_rate: 0.0010\n",
            "Epoch 97/100\n",
            "\u001b[1m194/194\u001b[0m \u001b[32m━━━━━━━━━━━━━━━━━━━━\u001b[0m\u001b[37m\u001b[0m \u001b[1m2s\u001b[0m 5ms/step - dire_eff_loss: 29952804.0000 - loss: 12027506.0000 - radiant_eff_loss: 30183164.0000 - win_output_accuracy: 0.5577 - win_output_loss: 0.6864 - val_dire_eff_loss: 31529388.0000 - val_loss: 12493692.0000 - val_radiant_eff_loss: 31101898.0000 - val_win_output_accuracy: 0.5417 - val_win_output_loss: 0.6890 - learning_rate: 0.0010\n",
            "Epoch 98/100\n",
            "\u001b[1m194/194\u001b[0m \u001b[32m━━━━━━━━━━━━━━━━━━━━\u001b[0m\u001b[37m\u001b[0m \u001b[1m2s\u001b[0m 8ms/step - dire_eff_loss: 29537746.0000 - loss: 11854678.0000 - radiant_eff_loss: 29734102.0000 - win_output_accuracy: 0.5565 - win_output_loss: 0.6854 - val_dire_eff_loss: 31110556.0000 - val_loss: 12324437.0000 - val_radiant_eff_loss: 30669680.0000 - val_win_output_accuracy: 0.5417 - val_win_output_loss: 0.6892 - learning_rate: 0.0010\n",
            "Epoch 99/100\n",
            "\u001b[1m194/194\u001b[0m \u001b[32m━━━━━━━━━━━━━━━━━━━━\u001b[0m\u001b[37m\u001b[0m \u001b[1m2s\u001b[0m 8ms/step - dire_eff_loss: 29147898.0000 - loss: 11692072.0000 - radiant_eff_loss: 29310954.0000 - win_output_accuracy: 0.5604 - win_output_loss: 0.6855 - val_dire_eff_loss: 30716832.0000 - val_loss: 12165262.0000 - val_radiant_eff_loss: 30262864.0000 - val_win_output_accuracy: 0.5417 - val_win_output_loss: 0.6889 - learning_rate: 0.0010\n",
            "Epoch 100/100\n",
            "\u001b[1m194/194\u001b[0m \u001b[32m━━━━━━━━━━━━━━━━━━━━\u001b[0m\u001b[37m\u001b[0m \u001b[1m2s\u001b[0m 8ms/step - dire_eff_loss: 28782578.0000 - loss: 11539414.0000 - radiant_eff_loss: 28913004.0000 - win_output_accuracy: 0.5533 - win_output_loss: 0.6854 - val_dire_eff_loss: 30347470.0000 - val_loss: 12015880.0000 - val_radiant_eff_loss: 29880780.0000 - val_win_output_accuracy: 0.5430 - val_win_output_loss: 0.6878 - learning_rate: 0.0010\n"
          ]
        },
        {
          "data": {
            "image/png": "[encoded data removed]",
            "text/plain": [
              "<Figure size 1200x400 with 2 Axes>"
            ]
          },
          "metadata": {},
          "output_type": "display_data"
        },
        {
          "name": "stdout",
          "output_type": "stream",
          "text": [
            "----------------------------------------------------\n",
            "Тестирование\n",
            "----------------------------------------------------\n",
            "Точность: 53.62%\n"
          ]
        }
      ],
      "source": [
        "model_pr_g3 = predict_game_3(match_train, hero_num)\n",
        "predict_test_3(model_pr_g3, match_test, hero_num)"
      ]
    },
    {
      "cell_type": "markdown",
      "metadata": {
        "id": "Wvwe778TroYv"
      },
      "source": [
        "## ИТОГ"
      ]
    },
    {
      "cell_type": "code",
      "execution_count": null,
      "metadata": {
        "id": "plxex5by0DqG"
      },
      "outputs": [],
      "source": [
        "def predict_game(match_train, hero_number=200, debug=True):\n",
        "    ### ПОДГОТОВКА ВХОДНЫХ ДАННЫХ ###\n",
        "    radiant_ids, dire_ids, y_train, radiant_stats, dire_stats = [], [], [], [], []\n",
        "    for match in match_train:\n",
        "        radiant_ids.append(list(map(int, match['radiant_heroes'])))\n",
        "        dire_ids.append(list(map(int, match['dire_heroes'])))\n",
        "        y_train.append(int(match['winner']))\n",
        "        def extract_team_stats(team_info):\n",
        "            return np.mean([\n",
        "                [\n",
        "                    p['kills'],\n",
        "                    p['assists'],\n",
        "                    p['gold_per_min'],\n",
        "                    p['xp_per_min'],\n",
        "                    p['hero_damage'],\n",
        "                    p['tower_damage']\n",
        "                ]\n",
        "                for p in team_info\n",
        "            ], axis=0)\n",
        "        radiant_stats.append(extract_team_stats(match['radiant_players_info']))\n",
        "        dire_stats.append(extract_team_stats(match['dire_players_info']))\n",
        "    radiant_ids = np.array(radiant_ids)\n",
        "    dire_ids = np.array(dire_ids)\n",
        "    y_train = np.array(y_train)\n",
        "    radiant_stats = np.array(radiant_stats)\n",
        "    dire_stats = np.array(dire_stats)\n",
        "    radiant_input = layers.Input(shape=(5,), name=\"radiant_input\")\n",
        "    dire_input = layers.Input(shape=(5,), name=\"dire_input\")\n",
        "    embed_dim = 64\n",
        "    hero_embedding = layers.Embedding(\n",
        "        input_dim=hero_number + 1,\n",
        "        output_dim=embed_dim,\n",
        "        name=\"hero_embedding\"\n",
        "    )\n",
        "\n",
        "    radiant_emb = hero_embedding(radiant_input)\n",
        "    dire_emb    = hero_embedding(dire_input)\n",
        "    radiant_team = layers.GlobalAveragePooling1D()(radiant_emb)\n",
        "    dire_team    = layers.GlobalAveragePooling1D()(dire_emb)\n",
        "    diff_teams = layers.Subtract()([radiant_team, dire_team])\n",
        "    combined = layers.Concatenate()([radiant_team, dire_team, diff_teams])\n",
        "    reg = regularizers.l2(1e-6)\n",
        "\n",
        "    x = layers.Dense(64, activation='relu', kernel_regularizer=reg)(combined)\n",
        "    x = layers.BatchNormalization()(x)\n",
        "    x = layers.Dropout(0.1)(x)\n",
        "    x = layers.Dense(32, activation='relu', kernel_regularizer=reg)(x)\n",
        "    x = layers.BatchNormalization()(x)\n",
        "    x = layers.Dropout(0.1)(x)\n",
        "\n",
        "    # Выходы\n",
        "    win_output = layers.Dense(1, activation='sigmoid', name=\"win_output\")(x)\n",
        "    radiant_eff_output = layers.Dense(6, name=\"radiant_eff\")(x)\n",
        "    dire_eff_output = layers.Dense(6, name=\"dire_eff\")(x)\n",
        "\n",
        "    model = models.Model(\n",
        "        inputs=[radiant_input, dire_input],\n",
        "        outputs=[win_output, radiant_eff_output, dire_eff_output]\n",
        "    )\n",
        "\n",
        "    model.compile(\n",
        "        optimizer=optimizers.Adam(learning_rate=1e-4),\n",
        "        loss={\n",
        "            \"win_output\": \"binary_crossentropy\",\n",
        "            \"radiant_eff\": \"mse\",\n",
        "            \"dire_eff\": \"mse\"\n",
        "        },\n",
        "        loss_weights={\n",
        "            \"win_output\": 1.0,\n",
        "            \"radiant_eff\": 0.2,\n",
        "            \"dire_eff\": 0.2\n",
        "        },\n",
        "        metrics={\n",
        "            \"win_output\": \"accuracy\"\n",
        "        }\n",
        "    )\n",
        "\n",
        "    early_stopping = callbacks.EarlyStopping(\n",
        "        monitor='val_loss',\n",
        "        patience=12,\n",
        "        restore_best_weights=True\n",
        "    )\n",
        "    model_checkpoint = callbacks.ModelCheckpoint(\n",
        "        'best_model_v5.keras',\n",
        "        monitor='val_loss',\n",
        "        save_best_only=True\n",
        "    )\n",
        "    lr_scheduler = callbacks.ReduceLROnPlateau(\n",
        "        monitor='val_loss',\n",
        "        factor=0.5,\n",
        "        patience=5\n",
        "    )\n",
        "\n",
        "    ### ОБУЧЕНИЕ ###\n",
        "    history = model.fit(\n",
        "        [radiant_ids, dire_ids],\n",
        "        {\n",
        "            \"win_output\": y_train,\n",
        "            \"radiant_eff\": radiant_stats,\n",
        "            \"dire_eff\": dire_stats\n",
        "        },\n",
        "        epochs=100,\n",
        "        batch_size=128,\n",
        "        validation_split=0.2,\n",
        "        callbacks=[early_stopping, model_checkpoint, lr_scheduler],\n",
        "        verbose=1 if debug else 0\n",
        "    )\n",
        "\n",
        "\n",
        "    if debug:\n",
        "        plt.figure(figsize=(12, 4))\n",
        "        plt.subplot(1, 2, 1)\n",
        "        plt.plot(history.history['win_output_accuracy'], label='Точность (обучение)')\n",
        "        plt.plot(history.history['val_win_output_accuracy'], label='Точность (валидация)')\n",
        "        plt.xlabel(\"Эпоха\")\n",
        "        plt.ylabel(\"Точность\")\n",
        "        plt.legend()\n",
        "\n",
        "        plt.subplot(1, 2, 2)\n",
        "        plt.plot(history.history['win_output_loss'], label='Loss (обучение)')\n",
        "        plt.plot(history.history['val_win_output_loss'], label='Loss (валидация)')\n",
        "        plt.xlabel(\"Эпоха\")\n",
        "        plt.ylabel(\"Loss\")\n",
        "        plt.legend()\n",
        "\n",
        "        plt.show()\n",
        "\n",
        "    return model"
      ]
    },
    {
      "cell_type": "code",
      "execution_count": null,
      "metadata": {
        "id": "bbZL-hJU67vH"
      },
      "outputs": [],
      "source": [
        "def predict_test(model, match_test):\n",
        "    import numpy as np\n",
        "\n",
        "    print('-'*52 + '\\nТестирование\\n' + '-'*52)\n",
        "\n",
        "    radiant_ids, dire_ids = [], []\n",
        "    true_labels = []\n",
        "\n",
        "    for match in match_test:\n",
        "        radiant = list(map(int, match['radiant_heroes']))\n",
        "        dire = list(map(int, match['dire_heroes']))\n",
        "        radiant_ids.append(radiant)\n",
        "        dire_ids.append(dire)\n",
        "        true_labels.append(int(match['winner']))\n",
        "\n",
        "    radiant_ids = np.array(radiant_ids)\n",
        "    dire_ids = np.array(dire_ids)\n",
        "    true_labels = np.array(true_labels)\n",
        "\n",
        "    predictions = model.predict([radiant_ids, dire_ids], verbose=0)[0]\n",
        "    predicted_labels = (predictions.flatten() >= 0.5).astype(int)\n",
        "\n",
        "    correct = (predicted_labels == true_labels).sum()\n",
        "    print(f\"Точность: {round((correct / len(true_labels)) * 100, 2)}%\")"
      ]
    },
    {
      "cell_type": "code",
      "execution_count": null,
      "metadata": {
        "colab": {
          "base_uri": "https://localhost:8080/",
          "height": 859
        },
        "id": "MstCzCO_u5wp",
        "outputId": "0d7ee2a2-900a-4da9-b4d4-7ed49e0a3069"
      },
      "outputs": [
        {
          "name": "stdout",
          "output_type": "stream",
          "text": [
            "Epoch 1/100\n",
            "\u001b[1m49/49\u001b[0m \u001b[32m━━━━━━━━━━━━━━━━━━━━\u001b[0m\u001b[37m\u001b[0m \u001b[1m5s\u001b[0m 17ms/step - dire_eff_loss: 130470800.0000 - loss: 52912052.0000 - radiant_eff_loss: 134076104.0000 - win_output_accuracy: 0.5032 - win_output_loss: 0.8999 - val_dire_eff_loss: 135544208.0000 - val_loss: 53913420.0000 - val_radiant_eff_loss: 137369408.0000 - val_win_output_accuracy: 0.5346 - val_win_output_loss: 0.6923 - learning_rate: 1.0000e-04\n",
            "Epoch 2/100\n",
            "\u001b[1m49/49\u001b[0m \u001b[32m━━━━━━━━━━━━━━━━━━━━\u001b[0m\u001b[37m\u001b[0m \u001b[1m1s\u001b[0m 7ms/step - dire_eff_loss: 130470488.0000 - loss: 52911880.0000 - radiant_eff_loss: 134075552.0000 - win_output_accuracy: 0.5090 - win_output_loss: 0.8855 - val_dire_eff_loss: 135545040.0000 - val_loss: 53913588.0000 - val_radiant_eff_loss: 137369424.0000 - val_win_output_accuracy: 0.5307 - val_win_output_loss: 0.6919 - learning_rate: 1.0000e-04\n",
            "Epoch 3/100\n",
            "\u001b[1m49/49\u001b[0m \u001b[32m━━━━━━━━━━━━━━━━━━━━\u001b[0m\u001b[37m\u001b[0m \u001b[1m0s\u001b[0m 8ms/step - dire_eff_loss: 130470200.0000 - loss: 52911744.0000 - radiant_eff_loss: 134075160.0000 - win_output_accuracy: 0.4950 - win_output_loss: 0.8904 - val_dire_eff_loss: 135545872.0000 - val_loss: 53913764.0000 - val_radiant_eff_loss: 137369456.0000 - val_win_output_accuracy: 0.5288 - val_win_output_loss: 0.6915 - learning_rate: 1.0000e-04\n",
            "Epoch 4/100\n",
            "\u001b[1m49/49\u001b[0m \u001b[32m━━━━━━━━━━━━━━━━━━━━\u001b[0m\u001b[37m\u001b[0m \u001b[1m1s\u001b[0m 12ms/step - dire_eff_loss: 130469760.0000 - loss: 52911544.0000 - radiant_eff_loss: 134074616.0000 - win_output_accuracy: 0.4986 - win_output_loss: 0.8900 - val_dire_eff_loss: 135546672.0000 - val_loss: 53913940.0000 - val_radiant_eff_loss: 137369536.0000 - val_win_output_accuracy: 0.5223 - val_win_output_loss: 0.6914 - learning_rate: 1.0000e-04\n",
            "Epoch 5/100\n",
            "\u001b[1m49/49\u001b[0m \u001b[32m━━━━━━━━━━━━━━━━━━━━\u001b[0m\u001b[37m\u001b[0m \u001b[1m1s\u001b[0m 13ms/step - dire_eff_loss: 130469600.0000 - loss: 52911404.0000 - radiant_eff_loss: 134074064.0000 - win_output_accuracy: 0.5045 - win_output_loss: 0.8806 - val_dire_eff_loss: 135547456.0000 - val_loss: 53914112.0000 - val_radiant_eff_loss: 137369632.0000 - val_win_output_accuracy: 0.5152 - val_win_output_loss: 0.6920 - learning_rate: 1.0000e-04\n",
            "Epoch 6/100\n",
            "\u001b[1m49/49\u001b[0m \u001b[32m━━━━━━━━━━━━━━━━━━━━\u001b[0m\u001b[37m\u001b[0m \u001b[1m1s\u001b[0m 13ms/step - dire_eff_loss: 130469240.0000 - loss: 52911228.0000 - radiant_eff_loss: 134073544.0000 - win_output_accuracy: 0.5080 - win_output_loss: 0.8761 - val_dire_eff_loss: 135548064.0000 - val_loss: 53914252.0000 - val_radiant_eff_loss: 137369664.0000 - val_win_output_accuracy: 0.5152 - val_win_output_loss: 0.6931 - learning_rate: 1.0000e-04\n",
            "Epoch 7/100\n",
            "\u001b[1m49/49\u001b[0m \u001b[32m━━━━━━━━━━━━━━━━━━━━\u001b[0m\u001b[37m\u001b[0m \u001b[1m1s\u001b[0m 13ms/step - dire_eff_loss: 130468808.0000 - loss: 52911028.0000 - radiant_eff_loss: 134072976.0000 - win_output_accuracy: 0.5060 - win_output_loss: 0.8682 - val_dire_eff_loss: 135548528.0000 - val_loss: 53914372.0000 - val_radiant_eff_loss: 137369776.0000 - val_win_output_accuracy: 0.5126 - val_win_output_loss: 0.6952 - learning_rate: 5.0000e-05\n",
            "Epoch 8/100\n",
            "\u001b[1m49/49\u001b[0m \u001b[32m━━━━━━━━━━━━━━━━━━━━\u001b[0m\u001b[37m\u001b[0m \u001b[1m0s\u001b[0m 8ms/step - dire_eff_loss: 130468440.0000 - loss: 52910856.0000 - radiant_eff_loss: 134072488.0000 - win_output_accuracy: 0.5038 - win_output_loss: 0.8616 - val_dire_eff_loss: 135548704.0000 - val_loss: 53914408.0000 - val_radiant_eff_loss: 137369760.0000 - val_win_output_accuracy: 0.5074 - val_win_output_loss: 0.6986 - learning_rate: 5.0000e-05\n",
            "Epoch 9/100\n",
            "\u001b[1m49/49\u001b[0m \u001b[32m━━━━━━━━━━━━━━━━━━━━\u001b[0m\u001b[37m\u001b[0m \u001b[1m0s\u001b[0m 7ms/step - dire_eff_loss: 130468328.0000 - loss: 52910792.0000 - radiant_eff_loss: 134072304.0000 - win_output_accuracy: 0.5044 - win_output_loss: 0.8650 - val_dire_eff_loss: 135548576.0000 - val_loss: 53914384.0000 - val_radiant_eff_loss: 137369696.0000 - val_win_output_accuracy: 0.5061 - val_win_output_loss: 0.7045 - learning_rate: 5.0000e-05\n",
            "Epoch 10/100\n",
            "\u001b[1m49/49\u001b[0m \u001b[32m━━━━━━━━━━━━━━━━━━━━\u001b[0m\u001b[37m\u001b[0m \u001b[1m0s\u001b[0m 8ms/step - dire_eff_loss: 130468184.0000 - loss: 52910712.0000 - radiant_eff_loss: 134072016.0000 - win_output_accuracy: 0.5121 - win_output_loss: 0.8648 - val_dire_eff_loss: 135548176.0000 - val_loss: 53914256.0000 - val_radiant_eff_loss: 137369360.0000 - val_win_output_accuracy: 0.5010 - val_win_output_loss: 0.7121 - learning_rate: 5.0000e-05\n",
            "Epoch 11/100\n",
            "\u001b[1m49/49\u001b[0m \u001b[32m━━━━━━━━━━━━━━━━━━━━\u001b[0m\u001b[37m\u001b[0m \u001b[1m1s\u001b[0m 7ms/step - dire_eff_loss: 130467896.0000 - loss: 52910576.0000 - radiant_eff_loss: 134071632.0000 - win_output_accuracy: 0.5144 - win_output_loss: 0.8527 - val_dire_eff_loss: 135547424.0000 - val_loss: 53914040.0000 - val_radiant_eff_loss: 137368944.0000 - val_win_output_accuracy: 0.4977 - val_win_output_loss: 0.7235 - learning_rate: 5.0000e-05\n",
            "Epoch 12/100\n",
            "\u001b[1m49/49\u001b[0m \u001b[32m━━━━━━━━━━━━━━━━━━━━\u001b[0m\u001b[37m\u001b[0m \u001b[1m1s\u001b[0m 8ms/step - dire_eff_loss: 130467696.0000 - loss: 52910460.0000 - radiant_eff_loss: 134071248.0000 - win_output_accuracy: 0.5059 - win_output_loss: 0.8573 - val_dire_eff_loss: 135546528.0000 - val_loss: 53913796.0000 - val_radiant_eff_loss: 137368512.0000 - val_win_output_accuracy: 0.5003 - val_win_output_loss: 0.7384 - learning_rate: 2.5000e-05\n",
            "Epoch 13/100\n",
            "\u001b[1m49/49\u001b[0m \u001b[32m━━━━━━━━━━━━━━━━━━━━\u001b[0m\u001b[37m\u001b[0m \u001b[1m1s\u001b[0m 8ms/step - dire_eff_loss: 130467480.0000 - loss: 52910396.0000 - radiant_eff_loss: 134071176.0000 - win_output_accuracy: 0.5182 - win_output_loss: 0.8514 - val_dire_eff_loss: 135545520.0000 - val_loss: 53913520.0000 - val_radiant_eff_loss: 137368080.0000 - val_win_output_accuracy: 0.4990 - val_win_output_loss: 0.7548 - learning_rate: 2.5000e-05\n"
          ]
        },
        {
          "data": {
            "image/png": "[encoded data removed]",
            "text/plain": [
              "<Figure size 1200x400 with 2 Axes>"
            ]
          },
          "metadata": {},
          "output_type": "display_data"
        }
      ],
      "source": [
        "model_pr_g = predict_game(match_train, hero_number=hero_num, debug=True)"
      ]
    },
    {
      "cell_type": "code",
      "execution_count": null,
      "metadata": {
        "colab": {
          "base_uri": "https://localhost:8080/"
        },
        "id": "32BYEtDIu64J",
        "outputId": "17d68a20-542b-43eb-d1d4-daafb0b4a907"
      },
      "outputs": [
        {
          "name": "stdout",
          "output_type": "stream",
          "text": [
            "----------------------------------------------------\n",
            "Тестирование\n",
            "----------------------------------------------------\n",
            "Точность: 54.61%\n"
          ]
        }
      ],
      "source": [
        "predict_test(model_pr_g, match_test)"
      ]
    },
    {
      "cell_type": "markdown",
      "metadata": {
        "id": "A0WjdWnsI8Vu"
      },
      "source": [
        "55%! У нас есть перевес в 5%, что на самом деле немало."
      ]
    },
    {
      "cell_type": "markdown",
      "metadata": {
        "id": "x49AMAnd82O6"
      },
      "source": [
        "## СИСТЕМА ОПРЕДЕЛЕНИЯ КОНТРПИКОВ"
      ]
    },
    {
      "cell_type": "markdown",
      "metadata": {
        "id": "mqYH4rrkJJbN"
      },
      "source": [
        "Наконец, допишем код, ради которого мы пришли: научить модель выбирать оптимальный состав под соперника."
      ]
    },
    {
      "cell_type": "code",
      "execution_count": null,
      "metadata": {
        "colab": {
          "base_uri": "https://localhost:8080/",
          "height": 1000
        },
        "id": "azgz1iKAWYV0",
        "outputId": "23cac048-4856-49b5-a048-847b9a5fcdc1"
      },
      "outputs": [
        {
          "name": "stdout",
          "output_type": "stream",
          "text": [
            "Epoch 1/60\n",
            "\u001b[1m773/773\u001b[0m \u001b[32m━━━━━━━━━━━━━━━━━━━━\u001b[0m\u001b[37m\u001b[0m \u001b[1m4s\u001b[0m 3ms/step - accuracy: 0.0384 - loss: 0.2418\n",
            "Epoch 2/60\n",
            "\u001b[1m773/773\u001b[0m \u001b[32m━━━━━━━━━━━━━━━━━━━━\u001b[0m\u001b[37m\u001b[0m \u001b[1m4s\u001b[0m 5ms/step - accuracy: 0.0576 - loss: 0.1371\n",
            "Epoch 3/60\n",
            "\u001b[1m773/773\u001b[0m \u001b[32m━━━━━━━━━━━━━━━━━━━━\u001b[0m\u001b[37m\u001b[0m \u001b[1m5s\u001b[0m 4ms/step - accuracy: 0.0670 - loss: 0.1365\n",
            "Epoch 4/60\n",
            "\u001b[1m773/773\u001b[0m \u001b[32m━━━━━━━━━━━━━━━━━━━━\u001b[0m\u001b[37m\u001b[0m \u001b[1m2s\u001b[0m 3ms/step - accuracy: 0.0618 - loss: 0.1359\n",
            "Epoch 5/60\n",
            "\u001b[1m773/773\u001b[0m \u001b[32m━━━━━━━━━━━━━━━━━━━━\u001b[0m\u001b[37m\u001b[0m \u001b[1m3s\u001b[0m 3ms/step - accuracy: 0.0701 - loss: 0.1350\n",
            "Epoch 6/60\n",
            "\u001b[1m773/773\u001b[0m \u001b[32m━━━━━━━━━━━━━━━━━━━━\u001b[0m\u001b[37m\u001b[0m \u001b[1m3s\u001b[0m 3ms/step - accuracy: 0.0742 - loss: 0.1340\n",
            "Epoch 7/60\n",
            "\u001b[1m773/773\u001b[0m \u001b[32m━━━━━━━━━━━━━━━━━━━━\u001b[0m\u001b[37m\u001b[0m \u001b[1m2s\u001b[0m 3ms/step - accuracy: 0.0602 - loss: 0.1336\n",
            "Epoch 8/60\n",
            "\u001b[1m773/773\u001b[0m \u001b[32m━━━━━━━━━━━━━━━━━━━━\u001b[0m\u001b[37m\u001b[0m \u001b[1m3s\u001b[0m 4ms/step - accuracy: 0.0759 - loss: 0.1327\n",
            "Epoch 9/60\n",
            "\u001b[1m773/773\u001b[0m \u001b[32m━━━━━━━━━━━━━━━━━━━━\u001b[0m\u001b[37m\u001b[0m \u001b[1m4s\u001b[0m 3ms/step - accuracy: 0.0712 - loss: 0.1321\n",
            "Epoch 10/60\n",
            "\u001b[1m773/773\u001b[0m \u001b[32m━━━━━━━━━━━━━━━━━━━━\u001b[0m\u001b[37m\u001b[0m \u001b[1m2s\u001b[0m 3ms/step - accuracy: 0.0710 - loss: 0.1316\n",
            "Epoch 11/60\n",
            "\u001b[1m773/773\u001b[0m \u001b[32m━━━━━━━━━━━━━━━━━━━━\u001b[0m\u001b[37m\u001b[0m \u001b[1m2s\u001b[0m 2ms/step - accuracy: 0.0648 - loss: 0.1304\n",
            "Epoch 12/60\n",
            "\u001b[1m773/773\u001b[0m \u001b[32m━━━━━━━━━━━━━━━━━━━━\u001b[0m\u001b[37m\u001b[0m \u001b[1m3s\u001b[0m 3ms/step - accuracy: 0.0756 - loss: 0.1298\n",
            "Epoch 13/60\n",
            "\u001b[1m773/773\u001b[0m \u001b[32m━━━━━━━━━━━━━━━━━━━━\u001b[0m\u001b[37m\u001b[0m \u001b[1m4s\u001b[0m 3ms/step - accuracy: 0.0840 - loss: 0.1288\n",
            "Epoch 14/60\n",
            "\u001b[1m773/773\u001b[0m \u001b[32m━━━━━━━━━━━━━━━━━━━━\u001b[0m\u001b[37m\u001b[0m \u001b[1m2s\u001b[0m 3ms/step - accuracy: 0.0829 - loss: 0.1279\n",
            "Epoch 15/60\n",
            "\u001b[1m773/773\u001b[0m \u001b[32m━━━━━━━━━━━━━━━━━━━━\u001b[0m\u001b[37m\u001b[0m \u001b[1m2s\u001b[0m 3ms/step - accuracy: 0.0861 - loss: 0.1272\n",
            "Epoch 16/60\n",
            "\u001b[1m773/773\u001b[0m \u001b[32m━━━━━━━━━━━━━━━━━━━━\u001b[0m\u001b[37m\u001b[0m \u001b[1m3s\u001b[0m 3ms/step - accuracy: 0.0929 - loss: 0.1267\n",
            "Epoch 17/60\n",
            "\u001b[1m773/773\u001b[0m \u001b[32m━━━━━━━━━━━━━━━━━━━━\u001b[0m\u001b[37m\u001b[0m \u001b[1m3s\u001b[0m 4ms/step - accuracy: 0.0968 - loss: 0.1254\n",
            "Epoch 18/60\n",
            "\u001b[1m773/773\u001b[0m \u001b[32m━━━━━━━━━━━━━━━━━━━━\u001b[0m\u001b[37m\u001b[0m \u001b[1m2s\u001b[0m 3ms/step - accuracy: 0.0925 - loss: 0.1252\n",
            "Epoch 19/60\n",
            "\u001b[1m773/773\u001b[0m \u001b[32m━━━━━━━━━━━━━━━━━━━━\u001b[0m\u001b[37m\u001b[0m \u001b[1m2s\u001b[0m 3ms/step - accuracy: 0.1012 - loss: 0.1250\n",
            "Epoch 20/60\n",
            "\u001b[1m773/773\u001b[0m \u001b[32m━━━━━━━━━━━━━━━━━━━━\u001b[0m\u001b[37m\u001b[0m \u001b[1m2s\u001b[0m 3ms/step - accuracy: 0.0966 - loss: 0.1241\n",
            "Epoch 21/60\n",
            "\u001b[1m773/773\u001b[0m \u001b[32m━━━━━━━━━━━━━━━━━━━━\u001b[0m\u001b[37m\u001b[0m \u001b[1m2s\u001b[0m 3ms/step - accuracy: 0.1068 - loss: 0.1235\n",
            "Epoch 22/60\n",
            "\u001b[1m773/773\u001b[0m \u001b[32m━━━━━━━━━━━━━━━━━━━━\u001b[0m\u001b[37m\u001b[0m \u001b[1m3s\u001b[0m 3ms/step - accuracy: 0.1052 - loss: 0.1226\n",
            "Epoch 23/60\n",
            "\u001b[1m773/773\u001b[0m \u001b[32m━━━━━━━━━━━━━━━━━━━━\u001b[0m\u001b[37m\u001b[0m \u001b[1m3s\u001b[0m 4ms/step - accuracy: 0.0989 - loss: 0.1224\n",
            "Epoch 24/60\n",
            "\u001b[1m773/773\u001b[0m \u001b[32m━━━━━━━━━━━━━━━━━━━━\u001b[0m\u001b[37m\u001b[0m \u001b[1m5s\u001b[0m 3ms/step - accuracy: 0.1079 - loss: 0.1221\n",
            "Epoch 25/60\n",
            "\u001b[1m773/773\u001b[0m \u001b[32m━━━━━━━━━━━━━━━━━━━━\u001b[0m\u001b[37m\u001b[0m \u001b[1m4s\u001b[0m 3ms/step - accuracy: 0.1043 - loss: 0.1215\n",
            "Epoch 26/60\n",
            "\u001b[1m773/773\u001b[0m \u001b[32m━━━━━━━━━━━━━━━━━━━━\u001b[0m\u001b[37m\u001b[0m \u001b[1m3s\u001b[0m 4ms/step - accuracy: 0.0987 - loss: 0.1214\n",
            "Epoch 27/60\n",
            "\u001b[1m773/773\u001b[0m \u001b[32m━━━━━━━━━━━━━━━━━━━━\u001b[0m\u001b[37m\u001b[0m \u001b[1m4s\u001b[0m 3ms/step - accuracy: 0.1171 - loss: 0.1205\n",
            "Epoch 28/60\n",
            "\u001b[1m773/773\u001b[0m \u001b[32m━━━━━━━━━━━━━━━━━━━━\u001b[0m\u001b[37m\u001b[0m \u001b[1m2s\u001b[0m 2ms/step - accuracy: 0.1069 - loss: 0.1201\n",
            "Epoch 29/60\n",
            "\u001b[1m773/773\u001b[0m \u001b[32m━━━━━━━━━━━━━━━━━━━━\u001b[0m\u001b[37m\u001b[0m \u001b[1m3s\u001b[0m 3ms/step - accuracy: 0.1151 - loss: 0.1193\n",
            "Epoch 30/60\n",
            "\u001b[1m773/773\u001b[0m \u001b[32m━━━━━━━━━━━━━━━━━━━━\u001b[0m\u001b[37m\u001b[0m \u001b[1m3s\u001b[0m 3ms/step - accuracy: 0.1093 - loss: 0.1192\n",
            "Epoch 31/60\n",
            "\u001b[1m773/773\u001b[0m \u001b[32m━━━━━━━━━━━━━━━━━━━━\u001b[0m\u001b[37m\u001b[0m \u001b[1m3s\u001b[0m 4ms/step - accuracy: 0.1145 - loss: 0.1191\n",
            "Epoch 32/60\n",
            "\u001b[1m773/773\u001b[0m \u001b[32m━━━━━━━━━━━━━━━━━━━━\u001b[0m\u001b[37m\u001b[0m \u001b[1m2s\u001b[0m 3ms/step - accuracy: 0.1135 - loss: 0.1182\n",
            "Epoch 33/60\n",
            "\u001b[1m773/773\u001b[0m \u001b[32m━━━━━━━━━━━━━━━━━━━━\u001b[0m\u001b[37m\u001b[0m \u001b[1m2s\u001b[0m 2ms/step - accuracy: 0.1143 - loss: 0.1180\n",
            "Epoch 34/60\n",
            "\u001b[1m773/773\u001b[0m \u001b[32m━━━━━━━━━━━━━━━━━━━━\u001b[0m\u001b[37m\u001b[0m \u001b[1m3s\u001b[0m 3ms/step - accuracy: 0.1147 - loss: 0.1178\n",
            "Epoch 35/60\n",
            "\u001b[1m773/773\u001b[0m \u001b[32m━━━━━━━━━━━━━━━━━━━━\u001b[0m\u001b[37m\u001b[0m \u001b[1m2s\u001b[0m 3ms/step - accuracy: 0.1191 - loss: 0.1172\n",
            "Epoch 36/60\n",
            "\u001b[1m773/773\u001b[0m \u001b[32m━━━━━━━━━━━━━━━━━━━━\u001b[0m\u001b[37m\u001b[0m \u001b[1m4s\u001b[0m 4ms/step - accuracy: 0.1249 - loss: 0.1171\n",
            "Epoch 37/60\n",
            "\u001b[1m773/773\u001b[0m \u001b[32m━━━━━━━━━━━━━━━━━━━━\u001b[0m\u001b[37m\u001b[0m \u001b[1m4s\u001b[0m 3ms/step - accuracy: 0.1214 - loss: 0.1164\n",
            "Epoch 38/60\n",
            "\u001b[1m773/773\u001b[0m \u001b[32m━━━━━━━━━━━━━━━━━━━━\u001b[0m\u001b[37m\u001b[0m \u001b[1m2s\u001b[0m 3ms/step - accuracy: 0.1178 - loss: 0.1167\n",
            "Epoch 39/60\n",
            "\u001b[1m773/773\u001b[0m \u001b[32m━━━━━━━━━━━━━━━━━━━━\u001b[0m\u001b[37m\u001b[0m \u001b[1m2s\u001b[0m 3ms/step - accuracy: 0.1180 - loss: 0.1160\n",
            "Epoch 40/60\n",
            "\u001b[1m773/773\u001b[0m \u001b[32m━━━━━━━━━━━━━━━━━━━━\u001b[0m\u001b[37m\u001b[0m \u001b[1m3s\u001b[0m 4ms/step - accuracy: 0.1210 - loss: 0.1159\n",
            "Epoch 41/60\n",
            "\u001b[1m773/773\u001b[0m \u001b[32m━━━━━━━━━━━━━━━━━━━━\u001b[0m\u001b[37m\u001b[0m \u001b[1m4s\u001b[0m 3ms/step - accuracy: 0.1183 - loss: 0.1158\n",
            "Epoch 42/60\n",
            "\u001b[1m773/773\u001b[0m \u001b[32m━━━━━━━━━━━━━━━━━━━━\u001b[0m\u001b[37m\u001b[0m \u001b[1m2s\u001b[0m 3ms/step - accuracy: 0.1175 - loss: 0.1149\n",
            "Epoch 43/60\n",
            "\u001b[1m773/773\u001b[0m \u001b[32m━━━━━━━━━━━━━━━━━━━━\u001b[0m\u001b[37m\u001b[0m \u001b[1m3s\u001b[0m 3ms/step - accuracy: 0.1197 - loss: 0.1146\n",
            "Epoch 44/60\n",
            "\u001b[1m773/773\u001b[0m \u001b[32m━━━━━━━━━━━━━━━━━━━━\u001b[0m\u001b[37m\u001b[0m \u001b[1m2s\u001b[0m 3ms/step - accuracy: 0.1230 - loss: 0.1151\n",
            "Epoch 45/60\n",
            "\u001b[1m773/773\u001b[0m \u001b[32m━━━━━━━━━━━━━━━━━━━━\u001b[0m\u001b[37m\u001b[0m \u001b[1m3s\u001b[0m 3ms/step - accuracy: 0.1251 - loss: 0.1147\n",
            "Epoch 46/60\n",
            "\u001b[1m773/773\u001b[0m \u001b[32m━━━━━━━━━━━━━━━━━━━━\u001b[0m\u001b[37m\u001b[0m \u001b[1m5s\u001b[0m 3ms/step - accuracy: 0.1224 - loss: 0.1140\n",
            "Epoch 47/60\n",
            "\u001b[1m773/773\u001b[0m \u001b[32m━━━━━━━━━━━━━━━━━━━━\u001b[0m\u001b[37m\u001b[0m \u001b[1m3s\u001b[0m 3ms/step - accuracy: 0.1294 - loss: 0.1141\n",
            "Epoch 48/60\n",
            "\u001b[1m773/773\u001b[0m \u001b[32m━━━━━━━━━━━━━━━━━━━━\u001b[0m\u001b[37m\u001b[0m \u001b[1m2s\u001b[0m 3ms/step - accuracy: 0.1213 - loss: 0.1141\n",
            "Epoch 49/60\n",
            "\u001b[1m773/773\u001b[0m \u001b[32m━━━━━━━━━━━━━━━━━━━━\u001b[0m\u001b[37m\u001b[0m \u001b[1m3s\u001b[0m 3ms/step - accuracy: 0.1302 - loss: 0.1136\n",
            "Epoch 50/60\n",
            "\u001b[1m773/773\u001b[0m \u001b[32m━━━━━━━━━━━━━━━━━━━━\u001b[0m\u001b[37m\u001b[0m \u001b[1m4s\u001b[0m 4ms/step - accuracy: 0.1258 - loss: 0.1134\n",
            "Epoch 51/60\n",
            "\u001b[1m773/773\u001b[0m \u001b[32m━━━━━━━━━━━━━━━━━━━━\u001b[0m\u001b[37m\u001b[0m \u001b[1m4s\u001b[0m 3ms/step - accuracy: 0.1294 - loss: 0.1128\n",
            "Epoch 52/60\n",
            "\u001b[1m773/773\u001b[0m \u001b[32m━━━━━━━━━━━━━━━━━━━━\u001b[0m\u001b[37m\u001b[0m \u001b[1m3s\u001b[0m 3ms/step - accuracy: 0.1215 - loss: 0.1131\n",
            "Epoch 53/60\n",
            "\u001b[1m773/773\u001b[0m \u001b[32m━━━━━━━━━━━━━━━━━━━━\u001b[0m\u001b[37m\u001b[0m \u001b[1m2s\u001b[0m 3ms/step - accuracy: 0.1287 - loss: 0.1125\n",
            "Epoch 54/60\n",
            "\u001b[1m773/773\u001b[0m \u001b[32m━━━━━━━━━━━━━━━━━━━━\u001b[0m\u001b[37m\u001b[0m \u001b[1m3s\u001b[0m 4ms/step - accuracy: 0.1221 - loss: 0.1123\n",
            "Epoch 55/60\n",
            "\u001b[1m773/773\u001b[0m \u001b[32m━━━━━━━━━━━━━━━━━━━━\u001b[0m\u001b[37m\u001b[0m \u001b[1m3s\u001b[0m 4ms/step - accuracy: 0.1282 - loss: 0.1119\n",
            "Epoch 56/60\n",
            "\u001b[1m773/773\u001b[0m \u001b[32m━━━━━━━━━━━━━━━━━━━━\u001b[0m\u001b[37m\u001b[0m \u001b[1m4s\u001b[0m 3ms/step - accuracy: 0.1282 - loss: 0.1125\n",
            "Epoch 57/60\n",
            "\u001b[1m773/773\u001b[0m \u001b[32m━━━━━━━━━━━━━━━━━━━━\u001b[0m\u001b[37m\u001b[0m \u001b[1m2s\u001b[0m 3ms/step - accuracy: 0.1285 - loss: 0.1122\n",
            "Epoch 58/60\n",
            "\u001b[1m773/773\u001b[0m \u001b[32m━━━━━━━━━━━━━━━━━━━━\u001b[0m\u001b[37m\u001b[0m \u001b[1m3s\u001b[0m 3ms/step - accuracy: 0.1232 - loss: 0.1119\n",
            "Epoch 59/60\n",
            "\u001b[1m773/773\u001b[0m \u001b[32m━━━━━━━━━━━━━━━━━━━━\u001b[0m\u001b[37m\u001b[0m \u001b[1m4s\u001b[0m 4ms/step - accuracy: 0.1290 - loss: 0.1114\n",
            "Epoch 60/60\n",
            "\u001b[1m773/773\u001b[0m \u001b[32m━━━━━━━━━━━━━━━━━━━━\u001b[0m\u001b[37m\u001b[0m \u001b[1m2s\u001b[0m 3ms/step - accuracy: 0.1316 - loss: 0.1112\n"
          ]
        },
        {
          "data": {
            "image/png": "[encoded data removed]",
            "text/plain": [
              "<Figure size 1200x400 with 2 Axes>"
            ]
          },
          "metadata": {},
          "output_type": "display_data"
        }
      ],
      "source": [
        "def vectorize(op_team, hero_number=200):\n",
        "    vector = np.zeros(hero_number)\n",
        "    for h in op_team:\n",
        "        vector[h - 1] = 1\n",
        "    return vector\n",
        "\n",
        "def hero_picker_train(match_train, hero_number=200, debug=True):\n",
        "    X = []  # Вход: Проигравшая команда\n",
        "    Y = []  # Выход: Команда, которая их победила/побеждает\n",
        "    for match in match_train:\n",
        "        radiant = list(map(int, match['radiant_heroes']))\n",
        "        dire = list(map(int, match['dire_heroes']))\n",
        "        l = radiant\n",
        "        w = dire\n",
        "        # Если Radiant победили, то проиграла команда Dire\n",
        "        if match['winner']:\n",
        "            l = dire\n",
        "            w = radiant\n",
        "        X.append(vectorize(l, hero_number))\n",
        "        Y.append(vectorize(w, hero_number))\n",
        "    X = np.array(X)\n",
        "    Y = np.array(Y)\n",
        "\n",
        "    ### МОДЕЛЬ ###\n",
        "    model_config = {\n",
        "        'shape': hero_number,\n",
        "        'layers': [\n",
        "            {'type': 'Dense', 'units': 128, 'activation': 'relu'},\n",
        "            {'type': 'Dense', 'units': 64, 'activation': 'relu'},\n",
        "            {'type': 'Dense', 'units': 32, 'activation': 'relu'},\n",
        "            {'type': 'Dense', 'units': hero_number, 'activation': 'sigmoid'}\n",
        "        ]\n",
        "    }\n",
        "    model = Sequential()\n",
        "    model.add(layers.InputLayer(shape=(model_config['shape'],)))\n",
        "    for layer_conf in model_config['layers']:\n",
        "        model.add(layers.Dense(layer_conf['units'], activation=layer_conf['activation']))\n",
        "\n",
        "    ### ОБУЧЕНИЕ ###\n",
        "    model.compile(optimizer='adam', loss='binary_crossentropy', metrics=['accuracy'])\n",
        "    history = model.fit(X, Y, epochs=60, batch_size=10, verbose=1 if debug else 0)\n",
        "\n",
        "    if debug:\n",
        "        plt.figure(figsize=(12,4))\n",
        "        plt.subplot(1, 2, 1)\n",
        "        plt.plot(history.history['loss'], label='Train Loss')\n",
        "        plt.title('Loss')\n",
        "        plt.xlabel('Epoch')\n",
        "        plt.ylabel('Loss')\n",
        "        plt.legend()\n",
        "        plt.subplot(1, 2, 2)\n",
        "        plt.plot(history.history['accuracy'], label='Train Accuracy')\n",
        "        plt.title('Accuracy')\n",
        "        plt.xlabel('Epoch')\n",
        "        plt.ylabel('Accuracy')\n",
        "        plt.legend()\n",
        "        plt.show()\n",
        "    return model\n",
        "\n",
        "picker_model = hero_picker_train(match_train, hero_number=hero_num, debug=True)"
      ]
    },
    {
      "cell_type": "markdown",
      "metadata": {
        "id": "bW91t3RDJRXZ"
      },
      "source": [
        "Процент точности небольшой, но это связано с тем, что при обучении мы требовали угадать тех самых персонажей, которые обыграли пятёрку проигравших.\n",
        "При этом можно видеть, что обучение на графике происходило."
      ]
    },
    {
      "cell_type": "code",
      "execution_count": 34,
      "metadata": {
        "id": "IPwE0hrZxUMt"
      },
      "outputs": [],
      "source": [
        "def beautify(name):  # Обработка имён героев\n",
        "    return name.replace(\"-\", \" \").title()\n",
        "\n",
        "def hero_picker(model, lineup, extend=False, hero_number=200):\n",
        "    print(\"Способ задания команды:\\n1 - Сгенерировать случайную команду\\n2 - Ввести команду вручную\\n\")\n",
        "    choice = input(\"Выбор (1 или 2): \").strip()\n",
        "    if choice == \"1\":\n",
        "        opponent_lineup = rnd.sample(list(Heroes_id.values()), 5)\n",
        "    elif choice == \"2\":\n",
        "        user_input = input(\"Введите 5 героев (через запятые или пробелы): \").strip()\n",
        "        if ',' in user_input:\n",
        "            parts = [p.strip() for p in user_input.split(',')]\n",
        "        else:\n",
        "            parts = user_input.split()\n",
        "\n",
        "        opponent_lineup = []\n",
        "        for item in parts:\n",
        "            try:\n",
        "                hero_id = int(item)\n",
        "                if hero_id < 1 or hero_id > hero_number:\n",
        "                    print(f\"Ошибка: id героя {hero_id} должен быть от 1 до {hero_number}.\")\n",
        "                    continue\n",
        "                opponent_lineup.append(hero_id)\n",
        "            except ValueError:\n",
        "                found = False\n",
        "                for name, hid in Heroes_id.items():\n",
        "                    if name.lower() == item.lower():\n",
        "                        if hid < 1 or hid > hero_number:\n",
        "                            print(f\"Ошибка: id героя {hid} должен быть от 1 до {hero_number}.\")\n",
        "                            found = True\n",
        "                            break\n",
        "                        opponent_lineup.append(hid)\n",
        "                        found = True\n",
        "                        break\n",
        "                if not found:\n",
        "                    print(f\"Герой '{item}' не найден.\")\n",
        "    else:\n",
        "        print(\"Ошибка, генерирую случайную команду.\")\n",
        "        opponent_lineup = rnd.sample(list(Heroes_id.values()), 5)\n",
        "\n",
        "    X = vectorize(opponent_lineup, hero_number).reshape(1, -1)\n",
        "    preds = model.predict(X, verbose=0)[0]\n",
        "    preds = [round(p, 2) for p in preds]\n",
        "    recommended_indices = np.argsort(preds)[-5:][::-1]\n",
        "    recommended_heroes = [int(ind) + 1 for ind in recommended_indices]\n",
        "\n",
        "    print(\"\\nКоманда соперника:\")\n",
        "    for h in opponent_lineup:\n",
        "        print(f\"* {beautify(Heroes[h])}\")\n",
        "    print(\"\\nРекомендуемые герои:\")\n",
        "    if extend:\n",
        "        for idx in recommended_indices:\n",
        "            per = round(preds[idx] * 100, 2)\n",
        "            print(f\"* {beautify(Heroes[int(idx) + 1])} - {per}%\")\n",
        "    else:\n",
        "        for h in recommended_heroes:\n",
        "            print(f\"* {beautify(Heroes[h])}\")\n",
        "    return recommended_heroes"
      ]
    },
    {
      "cell_type": "markdown",
      "metadata": {
        "id": "A89LHZgaJh5i"
      },
      "source": [
        "Наконец, мы дописали подбор героев.\n",
        "\n",
        "Можно выбрать генератор команды соперника (протестировать работу), или ввести вручную\n",
        "\n",
        "Можно вводить id или в виде строчки\n",
        "\n",
        "Можно ввести от до 5 персонажей, ведь во время драфта ещё не все герои матча могут быть известны, а только часть.\n",
        "\n",
        "Параметр extend позволяет вывести точность выбора в процентах."
      ]
    },
    {
      "cell_type": "code",
      "execution_count": 41,
      "metadata": {
        "colab": {
          "base_uri": "https://localhost:8080/"
        },
        "id": "sGRPEz60vEKQ",
        "outputId": "dbe2ef55-46a9-453f-ff32-98ecf1fc2969"
      },
      "outputs": [
        {
          "name": "stdout",
          "output_type": "stream",
          "text": [
            "Способ задания команды:\n",
            "1 - Сгенерировать случайную команду\n",
            "2 - Ввести команду вручную\n",
            "\n",
            "Выбор (1 или 2): 2\n",
            "Введите 5 героев (через запятые или пробелы): 1 5 10 20 30\n",
            "\n",
            "Команда соперника:\n",
            "* Anti Mage\n",
            "* Crystal Maiden\n",
            "* Morphling\n",
            "* Vengeful Spirit\n",
            "* Witch Doctor\n",
            "\n",
            "Рекомендуемые герои:\n",
            "* Ogre Magi - 31.0%\n",
            "* Drow Ranger - 28.0%\n",
            "* Riki - 27.0%\n",
            "* Huskar - 25.0%\n",
            "* Spectre - 23.0%\n"
          ]
        }
      ],
      "source": [
        "opponent_heroes = rnd.sample(list(Heroes_id.values()), 5)\n",
        "recommended_heroes = hero_picker(picker_model, opponent_heroes, extend=True, hero_number=hero_num)"
      ]
    },
    {
      "cell_type": "markdown",
      "metadata": {
        "id": "n7YxgcOrJYrn"
      },
      "source": [
        "# Заключение"
      ]
    },
    {
      "cell_type": "markdown",
      "metadata": {
        "id": "BEy5g_D_5-h2"
      },
      "source": [
        "Мы обучили нашу модель на сформированном датасете и начились предсказывать с ветроятностью больше 50% исход матча, а так же написали подбор оптимальных контрпиков."
      ]
    }
  ],
  "metadata": {
    "colab": {
      "provenance": [],
      "toc_visible": true
    },
    "kernelspec": {
      "display_name": "Python 3",
      "name": "python3"
    },
    "language_info": {
      "name": "python"
    }
  },
  "nbformat": 4,
  "nbformat_minor": 0
}
